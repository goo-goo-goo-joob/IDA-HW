{
 "cells": [
  {
   "cell_type": "code",
   "execution_count": 2,
   "metadata": {
    "colab": {
     "base_uri": "https://localhost:8080/",
     "height": 35
    },
    "colab_type": "code",
    "id": "EYJU8grwWcSG",
    "outputId": "85384b3d-9909-4cd3-d507-3756d69468f1"
   },
   "outputs": [
    {
     "name": "stdout",
     "output_type": "stream",
     "text": [
      "TensorFlow 2.x selected.\n"
     ]
    }
   ],
   "source": [
    "%tensorflow_version 2.x"
   ]
  },
  {
   "cell_type": "code",
   "execution_count": 3,
   "metadata": {
    "colab": {
     "base_uri": "https://localhost:8080/",
     "height": 35
    },
    "colab_type": "code",
    "id": "dePTsU7OSWdd",
    "outputId": "c275edbc-d215-4da6-f3f8-e4dbe9641ce3"
   },
   "outputs": [
    {
     "name": "stdout",
     "output_type": "stream",
     "text": [
      "2.1.0\n"
     ]
    }
   ],
   "source": [
    "import numpy as np \n",
    "import pandas as pd \n",
    "import gc\n",
    "import os\n",
    "import json\n",
    "from tqdm import tqdm_notebook\n",
    "import tensorflow as tf\n",
    "print(tf.__version__)\n",
    "import pickle"
   ]
  },
  {
   "cell_type": "code",
   "execution_count": 4,
   "metadata": {
    "colab": {
     "base_uri": "https://localhost:8080/",
     "height": 35
    },
    "colab_type": "code",
    "id": "kd_2-OgbS2ey",
    "outputId": "13b6a315-983a-46dc-ab52-e50a2b58be4d"
   },
   "outputs": [
    {
     "name": "stdout",
     "output_type": "stream",
     "text": [
      "Drive already mounted at /content/drive; to attempt to forcibly remount, call drive.mount(\"/content/drive\", force_remount=True).\n"
     ]
    }
   ],
   "source": [
    "from google.colab import drive\n",
    "drive.mount('/content/drive')"
   ]
  },
  {
   "cell_type": "code",
   "execution_count": 0,
   "metadata": {
    "colab": {},
    "colab_type": "code",
    "id": "qAV1bOSdS4xL"
   },
   "outputs": [],
   "source": [
    "os.chdir('/content/drive/My Drive/Colab Notebooks Shared/IDA contests/Articles RecSys')"
   ]
  },
  {
   "cell_type": "markdown",
   "metadata": {
    "colab_type": "text",
    "id": "7M7PEXHKrKfc"
   },
   "source": [
    "## Read data"
   ]
  },
  {
   "cell_type": "code",
   "execution_count": 0,
   "metadata": {
    "colab": {},
    "colab_type": "code",
    "id": "EfR6bEo-S_C3"
   },
   "outputs": [],
   "source": [
    "def read_json(filename):\n",
    "    df = list()\n",
    "    with open(filename) as f:\n",
    "        for line in f:\n",
    "            df.append(json.loads(line))\n",
    "    return pd.DataFrame(df)"
   ]
  },
  {
   "cell_type": "code",
   "execution_count": 7,
   "metadata": {
    "colab": {
     "base_uri": "https://localhost:8080/",
     "height": 67,
     "referenced_widgets": [
      "5698ce2e6d6644f091be7c8c1c3882dc",
      "d2e760d086cd484c80b27de439ff5512",
      "af705cf8f6964b08979a27a04e02bc67",
      "497d993a12f54a4298c8821e5e2ea226",
      "fb7a51f701d9418094ff587f021edefb",
      "3e739ece61e04ffb9e0f93458e465d8b",
      "a7ac6d16cc714296a466a3184997a716",
      "a1460c9a0bbe4372b2560c0177a6a0be"
     ]
    },
    "colab_type": "code",
    "id": "Nrde3UmH7Bmw",
    "outputId": "d535b302-7869-42d6-ea00-2a8cc009f56e"
   },
   "outputs": [
    {
     "data": {
      "application/vnd.jupyter.widget-view+json": {
       "model_id": "5698ce2e6d6644f091be7c8c1c3882dc",
       "version_major": 2,
       "version_minor": 0
      },
      "text/plain": [
       "HBox(children=(IntProgress(value=1, bar_style='info', max=1), HTML(value='')))"
      ]
     },
     "metadata": {
      "tags": []
     },
     "output_type": "display_data"
    },
    {
     "name": "stdout",
     "output_type": "stream",
     "text": [
      "\n"
     ]
    }
   ],
   "source": [
    "items_list=[]\n",
    "with tqdm_notebook(open('items.json')) as inf:\n",
    "    for line in inf:\n",
    "        item=json.loads(line)\n",
    "        if isinstance(item['image'], float):\n",
    "            item['image']=[0 for _ in range(96)]\n",
    "            \n",
    "        item['image']=np.array(item['image'])\n",
    "        items_list.append(item)\n",
    "\n",
    "items=pd.DataFrame(items_list)"
   ]
  },
  {
   "cell_type": "code",
   "execution_count": 0,
   "metadata": {
    "colab": {},
    "colab_type": "code",
    "id": "_O0HQ0vn6YDC"
   },
   "outputs": [],
   "source": [
    "train = read_json('train.json')\n",
    "df = list()\n",
    "for index, row in train.iterrows():\n",
    "    for key, value in row['trainRatings'].items():\n",
    "        df.append([int(row['userId']), int(key), int(value)])\n",
    "df = pd.DataFrame(df, columns = ['userId', 'itemId', 'react'])"
   ]
  },
  {
   "cell_type": "code",
   "execution_count": 8,
   "metadata": {
    "colab": {
     "base_uri": "https://localhost:8080/",
     "height": 35
    },
    "colab_type": "code",
    "id": "yJ-gPu95quYJ",
    "outputId": "564bc4a2-82d0-4535-8047-6dab9035da1a"
   },
   "outputs": [
    {
     "data": {
      "text/plain": [
       "0"
      ]
     },
     "execution_count": 8,
     "metadata": {
      "tags": []
     },
     "output_type": "execute_result"
    }
   ],
   "source": [
    "del train\n",
    "gc.collect()\n",
    "#df.to_csv('train_user_item.csv', index=None)"
   ]
  },
  {
   "cell_type": "code",
   "execution_count": 8,
   "metadata": {
    "colab": {
     "base_uri": "https://localhost:8080/",
     "height": 72
    },
    "colab_type": "code",
    "id": "FtfvwRKBTA4w",
    "outputId": "1153cd2a-145a-4d53-96f8-78afa516d527"
   },
   "outputs": [
    {
     "name": "stderr",
     "output_type": "stream",
     "text": [
      "/usr/local/lib/python3.6/dist-packages/numpy/lib/arraysetops.py:568: FutureWarning: elementwise comparison failed; returning scalar instead, but in the future will perform elementwise comparison\n",
      "  mask |= (ar1 == a)\n"
     ]
    }
   ],
   "source": [
    "#df = pd.read_csv('train_user_item.csv', index_col=0)\n",
    "test = pd.read_csv('random_benchmark.csv')"
   ]
  },
  {
   "cell_type": "markdown",
   "metadata": {
    "colab_type": "text",
    "id": "Hke7TNm2z5Kc"
   },
   "source": [
    "## SVD"
   ]
  },
  {
   "cell_type": "markdown",
   "metadata": {
    "colab_type": "text",
    "id": "duZsbKp8tVx-"
   },
   "source": [
    "Получим предсказания для статей, которые когда-либо были просмотрены."
   ]
  },
  {
   "cell_type": "code",
   "execution_count": 0,
   "metadata": {
    "colab": {},
    "colab_type": "code",
    "id": "1tt7PCMWz8FQ"
   },
   "outputs": [],
   "source": [
    "from scipy.sparse import csr_matrix\n",
    "from scipy.sparse.linalg import svds"
   ]
  },
  {
   "cell_type": "code",
   "execution_count": 0,
   "metadata": {
    "colab": {},
    "colab_type": "code",
    "id": "4H6ixhD1z_gQ"
   },
   "outputs": [],
   "source": [
    "df['react'].replace(1, 10, inplace=True)\n",
    "df['react'] = df['react'].astype(np.float32)"
   ]
  },
  {
   "cell_type": "code",
   "execution_count": 0,
   "metadata": {
    "colab": {},
    "colab_type": "code",
    "id": "iMJlZ6Vzsly2"
   },
   "outputs": [],
   "source": [
    "df['userId'] = df['userId'].astype(np.int32)\n",
    "df['itemId'] = df['itemId'].astype(np.int32)"
   ]
  },
  {
   "cell_type": "code",
   "execution_count": 0,
   "metadata": {
    "colab": {},
    "colab_type": "code",
    "id": "3APzbfZUVw7U"
   },
   "outputs": [],
   "source": [
    "df['react'].replace(0, -1, inplace=True)"
   ]
  },
  {
   "cell_type": "code",
   "execution_count": 0,
   "metadata": {
    "colab": {},
    "colab_type": "code",
    "id": "msYqTgd70KY4"
   },
   "outputs": [],
   "source": [
    "R = csr_matrix((df['react'], (df['userId'], df['itemId'])))"
   ]
  },
  {
   "cell_type": "code",
   "execution_count": 0,
   "metadata": {
    "colab": {},
    "colab_type": "code",
    "id": "f2Ah8A4h0b14"
   },
   "outputs": [],
   "source": [
    "U, sigma, V = svds(R, k=100)"
   ]
  },
  {
   "cell_type": "code",
   "execution_count": 0,
   "metadata": {
    "colab": {},
    "colab_type": "code",
    "id": "-6WOTmOq0ht1"
   },
   "outputs": [],
   "source": [
    "rg_test = test.groupby('userId')['itemId'].agg(lambda x: list(x))"
   ]
  },
  {
   "cell_type": "code",
   "execution_count": 0,
   "metadata": {
    "colab": {},
    "colab_type": "code",
    "id": "-vVkE10y0hrb"
   },
   "outputs": [],
   "source": [
    "sigma = np.diag(sigma)"
   ]
  },
  {
   "cell_type": "code",
   "execution_count": 17,
   "metadata": {
    "colab": {
     "base_uri": "https://localhost:8080/",
     "height": 67,
     "referenced_widgets": [
      "112bd91e109f4963ae5146f6ca7c2a4d",
      "1b0c01e3e25743d88bc9de1bb42175a9",
      "0d98bb70123b4f48b95654bc64a1611c",
      "12fe9c1b726b4143bb2e36f97406b66b",
      "66ca73eabf234991b21f206935e26d85",
      "36817df0cac342b9b8e651a95abb9ca4",
      "4521050c97f2469e88b69c60cce10c6f",
      "f75ed6b13e7e485a9d886ad2fa6f83be"
     ]
    },
    "colab_type": "code",
    "id": "Ewbmhe1Z0hnH",
    "outputId": "1de60e25-8e39-4050-8ee8-3fa475a1729b"
   },
   "outputs": [
    {
     "data": {
      "application/vnd.jupyter.widget-view+json": {
       "model_id": "112bd91e109f4963ae5146f6ca7c2a4d",
       "version_major": 2,
       "version_minor": 0
      },
      "text/plain": [
       "HBox(children=(IntProgress(value=0, max=4349), HTML(value='')))"
      ]
     },
     "metadata": {
      "tags": []
     },
     "output_type": "display_data"
    },
    {
     "name": "stdout",
     "output_type": "stream",
     "text": [
      "\n"
     ]
    }
   ],
   "source": [
    "result_svd = []\n",
    "for userId, itemIds in tqdm_notebook(rg_test.iteritems(), total=len(rg_test)):\n",
    "    for itemId in itemIds:\n",
    "        result_svd.append({'userId': userId, 'itemId': itemId, 'react': U[userId] @ sigma @ V[:, itemId]})\n",
    "result_svd = pd.DataFrame(result_svd)"
   ]
  },
  {
   "cell_type": "code",
   "execution_count": 18,
   "metadata": {
    "colab": {
     "base_uri": "https://localhost:8080/",
     "height": 202
    },
    "colab_type": "code",
    "id": "ub4hr0_20pB6",
    "outputId": "17519b74-8dcb-4419-9e21-33163db6eafd"
   },
   "outputs": [
    {
     "data": {
      "text/html": [
       "<div>\n",
       "<style scoped>\n",
       "    .dataframe tbody tr th:only-of-type {\n",
       "        vertical-align: middle;\n",
       "    }\n",
       "\n",
       "    .dataframe tbody tr th {\n",
       "        vertical-align: top;\n",
       "    }\n",
       "\n",
       "    .dataframe thead th {\n",
       "        text-align: right;\n",
       "    }\n",
       "</style>\n",
       "<table border=\"1\" class=\"dataframe\">\n",
       "  <thead>\n",
       "    <tr style=\"text-align: right;\">\n",
       "      <th></th>\n",
       "      <th>userId</th>\n",
       "      <th>itemId</th>\n",
       "      <th>react</th>\n",
       "    </tr>\n",
       "  </thead>\n",
       "  <tbody>\n",
       "    <tr>\n",
       "      <th>0</th>\n",
       "      <td>1</td>\n",
       "      <td>242249</td>\n",
       "      <td>0.000000</td>\n",
       "    </tr>\n",
       "    <tr>\n",
       "      <th>1</th>\n",
       "      <td>1</td>\n",
       "      <td>117266</td>\n",
       "      <td>0.000000</td>\n",
       "    </tr>\n",
       "    <tr>\n",
       "      <th>2</th>\n",
       "      <td>1</td>\n",
       "      <td>123441</td>\n",
       "      <td>0.000000</td>\n",
       "    </tr>\n",
       "    <tr>\n",
       "      <th>3</th>\n",
       "      <td>1</td>\n",
       "      <td>148575</td>\n",
       "      <td>0.096142</td>\n",
       "    </tr>\n",
       "    <tr>\n",
       "      <th>4</th>\n",
       "      <td>1</td>\n",
       "      <td>155695</td>\n",
       "      <td>0.111911</td>\n",
       "    </tr>\n",
       "  </tbody>\n",
       "</table>\n",
       "</div>"
      ],
      "text/plain": [
       "   userId  itemId     react\n",
       "0       1  242249  0.000000\n",
       "1       1  117266  0.000000\n",
       "2       1  123441  0.000000\n",
       "3       1  148575  0.096142\n",
       "4       1  155695  0.111911"
      ]
     },
     "execution_count": 18,
     "metadata": {
      "tags": []
     },
     "output_type": "execute_result"
    }
   ],
   "source": [
    "result_svd.head()"
   ]
  },
  {
   "cell_type": "code",
   "execution_count": 0,
   "metadata": {
    "colab": {},
    "colab_type": "code",
    "id": "s3f9adQ90t7D"
   },
   "outputs": [],
   "source": [
    "# answ2 = result_svd.sort_values(['userId', 'react'], ascending=[True, False])\n",
    "# answ2.to_csv('svd.csv', index=None)\n",
    "# result_svd.to_csv('svd_score.csv', index=None)"
   ]
  },
  {
   "cell_type": "markdown",
   "metadata": {
    "colab_type": "text",
    "id": "WMq15feFrOmE"
   },
   "source": [
    "## Predict new popular items"
   ]
  },
  {
   "cell_type": "markdown",
   "metadata": {
    "colab_type": "text",
    "id": "8qA-EHwyXubk"
   },
   "source": [
    "Обучим модель, которая предсказывает популярные статьи на основе картинок и текста даже для новых айтемов."
   ]
  },
  {
   "cell_type": "code",
   "execution_count": 0,
   "metadata": {
    "colab": {},
    "colab_type": "code",
    "id": "hQfppeS_TLmn"
   },
   "outputs": [],
   "source": [
    "from tensorflow.keras.preprocessing.text import Tokenizer\n",
    "from tensorflow.keras.preprocessing.sequence import pad_sequences"
   ]
  },
  {
   "cell_type": "code",
   "execution_count": 0,
   "metadata": {
    "colab": {},
    "colab_type": "code",
    "id": "3I6ndlDrXG9b"
   },
   "outputs": [],
   "source": [
    "embed_size = 300 \n",
    "max_features = 20000 \n",
    "maxlen_text = 150 \n",
    "maxlen_head = 15\n",
    "maxlen_img = 96"
   ]
  },
  {
   "cell_type": "code",
   "execution_count": 0,
   "metadata": {
    "colab": {},
    "colab_type": "code",
    "id": "XM5iO5ia7Syj"
   },
   "outputs": [],
   "source": [
    "mask1 = items[items['itemId'].isin(df['itemId'].values)]\n",
    "#mask2 = items[items['itemId'].isin(test[test['itemNum'].isna()]['itemId'].values)]\n",
    "mask3 = items[items['itemId'].isin(test['itemId'].values)]"
   ]
  },
  {
   "cell_type": "code",
   "execution_count": 0,
   "metadata": {
    "colab": {},
    "colab_type": "code",
    "id": "yKm9lfJm6pDZ"
   },
   "outputs": [],
   "source": [
    "df['react'].replace(-1, 0, inplace=True)"
   ]
  },
  {
   "cell_type": "markdown",
   "metadata": {
    "colab_type": "text",
    "id": "sGjDjyFzxUOZ"
   },
   "source": [
    "Будем считать, что статья популярна, если среднее значение просмотров >= 0.1 (это примерно 20% статей). "
   ]
  },
  {
   "cell_type": "code",
   "execution_count": 0,
   "metadata": {
    "colab": {},
    "colab_type": "code",
    "id": "1KBVbQotYy12"
   },
   "outputs": [],
   "source": [
    "list_sentences_train = mask1.iloc[:,0].values \n",
    "#list_sentences_test_new = mask2.iloc[:,0].values\n",
    "list_sentences_test_all = mask3.iloc[:,0].values\n",
    "y = df.groupby('itemId')['react'].mean()\n",
    "y = (y >= 0.1).astype(np.int32)"
   ]
  },
  {
   "cell_type": "code",
   "execution_count": 0,
   "metadata": {
    "colab": {},
    "colab_type": "code",
    "id": "GrPFqD47rm_7"
   },
   "outputs": [],
   "source": [
    "list_sentences_train_head = mask1.iloc[:,3].values\n",
    "#list_sentences_test_new_head = mask2.iloc[:,3].values\n",
    "list_sentences_test_all_head = mask3.iloc[:,3].values"
   ]
  },
  {
   "cell_type": "code",
   "execution_count": 0,
   "metadata": {
    "colab": {},
    "colab_type": "code",
    "id": "DoPgdzm_v8xY"
   },
   "outputs": [],
   "source": [
    "x_train_img = np.stack(mask1['image'].values)\n",
    "#x_test_new_img = np.stack(mask2['image'].values)\n",
    "x_test_all_img = np.stack(mask3['image'].values)"
   ]
  },
  {
   "cell_type": "code",
   "execution_count": 0,
   "metadata": {
    "colab": {},
    "colab_type": "code",
    "id": "a2_jN-qBXHXj"
   },
   "outputs": [],
   "source": [
    "tokenizer = Tokenizer(num_words=max_features)\n",
    "tokenizer.fit_on_texts(list(list_sentences_train))\n",
    "x_train_pad = pad_sequences(tokenizer.texts_to_sequences(list_sentences_train), maxlen=maxlen_text)\n",
    "#x_test_pad_new = pad_sequences(tokenizer.texts_to_sequences(list_sentences_test_new), maxlen=maxlen_text)\n",
    "x_test_pad_all = pad_sequences(tokenizer.texts_to_sequences(list_sentences_test_all), maxlen=maxlen_text)"
   ]
  },
  {
   "cell_type": "code",
   "execution_count": 0,
   "metadata": {
    "colab": {},
    "colab_type": "code",
    "id": "V0ms79VsrmF1"
   },
   "outputs": [],
   "source": [
    "x_train_pad_head = pad_sequences(tokenizer.texts_to_sequences(list_sentences_train_head), maxlen=maxlen_head)\n",
    "#x_test_pad_new_head = pad_sequences(tokenizer.texts_to_sequences(list_sentences_test_new_head), maxlen=maxlen_head)\n",
    "x_test_pad_all_head = pad_sequences(tokenizer.texts_to_sequences(list_sentences_test_all_head), maxlen=maxlen_head)"
   ]
  },
  {
   "cell_type": "code",
   "execution_count": 0,
   "metadata": {
    "colab": {},
    "colab_type": "code",
    "id": "8iiSeRDgMejl"
   },
   "outputs": [],
   "source": [
    "x_all_content = pad_sequences(tokenizer.texts_to_sequences(items['content'].values), maxlen=maxlen_text)\n",
    "x_all_head = pad_sequences(tokenizer.texts_to_sequences(items['title'].values), maxlen=maxlen_head)\n",
    "x_all_img = np.stack(items['image'].values)"
   ]
  },
  {
   "cell_type": "code",
   "execution_count": 0,
   "metadata": {
    "colab": {},
    "colab_type": "code",
    "id": "NIr362b7bSKf"
   },
   "outputs": [],
   "source": [
    "from tensorflow.keras.models import save_model, load_model\n",
    "\n",
    "class ModelEndCallback(tf.keras.callbacks.Callback):\n",
    "\n",
    "    def __init__(self, file_name):\n",
    "        super(ModelEndCallback, self).__init__()\n",
    "        self.file_name = file_name\n",
    "\n",
    "    def on_epoch_end(self, epoch, logs=None):\n",
    "        save_model(self.model, self.file_name.format(epoch+1))\n",
    "\n",
    "def load_from_file(model_filename, last_epoch):\n",
    "    return load_model(model_filename.format(last_epoch))"
   ]
  },
  {
   "cell_type": "markdown",
   "metadata": {
    "colab_type": "text",
    "id": "SRGBEr4jeNlX"
   },
   "source": [
    "Эмбеддинг взят с [сайта](https://fasttext.cc/docs/en/crawl-vectors.html)"
   ]
  },
  {
   "cell_type": "code",
   "execution_count": 31,
   "metadata": {
    "colab": {
     "base_uri": "https://localhost:8080/",
     "height": 67,
     "referenced_widgets": [
      "451c1dc6da774bba919e10aa8047de8b",
      "470be5da81404e1c93997096c1a7fe59",
      "d58e18371a294f17a74d82c23aec0760",
      "4bad7271c4fb4454b8d537601466802f",
      "ba1b12ca0e9b492bbb8f717c1a7d157a",
      "fa27c5c26a6e45deb957552597314e8a",
      "eb9d46352399449886af23aaa8888de9",
      "ac6bbc7deff941919364a1822138b1c8"
     ]
    },
    "colab_type": "code",
    "id": "b6JnVhqAf6nc",
    "outputId": "886434b9-1288-4dc0-c1c3-e6585b45eafd"
   },
   "outputs": [
    {
     "data": {
      "application/vnd.jupyter.widget-view+json": {
       "model_id": "451c1dc6da774bba919e10aa8047de8b",
       "version_major": 2,
       "version_minor": 0
      },
      "text/plain": [
       "HBox(children=(IntProgress(value=1, bar_style='info', max=1), HTML(value='')))"
      ]
     },
     "metadata": {
      "tags": []
     },
     "output_type": "display_data"
    },
    {
     "name": "stdout",
     "output_type": "stream",
     "text": [
      "\n"
     ]
    }
   ],
   "source": [
    "f = open('./cc.ru.300.vec')\n",
    "embeddings_index = dict() \n",
    "for line in tqdm_notebook(f):\n",
    "    values = line.split(' ')\n",
    "    word = values[0]\n",
    "    coefs = np.asarray(values[1:], dtype='float32')\n",
    "    embeddings_index[word] = coefs\n",
    "f.close()"
   ]
  },
  {
   "cell_type": "code",
   "execution_count": 32,
   "metadata": {
    "colab": {
     "base_uri": "https://localhost:8080/",
     "height": 89
    },
    "colab_type": "code",
    "id": "9iuv5o2CgPHE",
    "outputId": "12951825-895e-4454-e68f-8c81428170da"
   },
   "outputs": [
    {
     "name": "stderr",
     "output_type": "stream",
     "text": [
      "/usr/local/lib/python3.6/dist-packages/IPython/core/interactiveshell.py:2822: FutureWarning: arrays to stack must be passed as a \"sequence\" type such as list or tuple. Support for non-sequence iterables such as generators is deprecated as of NumPy 1.16 and will raise an error in the future.\n",
      "  if self.run_code(code, result):\n"
     ]
    },
    {
     "data": {
      "text/plain": [
       "(-7.195237e-05, 0.054040156)"
      ]
     },
     "execution_count": 32,
     "metadata": {
      "tags": []
     },
     "output_type": "execute_result"
    }
   ],
   "source": [
    "all_embs = np.stack(embeddings_index.values())\n",
    "emb_mean, emb_std = all_embs.mean(), all_embs.std()\n",
    "emb_mean, emb_std"
   ]
  },
  {
   "cell_type": "code",
   "execution_count": 0,
   "metadata": {
    "colab": {},
    "colab_type": "code",
    "id": "qaxM1hopgP6m"
   },
   "outputs": [],
   "source": [
    "word_index = tokenizer.word_index\n",
    "unknown_words = set()\n",
    "nb_words = min(max_features, len(word_index))\n",
    "embedding_matrix = np.random.normal(emb_mean, emb_std, (nb_words, embed_size))\n",
    "for word, i in word_index.items():\n",
    "    if i >= max_features: continue\n",
    "    embedding_vector = embeddings_index.get(word)\n",
    "    if embedding_vector is not None: embedding_matrix[i] = embedding_vector\n",
    "    else: unknown_words.add(word)"
   ]
  },
  {
   "cell_type": "code",
   "execution_count": 0,
   "metadata": {
    "colab": {},
    "colab_type": "code",
    "id": "EnYrjJoFpQ8i"
   },
   "outputs": [],
   "source": [
    "from tensorflow.keras.layers import Dense, Input, GRU, Embedding, Dropout, Bidirectional, Flatten, LeakyReLU, BatchNormalization, LSTM, SpatialDropout1D, Conv1D, GlobalAveragePooling1D, GlobalMaxPooling1D, concatenate\n",
    "from tensorflow.keras.models import Model, Sequential\n",
    "from tensorflow.keras.optimizers import Adam\n",
    "from tensorflow.keras.callbacks import EarlyStopping, ReduceLROnPlateau, ModelCheckpoint, LearningRateScheduler"
   ]
  },
  {
   "cell_type": "code",
   "execution_count": 0,
   "metadata": {
    "colab": {},
    "colab_type": "code",
    "id": "lJJJfrRCbTv8"
   },
   "outputs": [],
   "source": [
    "def make_lstm(input_layer, units):\n",
    "    embedding = Embedding(max_features, embed_size, \n",
    "                          weights=[embedding_matrix], \n",
    "                          trainable = True)(input_layer)\n",
    "    x = Bidirectional(LSTM(units, return_sequences=True, dropout=0.1, recurrent_dropout=0.1))(embedding)\n",
    "    x1 = GlobalMaxPooling1D()(x)\n",
    "    x2 = GlobalAveragePooling1D()(x)\n",
    "    x = concatenate([x1, x2])   \n",
    "    return x\n",
    "\n",
    "def make_model(maxlen_text, maxlen_head):\n",
    "    initializer = tf.keras.initializers.glorot_normal()\n",
    "    input_text = Input((maxlen_text,), name = '0')\n",
    "    input_head = Input((maxlen_head,), name = '1')\n",
    "    input_img = Input((maxlen_img,), name = '2')\n",
    "    x1 = make_lstm(input_text, 80)  \n",
    "    x2 = make_lstm(input_head, 10)           \n",
    "    x3 = Dense(64, activation='relu')(input_img)\n",
    "\n",
    "    x = concatenate([x1, x2, x3])\n",
    "    x = Dense(80, activation=\"relu\", name=\"last_layer\")(x)\n",
    "    x = Dropout(0.1)(x)\n",
    "    output_layer = Dense(1, activation=\"sigmoid\")(x)\n",
    "\n",
    "    model = Model(inputs=[input_text, input_head, input_img], outputs=output_layer)\n",
    "    model.compile(loss='binary_crossentropy',\n",
    "                    optimizer=Adam(clipnorm=2, clipvalue=2),\n",
    "                    metrics=['accuracy', 'AUC'])\n",
    "    embed_model = Model(inputs=model.input, outputs=model.get_layer(\"last_layer\").output)\n",
    "    return model, embed_model\n",
    "\n",
    "def schedule(ind):\n",
    "    a = [0.001, 0.001, 0.0001, 0.0001, 0.00001, 0.00001, 0.000001]\n",
    "    return a[ind]\n",
    "\n",
    "lr = LearningRateScheduler(schedule)"
   ]
  },
  {
   "cell_type": "code",
   "execution_count": 36,
   "metadata": {
    "colab": {
     "base_uri": "https://localhost:8080/",
     "height": 124
    },
    "colab_type": "code",
    "id": "X_5yI0WmbTtC",
    "outputId": "a10bcbc6-7441-42e7-892b-924b1d429e8f"
   },
   "outputs": [
    {
     "name": "stdout",
     "output_type": "stream",
     "text": [
      "Train on 218120 samples, validate on 24236 samples\n",
      "Epoch 1/2\n",
      "218120/218120 [==============================] - 278s 1ms/sample - loss: 0.4103 - accuracy: 0.8459 - AUC: 0.6473 - val_loss: 0.4005 - val_accuracy: 0.8444 - val_AUC: 0.6939\n",
      "Epoch 2/2\n",
      "218120/218120 [==============================] - 268s 1ms/sample - loss: 0.3678 - accuracy: 0.8513 - AUC: 0.7609 - val_loss: 0.4081 - val_accuracy: 0.8430 - val_AUC: 0.6864\n"
     ]
    }
   ],
   "source": [
    "model_filename = '00_masha_text_weights_{0:02d}.hdf5'\n",
    "model, embed_model = make_model(maxlen_text, maxlen_head)\n",
    "history = model.fit([x_train_pad, x_train_pad_head, x_train_img], y, batch_size=512, epochs = 2, \n",
    "                    validation_split = 0.1, verbose = 1, callbacks = [lr, ModelEndCallback(model_filename)])"
   ]
  },
  {
   "cell_type": "code",
   "execution_count": 37,
   "metadata": {
    "colab": {
     "base_uri": "https://localhost:8080/",
     "height": 35
    },
    "colab_type": "code",
    "id": "OmKhczH5-i3K",
    "outputId": "6106df3d-179b-4ece-994a-57d38fa229a9"
   },
   "outputs": [
    {
     "name": "stdout",
     "output_type": "stream",
     "text": [
      "328050/328050 [==============================] - 26s 78us/sample\n"
     ]
    }
   ],
   "source": [
    "embed_data = embed_model.predict([x_all_content, x_all_head, x_all_img], batch_size=512*8, verbose=1)"
   ]
  },
  {
   "cell_type": "code",
   "execution_count": 0,
   "metadata": {
    "colab": {},
    "colab_type": "code",
    "id": "wdEQ6L2kQmCf"
   },
   "outputs": [],
   "source": [
    "#embed_data.dump('00_masha_embedding.pkl')"
   ]
  },
  {
   "cell_type": "code",
   "execution_count": 39,
   "metadata": {
    "colab": {
     "base_uri": "https://localhost:8080/",
     "height": 35
    },
    "colab_type": "code",
    "id": "IpNGfR6wbTqX",
    "outputId": "a2403a04-000e-4497-b740-f5c62fd57ea4"
   },
   "outputs": [
    {
     "name": "stdout",
     "output_type": "stream",
     "text": [
      "142491/142491 [==============================] - 31s 217us/sample\n"
     ]
    }
   ],
   "source": [
    "target1 = model.predict([x_test_pad_all, x_test_pad_all_head,  x_test_all_img], batch_size=512, verbose=1)\n",
    "#target2 = model.predict([x_test_pad_new, x_test_pad_new_head, x_test_new_img], batch_size=512, verbose=1)"
   ]
  },
  {
   "cell_type": "code",
   "execution_count": 0,
   "metadata": {
    "colab": {},
    "colab_type": "code",
    "id": "C5x-YJuNobRN"
   },
   "outputs": [],
   "source": [
    "ids1 = items[items['itemId'].isin(test['itemId'].values)].iloc[:,1].values\n",
    "#ids2 = items[items['itemId'].isin(test[test['itemNum'].isna()]['itemId'].values)].iloc[:,1].values"
   ]
  },
  {
   "cell_type": "code",
   "execution_count": 0,
   "metadata": {
    "colab": {},
    "colab_type": "code",
    "id": "5dXPBG1wbTZr"
   },
   "outputs": [],
   "source": [
    "res1 = pd.DataFrame(data={'itemId': ids1, 'react': target1[:, 0]})\n",
    "#res1.to_csv('00_masha_pop_all.csv', index=None)\n",
    "#res2 = pd.DataFrame(data={'itemId': ids2, 'react': target2[:, 0]})\n",
    "#res2.to_csv('00_masha_pop_new.csv', index=None)"
   ]
  },
  {
   "cell_type": "code",
   "execution_count": 42,
   "metadata": {
    "colab": {
     "base_uri": "https://localhost:8080/",
     "height": 202
    },
    "colab_type": "code",
    "id": "FEA-7fv9y_dE",
    "outputId": "c62b7884-fb5a-414f-b05e-ae9062f69bef"
   },
   "outputs": [
    {
     "data": {
      "text/html": [
       "<div>\n",
       "<style scoped>\n",
       "    .dataframe tbody tr th:only-of-type {\n",
       "        vertical-align: middle;\n",
       "    }\n",
       "\n",
       "    .dataframe tbody tr th {\n",
       "        vertical-align: top;\n",
       "    }\n",
       "\n",
       "    .dataframe thead th {\n",
       "        text-align: right;\n",
       "    }\n",
       "</style>\n",
       "<table border=\"1\" class=\"dataframe\">\n",
       "  <thead>\n",
       "    <tr style=\"text-align: right;\">\n",
       "      <th></th>\n",
       "      <th>itemId</th>\n",
       "      <th>react</th>\n",
       "    </tr>\n",
       "  </thead>\n",
       "  <tbody>\n",
       "    <tr>\n",
       "      <th>0</th>\n",
       "      <td>3</td>\n",
       "      <td>0.935964</td>\n",
       "    </tr>\n",
       "    <tr>\n",
       "      <th>1</th>\n",
       "      <td>5</td>\n",
       "      <td>0.905945</td>\n",
       "    </tr>\n",
       "    <tr>\n",
       "      <th>2</th>\n",
       "      <td>6</td>\n",
       "      <td>0.935081</td>\n",
       "    </tr>\n",
       "    <tr>\n",
       "      <th>3</th>\n",
       "      <td>7</td>\n",
       "      <td>0.933901</td>\n",
       "    </tr>\n",
       "    <tr>\n",
       "      <th>4</th>\n",
       "      <td>8</td>\n",
       "      <td>0.940302</td>\n",
       "    </tr>\n",
       "  </tbody>\n",
       "</table>\n",
       "</div>"
      ],
      "text/plain": [
       "   itemId     react\n",
       "0       3  0.935964\n",
       "1       5  0.905945\n",
       "2       6  0.935081\n",
       "3       7  0.933901\n",
       "4       8  0.940302"
      ]
     },
     "execution_count": 42,
     "metadata": {
      "tags": []
     },
     "output_type": "execute_result"
    }
   ],
   "source": [
    "res1.head()"
   ]
  },
  {
   "cell_type": "markdown",
   "metadata": {
    "colab_type": "text",
    "id": "Fuii0z0XSmI4"
   },
   "source": [
    "## Classifer on embedding"
   ]
  },
  {
   "cell_type": "markdown",
   "metadata": {
    "colab_type": "text",
    "id": "CFkT_9wOupIL"
   },
   "source": [
    "На полученном эмбеддинге из предыдущей модели обучим классификатор для каждого пользователя."
   ]
  },
  {
   "cell_type": "code",
   "execution_count": 0,
   "metadata": {
    "colab": {},
    "colab_type": "code",
    "id": "Gw8RLappSo8Y"
   },
   "outputs": [],
   "source": [
    "#rg_test = test.groupby('userId')['itemId'].agg(lambda x: list(x))\n",
    "rg_train = df.groupby('userId')[['itemId', 'react']].agg(lambda x: list(x))\n",
    "rg_all = rg_train.join(rg_test, on='userId', how='inner', rsuffix='_test')"
   ]
  },
  {
   "cell_type": "code",
   "execution_count": 0,
   "metadata": {
    "colab": {},
    "colab_type": "code",
    "id": "DpmZLcF2UBwF"
   },
   "outputs": [],
   "source": [
    "from sklearn.linear_model import SGDClassifier"
   ]
  },
  {
   "cell_type": "code",
   "execution_count": 0,
   "metadata": {
    "colab": {},
    "colab_type": "code",
    "id": "SvA7Sb9SSo3H"
   },
   "outputs": [],
   "source": [
    "result = []\n",
    "for userId, row in tqdm_notebook(rg_all.iterrows(), total=len(rg_all)):\n",
    "    item_train = row['itemId']\n",
    "    react_train = np.array(row['react']).astype(np.uint8)\n",
    "    item_test = row['itemId_test']\n",
    "\n",
    "    data_train = embed_data[item_train]\n",
    "    data_test = embed_data[item_test]\n",
    "\n",
    "    clf = SGDClassifier(loss='log', random_state=42)\n",
    "    clf.fit(data_train, react_train)\n",
    "    proba = clf.predict_proba(data_test)[:, 1]\n",
    "\n",
    "    result.extend(zip([userId] * len(proba), item_test, proba))\n",
    "    # result += list(zip([userId] * len(item_test), item_test, proba))\n",
    "result = pd.DataFrame(result)\n",
    "result.columns = ['userId', 'itemId', 'react']"
   ]
  },
  {
   "cell_type": "code",
   "execution_count": 0,
   "metadata": {
    "colab": {},
    "colab_type": "code",
    "id": "LEO6DaUpVLUc"
   },
   "outputs": [],
   "source": [
    "#result.to_pickle('00_masha_embedding_sgd_presubmit.pkl')"
   ]
  },
  {
   "cell_type": "markdown",
   "metadata": {
    "colab_type": "text",
    "id": "X2dFohuLUFqQ"
   },
   "source": [
    "## Concatenate results"
   ]
  },
  {
   "cell_type": "markdown",
   "metadata": {
    "colab_type": "text",
    "id": "5lv9Oma2v3oM"
   },
   "source": [
    "По отдельности все модели показывают среднее качество, но если объединить предсказания (это мои лучшие модели по качеству, которые удалось обучить), то можно хорошо подняться в лидерборде. Суммирование нормированных предсказаний не дало такого прироста качества, как ранжирование статей по сумме их порядковых нормеров из всех предсказаний."
   ]
  },
  {
   "cell_type": "code",
   "execution_count": 0,
   "metadata": {
    "colab": {},
    "colab_type": "code",
    "id": "gHz6n-6_ZF_u"
   },
   "outputs": [],
   "source": [
    "res1.set_index('itemId', inplace=True)"
   ]
  },
  {
   "cell_type": "code",
   "execution_count": 0,
   "metadata": {
    "colab": {},
    "colab_type": "code",
    "id": "Zk-e73HaVjXP"
   },
   "outputs": [],
   "source": [
    "result_nn = test.join(res1, on='itemId')[['userId', 'itemId', 'react']]"
   ]
  },
  {
   "cell_type": "code",
   "execution_count": 0,
   "metadata": {
    "colab": {},
    "colab_type": "code",
    "id": "t1uWE9ShYwsV"
   },
   "outputs": [],
   "source": [
    "result.set_index(['userId', 'itemId'], inplace=True)\n",
    "result_svd.set_index(['userId', 'itemId'], inplace=True)\n",
    "result_nn.set_index(['userId', 'itemId'], inplace=True)"
   ]
  },
  {
   "cell_type": "code",
   "execution_count": 0,
   "metadata": {
    "colab": {},
    "colab_type": "code",
    "id": "EjnY7H7iZ2EF"
   },
   "outputs": [],
   "source": [
    "result_full = result.join(result_svd, on=['userId', 'itemId'],rsuffix='_svd').join(result_nn, on=['userId', 'itemId'],rsuffix='_nn')"
   ]
  },
  {
   "cell_type": "code",
   "execution_count": 0,
   "metadata": {
    "colab": {},
    "colab_type": "code",
    "id": "uJZKWra4Zxfs"
   },
   "outputs": [],
   "source": [
    "#result_full.to_pickle('00_masha_sgd_svd_nn_raw_full.pkl')"
   ]
  },
  {
   "cell_type": "code",
   "execution_count": 0,
   "metadata": {
    "colab": {},
    "colab_type": "code",
    "id": "9BbBiWWjahlv"
   },
   "outputs": [],
   "source": [
    "result_full['react_svd_norm'] = (result_full['react_svd'] -  result_full['react_svd'].min())/(result_full['react_svd'].max() -  result_full['react_svd'].min())"
   ]
  },
  {
   "cell_type": "code",
   "execution_count": 0,
   "metadata": {
    "colab": {},
    "colab_type": "code",
    "id": "aHHgtGp5bIQh"
   },
   "outputs": [],
   "source": [
    "result_full['react_nn_norm'] = (result_full['react_nn'] -  result_full['react_nn'].min())/(result_full['react_nn'].max() -  result_full['react_nn'].min())"
   ]
  },
  {
   "cell_type": "code",
   "execution_count": 0,
   "metadata": {
    "colab": {},
    "colab_type": "code",
    "id": "F2m52FnYa_SQ"
   },
   "outputs": [],
   "source": [
    "result_full['react_sum'] = result_full['react'] + result_full['react_svd_norm'] + result_full['react_nn_norm']"
   ]
  },
  {
   "cell_type": "code",
   "execution_count": 0,
   "metadata": {
    "colab": {},
    "colab_type": "code",
    "id": "RyCeVc_-bsSA"
   },
   "outputs": [],
   "source": [
    "result_full.reset_index(inplace=True)"
   ]
  },
  {
   "cell_type": "code",
   "execution_count": 0,
   "metadata": {
    "colab": {
     "base_uri": "https://localhost:8080/",
     "height": 415
    },
    "colab_type": "code",
    "id": "cIbeSQ2Ndofp",
    "outputId": "05dcb8de-aca3-408f-c7eb-f82b87da4426"
   },
   "outputs": [
    {
     "data": {
      "text/html": [
       "<div>\n",
       "<style scoped>\n",
       "    .dataframe tbody tr th:only-of-type {\n",
       "        vertical-align: middle;\n",
       "    }\n",
       "\n",
       "    .dataframe tbody tr th {\n",
       "        vertical-align: top;\n",
       "    }\n",
       "\n",
       "    .dataframe thead th {\n",
       "        text-align: right;\n",
       "    }\n",
       "</style>\n",
       "<table border=\"1\" class=\"dataframe\">\n",
       "  <thead>\n",
       "    <tr style=\"text-align: right;\">\n",
       "      <th></th>\n",
       "      <th>userId</th>\n",
       "      <th>itemId</th>\n",
       "      <th>react</th>\n",
       "      <th>react_svd</th>\n",
       "      <th>react_nn</th>\n",
       "      <th>react_svd_norm</th>\n",
       "      <th>react_nn_norm</th>\n",
       "      <th>react_sum</th>\n",
       "    </tr>\n",
       "  </thead>\n",
       "  <tbody>\n",
       "    <tr>\n",
       "      <th>0</th>\n",
       "      <td>1</td>\n",
       "      <td>242249</td>\n",
       "      <td>0.180505</td>\n",
       "      <td>0.000000</td>\n",
       "      <td>0.255616</td>\n",
       "      <td>0.476692</td>\n",
       "      <td>0.284036</td>\n",
       "      <td>0.941233</td>\n",
       "    </tr>\n",
       "    <tr>\n",
       "      <th>1</th>\n",
       "      <td>1</td>\n",
       "      <td>117266</td>\n",
       "      <td>0.283809</td>\n",
       "      <td>0.000000</td>\n",
       "      <td>0.154825</td>\n",
       "      <td>0.476692</td>\n",
       "      <td>0.170319</td>\n",
       "      <td>0.930820</td>\n",
       "    </tr>\n",
       "    <tr>\n",
       "      <th>2</th>\n",
       "      <td>1</td>\n",
       "      <td>123441</td>\n",
       "      <td>0.189976</td>\n",
       "      <td>0.000000</td>\n",
       "      <td>0.221664</td>\n",
       "      <td>0.476692</td>\n",
       "      <td>0.245730</td>\n",
       "      <td>0.912398</td>\n",
       "    </tr>\n",
       "    <tr>\n",
       "      <th>3</th>\n",
       "      <td>1</td>\n",
       "      <td>148575</td>\n",
       "      <td>0.250512</td>\n",
       "      <td>0.096142</td>\n",
       "      <td>0.104330</td>\n",
       "      <td>0.482289</td>\n",
       "      <td>0.113348</td>\n",
       "      <td>0.846149</td>\n",
       "    </tr>\n",
       "    <tr>\n",
       "      <th>4</th>\n",
       "      <td>1</td>\n",
       "      <td>155695</td>\n",
       "      <td>0.244766</td>\n",
       "      <td>0.111911</td>\n",
       "      <td>0.179998</td>\n",
       "      <td>0.483207</td>\n",
       "      <td>0.198720</td>\n",
       "      <td>0.926693</td>\n",
       "    </tr>\n",
       "    <tr>\n",
       "      <th>...</th>\n",
       "      <td>...</td>\n",
       "      <td>...</td>\n",
       "      <td>...</td>\n",
       "      <td>...</td>\n",
       "      <td>...</td>\n",
       "      <td>...</td>\n",
       "      <td>...</td>\n",
       "      <td>...</td>\n",
       "    </tr>\n",
       "    <tr>\n",
       "      <th>3018181</th>\n",
       "      <td>42975</td>\n",
       "      <td>4202</td>\n",
       "      <td>0.059244</td>\n",
       "      <td>0.006989</td>\n",
       "      <td>0.496445</td>\n",
       "      <td>0.477099</td>\n",
       "      <td>0.555751</td>\n",
       "      <td>1.092094</td>\n",
       "    </tr>\n",
       "    <tr>\n",
       "      <th>3018182</th>\n",
       "      <td>42975</td>\n",
       "      <td>111136</td>\n",
       "      <td>0.021439</td>\n",
       "      <td>0.000000</td>\n",
       "      <td>0.299767</td>\n",
       "      <td>0.476692</td>\n",
       "      <td>0.333850</td>\n",
       "      <td>0.831981</td>\n",
       "    </tr>\n",
       "    <tr>\n",
       "      <th>3018183</th>\n",
       "      <td>42975</td>\n",
       "      <td>195676</td>\n",
       "      <td>0.026460</td>\n",
       "      <td>0.000000</td>\n",
       "      <td>0.099942</td>\n",
       "      <td>0.476692</td>\n",
       "      <td>0.108398</td>\n",
       "      <td>0.611549</td>\n",
       "    </tr>\n",
       "    <tr>\n",
       "      <th>3018184</th>\n",
       "      <td>42975</td>\n",
       "      <td>292604</td>\n",
       "      <td>0.016078</td>\n",
       "      <td>-0.006573</td>\n",
       "      <td>0.390884</td>\n",
       "      <td>0.476309</td>\n",
       "      <td>0.436652</td>\n",
       "      <td>0.929040</td>\n",
       "    </tr>\n",
       "    <tr>\n",
       "      <th>3018185</th>\n",
       "      <td>42975</td>\n",
       "      <td>303873</td>\n",
       "      <td>0.026008</td>\n",
       "      <td>0.000000</td>\n",
       "      <td>0.089759</td>\n",
       "      <td>0.476692</td>\n",
       "      <td>0.096910</td>\n",
       "      <td>0.599610</td>\n",
       "    </tr>\n",
       "  </tbody>\n",
       "</table>\n",
       "<p>3018186 rows × 8 columns</p>\n",
       "</div>"
      ],
      "text/plain": [
       "         userId  itemId     react  ...  react_svd_norm  react_nn_norm  react_sum\n",
       "0             1  242249  0.180505  ...        0.476692       0.284036   0.941233\n",
       "1             1  117266  0.283809  ...        0.476692       0.170319   0.930820\n",
       "2             1  123441  0.189976  ...        0.476692       0.245730   0.912398\n",
       "3             1  148575  0.250512  ...        0.482289       0.113348   0.846149\n",
       "4             1  155695  0.244766  ...        0.483207       0.198720   0.926693\n",
       "...         ...     ...       ...  ...             ...            ...        ...\n",
       "3018181   42975    4202  0.059244  ...        0.477099       0.555751   1.092094\n",
       "3018182   42975  111136  0.021439  ...        0.476692       0.333850   0.831981\n",
       "3018183   42975  195676  0.026460  ...        0.476692       0.108398   0.611549\n",
       "3018184   42975  292604  0.016078  ...        0.476309       0.436652   0.929040\n",
       "3018185   42975  303873  0.026008  ...        0.476692       0.096910   0.599610\n",
       "\n",
       "[3018186 rows x 8 columns]"
      ]
     },
     "execution_count": 95,
     "metadata": {
      "tags": []
     },
     "output_type": "execute_result"
    }
   ],
   "source": [
    "result_full"
   ]
  },
  {
   "cell_type": "code",
   "execution_count": 0,
   "metadata": {
    "colab": {},
    "colab_type": "code",
    "id": "4mteQmUmbZii"
   },
   "outputs": [],
   "source": [
    "#answer = result_full.sort_values(['userId', 'react_nn'], ascending=[True, False])\n",
    "#answer[['userId', 'itemId']].to_csv('00_masha_nn.csv', index=None)"
   ]
  },
  {
   "cell_type": "code",
   "execution_count": 0,
   "metadata": {
    "colab": {},
    "colab_type": "code",
    "id": "wvNk8JPHfyjU"
   },
   "outputs": [],
   "source": [
    "answer = result_full.sort_values(['userId', 'react_sum'], ascending=[True, False])\n",
    "#answer[['userId', 'itemId']].to_csv('00_masha_full.csv', index=None)"
   ]
  },
  {
   "cell_type": "code",
   "execution_count": 0,
   "metadata": {
    "colab": {},
    "colab_type": "code",
    "id": "Z_7v51Rpdn_T"
   },
   "outputs": [],
   "source": [
    "#result_full = pd.read_pickle('00_masha_full.pkl')"
   ]
  },
  {
   "cell_type": "code",
   "execution_count": 0,
   "metadata": {
    "colab": {},
    "colab_type": "code",
    "id": "GLC_W0PCdn5j"
   },
   "outputs": [],
   "source": [
    "df1 = result_full[['react']].sort_values(['userId', 'react'], ascending=[True, False])\n",
    "df2 = result_full[['react_svd']].sort_values(['userId', 'react_svd'], ascending=[True, False])\n",
    "df3 = result_full[['react_nn']].sort_values(['userId', 'react_nn'], ascending=[True, False])"
   ]
  },
  {
   "cell_type": "code",
   "execution_count": 0,
   "metadata": {
    "colab": {},
    "colab_type": "code",
    "id": "wsdsOv2GdWBa"
   },
   "outputs": [],
   "source": [
    "df1.reset_index(inplace=True)\n",
    "df2.reset_index(inplace=True)\n",
    "df3.reset_index(inplace=True)"
   ]
  },
  {
   "cell_type": "code",
   "execution_count": 0,
   "metadata": {
    "colab": {},
    "colab_type": "code",
    "id": "zm0bDzAHYBB7"
   },
   "outputs": [],
   "source": [
    "df1['index'] = df1.index\n",
    "df2['index'] = df2.index\n",
    "df3['index'] = df3.index"
   ]
  },
  {
   "cell_type": "code",
   "execution_count": 0,
   "metadata": {
    "colab": {},
    "colab_type": "code",
    "id": "OPMP9gTCdGkX"
   },
   "outputs": [],
   "source": [
    "df1 = df1.groupby(['userId', 'itemId'])['index'].mean()\n",
    "df2 = df2.groupby(['userId', 'itemId'])['index'].mean()\n",
    "df3 = df3.groupby(['userId', 'itemId'])['index'].mean()"
   ]
  },
  {
   "cell_type": "code",
   "execution_count": 0,
   "metadata": {
    "colab": {},
    "colab_type": "code",
    "id": "SzGaboEidV-g"
   },
   "outputs": [],
   "source": [
    "df1 = pd.DataFrame(df1)\n",
    "df2 = pd.DataFrame(df2)\n",
    "df3 = pd.DataFrame(df3)"
   ]
  },
  {
   "cell_type": "code",
   "execution_count": 0,
   "metadata": {
    "colab": {},
    "colab_type": "code",
    "id": "FdrY3qjjcle-"
   },
   "outputs": [],
   "source": [
    "df = df1.join(df2, on=['userId', 'itemId'],rsuffix='_2').join(df3, on=['userId', 'itemId'], rsuffix='_3')"
   ]
  },
  {
   "cell_type": "code",
   "execution_count": 0,
   "metadata": {
    "colab": {
     "base_uri": "https://localhost:8080/",
     "height": 233
    },
    "colab_type": "code",
    "id": "CV2pkyGDcRFO",
    "outputId": "c69897f2-9e39-4e36-9c32-b82e9f46c69b"
   },
   "outputs": [
    {
     "data": {
      "text/html": [
       "<div>\n",
       "<style scoped>\n",
       "    .dataframe tbody tr th:only-of-type {\n",
       "        vertical-align: middle;\n",
       "    }\n",
       "\n",
       "    .dataframe tbody tr th {\n",
       "        vertical-align: top;\n",
       "    }\n",
       "\n",
       "    .dataframe thead th {\n",
       "        text-align: right;\n",
       "    }\n",
       "</style>\n",
       "<table border=\"1\" class=\"dataframe\">\n",
       "  <thead>\n",
       "    <tr style=\"text-align: right;\">\n",
       "      <th></th>\n",
       "      <th></th>\n",
       "      <th>index</th>\n",
       "      <th>index_2</th>\n",
       "      <th>index_3</th>\n",
       "    </tr>\n",
       "    <tr>\n",
       "      <th>userId</th>\n",
       "      <th>itemId</th>\n",
       "      <th></th>\n",
       "      <th></th>\n",
       "      <th></th>\n",
       "    </tr>\n",
       "  </thead>\n",
       "  <tbody>\n",
       "    <tr>\n",
       "      <th rowspan=\"5\" valign=\"top\">1</th>\n",
       "      <th>307</th>\n",
       "      <td>0.000105</td>\n",
       "      <td>0.000044</td>\n",
       "      <td>0.000196</td>\n",
       "    </tr>\n",
       "    <tr>\n",
       "      <th>788</th>\n",
       "      <td>0.000101</td>\n",
       "      <td>0.000156</td>\n",
       "      <td>0.000153</td>\n",
       "    </tr>\n",
       "    <tr>\n",
       "      <th>1397</th>\n",
       "      <td>0.000091</td>\n",
       "      <td>0.000011</td>\n",
       "      <td>0.000095</td>\n",
       "    </tr>\n",
       "    <tr>\n",
       "      <th>1440</th>\n",
       "      <td>0.000137</td>\n",
       "      <td>0.000142</td>\n",
       "      <td>0.000093</td>\n",
       "    </tr>\n",
       "    <tr>\n",
       "      <th>1610</th>\n",
       "      <td>0.000056</td>\n",
       "      <td>0.000191</td>\n",
       "      <td>0.000078</td>\n",
       "    </tr>\n",
       "  </tbody>\n",
       "</table>\n",
       "</div>"
      ],
      "text/plain": [
       "                  index   index_2   index_3\n",
       "userId itemId                              \n",
       "1      307     0.000105  0.000044  0.000196\n",
       "       788     0.000101  0.000156  0.000153\n",
       "       1397    0.000091  0.000011  0.000095\n",
       "       1440    0.000137  0.000142  0.000093\n",
       "       1610    0.000056  0.000191  0.000078"
      ]
     },
     "execution_count": 90,
     "metadata": {
      "tags": []
     },
     "output_type": "execute_result"
    }
   ],
   "source": [
    "df.head()"
   ]
  },
  {
   "cell_type": "code",
   "execution_count": 0,
   "metadata": {
    "colab": {},
    "colab_type": "code",
    "id": "2zIc4vdMdgvP"
   },
   "outputs": [],
   "source": [
    "df['react'] = df['index'] + df['index_2']  + df['index_3']"
   ]
  },
  {
   "cell_type": "code",
   "execution_count": 0,
   "metadata": {
    "colab": {},
    "colab_type": "code",
    "id": "2T2bqPCBdo8x"
   },
   "outputs": [],
   "source": [
    "df.reset_index(inplace=True)"
   ]
  },
  {
   "cell_type": "code",
   "execution_count": 0,
   "metadata": {
    "colab": {},
    "colab_type": "code",
    "id": "iyvXxjHqdodR"
   },
   "outputs": [],
   "source": [
    "df.sort_values(['userId', 'react'], ascending=[True, True])[['userId', 'itemId']].to_csv('final_answer.csv', index=None)"
   ]
  },
  {
   "cell_type": "code",
   "execution_count": 0,
   "metadata": {
    "colab": {},
    "colab_type": "code",
    "id": "5c0hHnzO58YR"
   },
   "outputs": [],
   "source": []
  }
 ],
 "metadata": {
  "accelerator": "GPU",
  "colab": {
   "collapsed_sections": [],
   "machine_shape": "hm",
   "name": "TryItemFeatures.ipynb",
   "provenance": []
  },
  "kernelspec": {
   "display_name": "Python 3",
   "language": "python",
   "name": "python3"
  },
  "language_info": {
   "codemirror_mode": {
    "name": "ipython",
    "version": 3
   },
   "file_extension": ".py",
   "mimetype": "text/x-python",
   "name": "python",
   "nbconvert_exporter": "python",
   "pygments_lexer": "ipython3",
   "version": "3.7.1"
  },
  "widgets": {
   "application/vnd.jupyter.widget-state+json": {
    "0d98bb70123b4f48b95654bc64a1611c": {
     "model_module": "@jupyter-widgets/controls",
     "model_name": "IntProgressModel",
     "state": {
      "_dom_classes": [],
      "_model_module": "@jupyter-widgets/controls",
      "_model_module_version": "1.5.0",
      "_model_name": "IntProgressModel",
      "_view_count": null,
      "_view_module": "@jupyter-widgets/controls",
      "_view_module_version": "1.5.0",
      "_view_name": "ProgressView",
      "bar_style": "success",
      "description": "",
      "description_tooltip": null,
      "layout": "IPY_MODEL_36817df0cac342b9b8e651a95abb9ca4",
      "max": 4349,
      "min": 0,
      "orientation": "horizontal",
      "style": "IPY_MODEL_66ca73eabf234991b21f206935e26d85",
      "value": 4349
     }
    },
    "112bd91e109f4963ae5146f6ca7c2a4d": {
     "model_module": "@jupyter-widgets/controls",
     "model_name": "HBoxModel",
     "state": {
      "_dom_classes": [],
      "_model_module": "@jupyter-widgets/controls",
      "_model_module_version": "1.5.0",
      "_model_name": "HBoxModel",
      "_view_count": null,
      "_view_module": "@jupyter-widgets/controls",
      "_view_module_version": "1.5.0",
      "_view_name": "HBoxView",
      "box_style": "",
      "children": [
       "IPY_MODEL_0d98bb70123b4f48b95654bc64a1611c",
       "IPY_MODEL_12fe9c1b726b4143bb2e36f97406b66b"
      ],
      "layout": "IPY_MODEL_1b0c01e3e25743d88bc9de1bb42175a9"
     }
    },
    "12fe9c1b726b4143bb2e36f97406b66b": {
     "model_module": "@jupyter-widgets/controls",
     "model_name": "HTMLModel",
     "state": {
      "_dom_classes": [],
      "_model_module": "@jupyter-widgets/controls",
      "_model_module_version": "1.5.0",
      "_model_name": "HTMLModel",
      "_view_count": null,
      "_view_module": "@jupyter-widgets/controls",
      "_view_module_version": "1.5.0",
      "_view_name": "HTMLView",
      "description": "",
      "description_tooltip": null,
      "layout": "IPY_MODEL_f75ed6b13e7e485a9d886ad2fa6f83be",
      "placeholder": "​",
      "style": "IPY_MODEL_4521050c97f2469e88b69c60cce10c6f",
      "value": "100% 4349/4349 [00:44&lt;00:00, 97.74it/s]"
     }
    },
    "1b0c01e3e25743d88bc9de1bb42175a9": {
     "model_module": "@jupyter-widgets/base",
     "model_name": "LayoutModel",
     "state": {
      "_model_module": "@jupyter-widgets/base",
      "_model_module_version": "1.2.0",
      "_model_name": "LayoutModel",
      "_view_count": null,
      "_view_module": "@jupyter-widgets/base",
      "_view_module_version": "1.2.0",
      "_view_name": "LayoutView",
      "align_content": null,
      "align_items": null,
      "align_self": null,
      "border": null,
      "bottom": null,
      "display": null,
      "flex": null,
      "flex_flow": null,
      "grid_area": null,
      "grid_auto_columns": null,
      "grid_auto_flow": null,
      "grid_auto_rows": null,
      "grid_column": null,
      "grid_gap": null,
      "grid_row": null,
      "grid_template_areas": null,
      "grid_template_columns": null,
      "grid_template_rows": null,
      "height": null,
      "justify_content": null,
      "justify_items": null,
      "left": null,
      "margin": null,
      "max_height": null,
      "max_width": null,
      "min_height": null,
      "min_width": null,
      "object_fit": null,
      "object_position": null,
      "order": null,
      "overflow": null,
      "overflow_x": null,
      "overflow_y": null,
      "padding": null,
      "right": null,
      "top": null,
      "visibility": null,
      "width": null
     }
    },
    "36817df0cac342b9b8e651a95abb9ca4": {
     "model_module": "@jupyter-widgets/base",
     "model_name": "LayoutModel",
     "state": {
      "_model_module": "@jupyter-widgets/base",
      "_model_module_version": "1.2.0",
      "_model_name": "LayoutModel",
      "_view_count": null,
      "_view_module": "@jupyter-widgets/base",
      "_view_module_version": "1.2.0",
      "_view_name": "LayoutView",
      "align_content": null,
      "align_items": null,
      "align_self": null,
      "border": null,
      "bottom": null,
      "display": null,
      "flex": null,
      "flex_flow": null,
      "grid_area": null,
      "grid_auto_columns": null,
      "grid_auto_flow": null,
      "grid_auto_rows": null,
      "grid_column": null,
      "grid_gap": null,
      "grid_row": null,
      "grid_template_areas": null,
      "grid_template_columns": null,
      "grid_template_rows": null,
      "height": null,
      "justify_content": null,
      "justify_items": null,
      "left": null,
      "margin": null,
      "max_height": null,
      "max_width": null,
      "min_height": null,
      "min_width": null,
      "object_fit": null,
      "object_position": null,
      "order": null,
      "overflow": null,
      "overflow_x": null,
      "overflow_y": null,
      "padding": null,
      "right": null,
      "top": null,
      "visibility": null,
      "width": null
     }
    },
    "3e739ece61e04ffb9e0f93458e465d8b": {
     "model_module": "@jupyter-widgets/base",
     "model_name": "LayoutModel",
     "state": {
      "_model_module": "@jupyter-widgets/base",
      "_model_module_version": "1.2.0",
      "_model_name": "LayoutModel",
      "_view_count": null,
      "_view_module": "@jupyter-widgets/base",
      "_view_module_version": "1.2.0",
      "_view_name": "LayoutView",
      "align_content": null,
      "align_items": null,
      "align_self": null,
      "border": null,
      "bottom": null,
      "display": null,
      "flex": null,
      "flex_flow": null,
      "grid_area": null,
      "grid_auto_columns": null,
      "grid_auto_flow": null,
      "grid_auto_rows": null,
      "grid_column": null,
      "grid_gap": null,
      "grid_row": null,
      "grid_template_areas": null,
      "grid_template_columns": null,
      "grid_template_rows": null,
      "height": null,
      "justify_content": null,
      "justify_items": null,
      "left": null,
      "margin": null,
      "max_height": null,
      "max_width": null,
      "min_height": null,
      "min_width": null,
      "object_fit": null,
      "object_position": null,
      "order": null,
      "overflow": null,
      "overflow_x": null,
      "overflow_y": null,
      "padding": null,
      "right": null,
      "top": null,
      "visibility": null,
      "width": null
     }
    },
    "451c1dc6da774bba919e10aa8047de8b": {
     "model_module": "@jupyter-widgets/controls",
     "model_name": "HBoxModel",
     "state": {
      "_dom_classes": [],
      "_model_module": "@jupyter-widgets/controls",
      "_model_module_version": "1.5.0",
      "_model_name": "HBoxModel",
      "_view_count": null,
      "_view_module": "@jupyter-widgets/controls",
      "_view_module_version": "1.5.0",
      "_view_name": "HBoxView",
      "box_style": "",
      "children": [
       "IPY_MODEL_d58e18371a294f17a74d82c23aec0760",
       "IPY_MODEL_4bad7271c4fb4454b8d537601466802f"
      ],
      "layout": "IPY_MODEL_470be5da81404e1c93997096c1a7fe59"
     }
    },
    "4521050c97f2469e88b69c60cce10c6f": {
     "model_module": "@jupyter-widgets/controls",
     "model_name": "DescriptionStyleModel",
     "state": {
      "_model_module": "@jupyter-widgets/controls",
      "_model_module_version": "1.5.0",
      "_model_name": "DescriptionStyleModel",
      "_view_count": null,
      "_view_module": "@jupyter-widgets/base",
      "_view_module_version": "1.2.0",
      "_view_name": "StyleView",
      "description_width": ""
     }
    },
    "470be5da81404e1c93997096c1a7fe59": {
     "model_module": "@jupyter-widgets/base",
     "model_name": "LayoutModel",
     "state": {
      "_model_module": "@jupyter-widgets/base",
      "_model_module_version": "1.2.0",
      "_model_name": "LayoutModel",
      "_view_count": null,
      "_view_module": "@jupyter-widgets/base",
      "_view_module_version": "1.2.0",
      "_view_name": "LayoutView",
      "align_content": null,
      "align_items": null,
      "align_self": null,
      "border": null,
      "bottom": null,
      "display": null,
      "flex": null,
      "flex_flow": null,
      "grid_area": null,
      "grid_auto_columns": null,
      "grid_auto_flow": null,
      "grid_auto_rows": null,
      "grid_column": null,
      "grid_gap": null,
      "grid_row": null,
      "grid_template_areas": null,
      "grid_template_columns": null,
      "grid_template_rows": null,
      "height": null,
      "justify_content": null,
      "justify_items": null,
      "left": null,
      "margin": null,
      "max_height": null,
      "max_width": null,
      "min_height": null,
      "min_width": null,
      "object_fit": null,
      "object_position": null,
      "order": null,
      "overflow": null,
      "overflow_x": null,
      "overflow_y": null,
      "padding": null,
      "right": null,
      "top": null,
      "visibility": null,
      "width": null
     }
    },
    "497d993a12f54a4298c8821e5e2ea226": {
     "model_module": "@jupyter-widgets/controls",
     "model_name": "HTMLModel",
     "state": {
      "_dom_classes": [],
      "_model_module": "@jupyter-widgets/controls",
      "_model_module_version": "1.5.0",
      "_model_name": "HTMLModel",
      "_view_count": null,
      "_view_module": "@jupyter-widgets/controls",
      "_view_module_version": "1.5.0",
      "_view_name": "HTMLView",
      "description": "",
      "description_tooltip": null,
      "layout": "IPY_MODEL_a1460c9a0bbe4372b2560c0177a6a0be",
      "placeholder": "​",
      "style": "IPY_MODEL_a7ac6d16cc714296a466a3184997a716",
      "value": "328050it [00:33, 9838.22it/s]"
     }
    },
    "4bad7271c4fb4454b8d537601466802f": {
     "model_module": "@jupyter-widgets/controls",
     "model_name": "HTMLModel",
     "state": {
      "_dom_classes": [],
      "_model_module": "@jupyter-widgets/controls",
      "_model_module_version": "1.5.0",
      "_model_name": "HTMLModel",
      "_view_count": null,
      "_view_module": "@jupyter-widgets/controls",
      "_view_module_version": "1.5.0",
      "_view_name": "HTMLView",
      "description": "",
      "description_tooltip": null,
      "layout": "IPY_MODEL_ac6bbc7deff941919364a1822138b1c8",
      "placeholder": "​",
      "style": "IPY_MODEL_eb9d46352399449886af23aaa8888de9",
      "value": "2000001it [02:29, 13402.27it/s]"
     }
    },
    "5698ce2e6d6644f091be7c8c1c3882dc": {
     "model_module": "@jupyter-widgets/controls",
     "model_name": "HBoxModel",
     "state": {
      "_dom_classes": [],
      "_model_module": "@jupyter-widgets/controls",
      "_model_module_version": "1.5.0",
      "_model_name": "HBoxModel",
      "_view_count": null,
      "_view_module": "@jupyter-widgets/controls",
      "_view_module_version": "1.5.0",
      "_view_name": "HBoxView",
      "box_style": "",
      "children": [
       "IPY_MODEL_af705cf8f6964b08979a27a04e02bc67",
       "IPY_MODEL_497d993a12f54a4298c8821e5e2ea226"
      ],
      "layout": "IPY_MODEL_d2e760d086cd484c80b27de439ff5512"
     }
    },
    "66ca73eabf234991b21f206935e26d85": {
     "model_module": "@jupyter-widgets/controls",
     "model_name": "ProgressStyleModel",
     "state": {
      "_model_module": "@jupyter-widgets/controls",
      "_model_module_version": "1.5.0",
      "_model_name": "ProgressStyleModel",
      "_view_count": null,
      "_view_module": "@jupyter-widgets/base",
      "_view_module_version": "1.2.0",
      "_view_name": "StyleView",
      "bar_color": null,
      "description_width": ""
     }
    },
    "a1460c9a0bbe4372b2560c0177a6a0be": {
     "model_module": "@jupyter-widgets/base",
     "model_name": "LayoutModel",
     "state": {
      "_model_module": "@jupyter-widgets/base",
      "_model_module_version": "1.2.0",
      "_model_name": "LayoutModel",
      "_view_count": null,
      "_view_module": "@jupyter-widgets/base",
      "_view_module_version": "1.2.0",
      "_view_name": "LayoutView",
      "align_content": null,
      "align_items": null,
      "align_self": null,
      "border": null,
      "bottom": null,
      "display": null,
      "flex": null,
      "flex_flow": null,
      "grid_area": null,
      "grid_auto_columns": null,
      "grid_auto_flow": null,
      "grid_auto_rows": null,
      "grid_column": null,
      "grid_gap": null,
      "grid_row": null,
      "grid_template_areas": null,
      "grid_template_columns": null,
      "grid_template_rows": null,
      "height": null,
      "justify_content": null,
      "justify_items": null,
      "left": null,
      "margin": null,
      "max_height": null,
      "max_width": null,
      "min_height": null,
      "min_width": null,
      "object_fit": null,
      "object_position": null,
      "order": null,
      "overflow": null,
      "overflow_x": null,
      "overflow_y": null,
      "padding": null,
      "right": null,
      "top": null,
      "visibility": null,
      "width": null
     }
    },
    "a7ac6d16cc714296a466a3184997a716": {
     "model_module": "@jupyter-widgets/controls",
     "model_name": "DescriptionStyleModel",
     "state": {
      "_model_module": "@jupyter-widgets/controls",
      "_model_module_version": "1.5.0",
      "_model_name": "DescriptionStyleModel",
      "_view_count": null,
      "_view_module": "@jupyter-widgets/base",
      "_view_module_version": "1.2.0",
      "_view_name": "StyleView",
      "description_width": ""
     }
    },
    "ac6bbc7deff941919364a1822138b1c8": {
     "model_module": "@jupyter-widgets/base",
     "model_name": "LayoutModel",
     "state": {
      "_model_module": "@jupyter-widgets/base",
      "_model_module_version": "1.2.0",
      "_model_name": "LayoutModel",
      "_view_count": null,
      "_view_module": "@jupyter-widgets/base",
      "_view_module_version": "1.2.0",
      "_view_name": "LayoutView",
      "align_content": null,
      "align_items": null,
      "align_self": null,
      "border": null,
      "bottom": null,
      "display": null,
      "flex": null,
      "flex_flow": null,
      "grid_area": null,
      "grid_auto_columns": null,
      "grid_auto_flow": null,
      "grid_auto_rows": null,
      "grid_column": null,
      "grid_gap": null,
      "grid_row": null,
      "grid_template_areas": null,
      "grid_template_columns": null,
      "grid_template_rows": null,
      "height": null,
      "justify_content": null,
      "justify_items": null,
      "left": null,
      "margin": null,
      "max_height": null,
      "max_width": null,
      "min_height": null,
      "min_width": null,
      "object_fit": null,
      "object_position": null,
      "order": null,
      "overflow": null,
      "overflow_x": null,
      "overflow_y": null,
      "padding": null,
      "right": null,
      "top": null,
      "visibility": null,
      "width": null
     }
    },
    "af705cf8f6964b08979a27a04e02bc67": {
     "model_module": "@jupyter-widgets/controls",
     "model_name": "IntProgressModel",
     "state": {
      "_dom_classes": [],
      "_model_module": "@jupyter-widgets/controls",
      "_model_module_version": "1.5.0",
      "_model_name": "IntProgressModel",
      "_view_count": null,
      "_view_module": "@jupyter-widgets/controls",
      "_view_module_version": "1.5.0",
      "_view_name": "ProgressView",
      "bar_style": "success",
      "description": "",
      "description_tooltip": null,
      "layout": "IPY_MODEL_3e739ece61e04ffb9e0f93458e465d8b",
      "max": 1,
      "min": 0,
      "orientation": "horizontal",
      "style": "IPY_MODEL_fb7a51f701d9418094ff587f021edefb",
      "value": 1
     }
    },
    "ba1b12ca0e9b492bbb8f717c1a7d157a": {
     "model_module": "@jupyter-widgets/controls",
     "model_name": "ProgressStyleModel",
     "state": {
      "_model_module": "@jupyter-widgets/controls",
      "_model_module_version": "1.5.0",
      "_model_name": "ProgressStyleModel",
      "_view_count": null,
      "_view_module": "@jupyter-widgets/base",
      "_view_module_version": "1.2.0",
      "_view_name": "StyleView",
      "bar_color": null,
      "description_width": ""
     }
    },
    "d2e760d086cd484c80b27de439ff5512": {
     "model_module": "@jupyter-widgets/base",
     "model_name": "LayoutModel",
     "state": {
      "_model_module": "@jupyter-widgets/base",
      "_model_module_version": "1.2.0",
      "_model_name": "LayoutModel",
      "_view_count": null,
      "_view_module": "@jupyter-widgets/base",
      "_view_module_version": "1.2.0",
      "_view_name": "LayoutView",
      "align_content": null,
      "align_items": null,
      "align_self": null,
      "border": null,
      "bottom": null,
      "display": null,
      "flex": null,
      "flex_flow": null,
      "grid_area": null,
      "grid_auto_columns": null,
      "grid_auto_flow": null,
      "grid_auto_rows": null,
      "grid_column": null,
      "grid_gap": null,
      "grid_row": null,
      "grid_template_areas": null,
      "grid_template_columns": null,
      "grid_template_rows": null,
      "height": null,
      "justify_content": null,
      "justify_items": null,
      "left": null,
      "margin": null,
      "max_height": null,
      "max_width": null,
      "min_height": null,
      "min_width": null,
      "object_fit": null,
      "object_position": null,
      "order": null,
      "overflow": null,
      "overflow_x": null,
      "overflow_y": null,
      "padding": null,
      "right": null,
      "top": null,
      "visibility": null,
      "width": null
     }
    },
    "d58e18371a294f17a74d82c23aec0760": {
     "model_module": "@jupyter-widgets/controls",
     "model_name": "IntProgressModel",
     "state": {
      "_dom_classes": [],
      "_model_module": "@jupyter-widgets/controls",
      "_model_module_version": "1.5.0",
      "_model_name": "IntProgressModel",
      "_view_count": null,
      "_view_module": "@jupyter-widgets/controls",
      "_view_module_version": "1.5.0",
      "_view_name": "ProgressView",
      "bar_style": "success",
      "description": "",
      "description_tooltip": null,
      "layout": "IPY_MODEL_fa27c5c26a6e45deb957552597314e8a",
      "max": 1,
      "min": 0,
      "orientation": "horizontal",
      "style": "IPY_MODEL_ba1b12ca0e9b492bbb8f717c1a7d157a",
      "value": 1
     }
    },
    "eb9d46352399449886af23aaa8888de9": {
     "model_module": "@jupyter-widgets/controls",
     "model_name": "DescriptionStyleModel",
     "state": {
      "_model_module": "@jupyter-widgets/controls",
      "_model_module_version": "1.5.0",
      "_model_name": "DescriptionStyleModel",
      "_view_count": null,
      "_view_module": "@jupyter-widgets/base",
      "_view_module_version": "1.2.0",
      "_view_name": "StyleView",
      "description_width": ""
     }
    },
    "f75ed6b13e7e485a9d886ad2fa6f83be": {
     "model_module": "@jupyter-widgets/base",
     "model_name": "LayoutModel",
     "state": {
      "_model_module": "@jupyter-widgets/base",
      "_model_module_version": "1.2.0",
      "_model_name": "LayoutModel",
      "_view_count": null,
      "_view_module": "@jupyter-widgets/base",
      "_view_module_version": "1.2.0",
      "_view_name": "LayoutView",
      "align_content": null,
      "align_items": null,
      "align_self": null,
      "border": null,
      "bottom": null,
      "display": null,
      "flex": null,
      "flex_flow": null,
      "grid_area": null,
      "grid_auto_columns": null,
      "grid_auto_flow": null,
      "grid_auto_rows": null,
      "grid_column": null,
      "grid_gap": null,
      "grid_row": null,
      "grid_template_areas": null,
      "grid_template_columns": null,
      "grid_template_rows": null,
      "height": null,
      "justify_content": null,
      "justify_items": null,
      "left": null,
      "margin": null,
      "max_height": null,
      "max_width": null,
      "min_height": null,
      "min_width": null,
      "object_fit": null,
      "object_position": null,
      "order": null,
      "overflow": null,
      "overflow_x": null,
      "overflow_y": null,
      "padding": null,
      "right": null,
      "top": null,
      "visibility": null,
      "width": null
     }
    },
    "fa27c5c26a6e45deb957552597314e8a": {
     "model_module": "@jupyter-widgets/base",
     "model_name": "LayoutModel",
     "state": {
      "_model_module": "@jupyter-widgets/base",
      "_model_module_version": "1.2.0",
      "_model_name": "LayoutModel",
      "_view_count": null,
      "_view_module": "@jupyter-widgets/base",
      "_view_module_version": "1.2.0",
      "_view_name": "LayoutView",
      "align_content": null,
      "align_items": null,
      "align_self": null,
      "border": null,
      "bottom": null,
      "display": null,
      "flex": null,
      "flex_flow": null,
      "grid_area": null,
      "grid_auto_columns": null,
      "grid_auto_flow": null,
      "grid_auto_rows": null,
      "grid_column": null,
      "grid_gap": null,
      "grid_row": null,
      "grid_template_areas": null,
      "grid_template_columns": null,
      "grid_template_rows": null,
      "height": null,
      "justify_content": null,
      "justify_items": null,
      "left": null,
      "margin": null,
      "max_height": null,
      "max_width": null,
      "min_height": null,
      "min_width": null,
      "object_fit": null,
      "object_position": null,
      "order": null,
      "overflow": null,
      "overflow_x": null,
      "overflow_y": null,
      "padding": null,
      "right": null,
      "top": null,
      "visibility": null,
      "width": null
     }
    },
    "fb7a51f701d9418094ff587f021edefb": {
     "model_module": "@jupyter-widgets/controls",
     "model_name": "ProgressStyleModel",
     "state": {
      "_model_module": "@jupyter-widgets/controls",
      "_model_module_version": "1.5.0",
      "_model_name": "ProgressStyleModel",
      "_view_count": null,
      "_view_module": "@jupyter-widgets/base",
      "_view_module_version": "1.2.0",
      "_view_name": "StyleView",
      "bar_color": null,
      "description_width": ""
     }
    }
   }
  }
 },
 "nbformat": 4,
 "nbformat_minor": 1
}

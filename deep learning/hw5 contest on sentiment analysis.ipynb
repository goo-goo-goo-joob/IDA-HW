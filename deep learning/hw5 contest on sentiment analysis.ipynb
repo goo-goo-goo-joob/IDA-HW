{
 "cells": [
  {
   "cell_type": "code",
   "execution_count": 1,
   "metadata": {
    "colab": {
     "base_uri": "https://localhost:8080/",
     "height": 35
    },
    "colab_type": "code",
    "executionInfo": {
     "elapsed": 1321,
     "status": "ok",
     "timestamp": 1577128670376,
     "user": {
      "displayName": "Мария Самоделкина",
      "photoUrl": "https://lh3.googleusercontent.com/a-/AAuE7mCNrrlMvZMi6cRpGG0hsPG8X7M5NNithtFMaMr3=s64",
      "userId": "17402028678637097716"
     },
     "user_tz": -180
    },
    "id": "UTBqruq50ZYe",
    "outputId": "9d65cb26-8131-4069-9b25-41ddcf8e429d"
   },
   "outputs": [
    {
     "name": "stdout",
     "output_type": "stream",
     "text": [
      "TensorFlow 2.x selected.\n"
     ]
    }
   ],
   "source": [
    "%tensorflow_version 2.x"
   ]
  },
  {
   "cell_type": "code",
   "execution_count": 2,
   "metadata": {
    "colab": {
     "base_uri": "https://localhost:8080/",
     "height": 35
    },
    "colab_type": "code",
    "executionInfo": {
     "elapsed": 2810,
     "status": "ok",
     "timestamp": 1577128675054,
     "user": {
      "displayName": "Мария Самоделкина",
      "photoUrl": "https://lh3.googleusercontent.com/a-/AAuE7mCNrrlMvZMi6cRpGG0hsPG8X7M5NNithtFMaMr3=s64",
      "userId": "17402028678637097716"
     },
     "user_tz": -180
    },
    "id": "h-ztZKdi6xU1",
    "outputId": "831c6fd0-c594-43bd-8a3b-4af005664d4e"
   },
   "outputs": [
    {
     "name": "stdout",
     "output_type": "stream",
     "text": [
      "2.1.0-rc1\n"
     ]
    }
   ],
   "source": [
    "import numpy as np \n",
    "import pandas as pd \n",
    "import gc\n",
    "import os\n",
    "import tensorflow as tf\n",
    "import string\n",
    "print(tf.__version__)"
   ]
  },
  {
   "cell_type": "code",
   "execution_count": 3,
   "metadata": {
    "colab": {
     "base_uri": "https://localhost:8080/",
     "height": 35
    },
    "colab_type": "code",
    "executionInfo": {
     "elapsed": 1279,
     "status": "ok",
     "timestamp": 1577128698254,
     "user": {
      "displayName": "Мария Самоделкина",
      "photoUrl": "https://lh3.googleusercontent.com/a-/AAuE7mCNrrlMvZMi6cRpGG0hsPG8X7M5NNithtFMaMr3=s64",
      "userId": "17402028678637097716"
     },
     "user_tz": -180
    },
    "id": "14p1BxyS6zMe",
    "outputId": "60c224d0-49a2-4707-9288-e51f31d9fd1c"
   },
   "outputs": [
    {
     "name": "stdout",
     "output_type": "stream",
     "text": [
      "Drive already mounted at /content/drive; to attempt to forcibly remount, call drive.mount(\"/content/drive\", force_remount=True).\n"
     ]
    }
   ],
   "source": [
    "from google.colab import drive\n",
    "drive.mount('/content/drive')"
   ]
  },
  {
   "cell_type": "code",
   "execution_count": 0,
   "metadata": {
    "colab": {},
    "colab_type": "code",
    "id": "bLhH5yse69gH"
   },
   "outputs": [],
   "source": [
    "os.chdir('/content/drive/My Drive/Colab Notebooks Shared/IDA contests/Sentiment analysis')"
   ]
  },
  {
   "cell_type": "markdown",
   "metadata": {
    "colab_type": "text",
    "id": "K10tgQ8to606"
   },
   "source": [
    "Предобработка текстов не проводилась, так как сильного прироста в качестве не было, а без предобработки часть вычислений проходит в быстрее."
   ]
  },
  {
   "cell_type": "code",
   "execution_count": 5,
   "metadata": {
    "colab": {
     "base_uri": "https://localhost:8080/",
     "height": 107
    },
    "colab_type": "code",
    "executionInfo": {
     "elapsed": 17731,
     "status": "ok",
     "timestamp": 1577128721664,
     "user": {
      "displayName": "Мария Самоделкина",
      "photoUrl": "https://lh3.googleusercontent.com/a-/AAuE7mCNrrlMvZMi6cRpGG0hsPG8X7M5NNithtFMaMr3=s64",
      "userId": "17402028678637097716"
     },
     "user_tz": -180
    },
    "id": "1-7eLuyO7Dkl",
    "outputId": "9ab4885b-ed52-4bf2-ea5f-21cf9c34c7ac"
   },
   "outputs": [
    {
     "name": "stderr",
     "output_type": "stream",
     "text": [
      "/usr/local/lib/python3.6/dist-packages/ipykernel_launcher.py:1: ParserWarning: Falling back to the 'python' engine because the 'c' engine does not support regex separators (separators > 1 char and different from '\\s+' are interpreted as regex); you can avoid this warning by specifying engine='python'.\n",
      "  \"\"\"Entry point for launching an IPython kernel.\n",
      "/usr/local/lib/python3.6/dist-packages/ipykernel_launcher.py:2: ParserWarning: Falling back to the 'python' engine because the 'c' engine does not support regex separators (separators > 1 char and different from '\\s+' are interpreted as regex); you can avoid this warning by specifying engine='python'.\n",
      "  \n"
     ]
    }
   ],
   "source": [
    "x_train = pd.read_csv('x_train.txt', sep='\\r\\t', header=None)\n",
    "x_test = pd.read_csv('x_test.txt', sep='\\r\\t', header=None)\n",
    "y_train = pd.read_csv('y_train.csv')"
   ]
  },
  {
   "cell_type": "code",
   "execution_count": 0,
   "metadata": {
    "colab": {},
    "colab_type": "code",
    "id": "EKIupCAxNckY"
   },
   "outputs": [],
   "source": [
    "x_train = x_train.fillna(\" \")\n",
    "x_test = x_test.fillna(\" \")"
   ]
  },
  {
   "cell_type": "code",
   "execution_count": 0,
   "metadata": {
    "colab": {},
    "colab_type": "code",
    "id": "UVocraQ1-4DU"
   },
   "outputs": [],
   "source": [
    "x_train1 = x_train.sample(n=3600000, random_state=32)\n",
    "y_train1 = y_train.loc[x_train1.index]"
   ]
  },
  {
   "cell_type": "markdown",
   "metadata": {
    "colab_type": "text",
    "id": "ODawlvtRuGEU"
   },
   "source": [
    "Выберем эмбеддинги с меньшим количеством токенов и 100d векторами, для ускоренной обучаемости. Эксперименты показали, что большое количество токенов не очень хорошо для данного датасета."
   ]
  },
  {
   "cell_type": "code",
   "execution_count": 14,
   "metadata": {
    "colab": {
     "base_uri": "https://localhost:8080/",
     "height": 364
    },
    "colab_type": "code",
    "executionInfo": {
     "elapsed": 394025,
     "status": "ok",
     "timestamp": 1577120352566,
     "user": {
      "displayName": "Мария Самоделкина",
      "photoUrl": "https://lh3.googleusercontent.com/a-/AAuE7mCNrrlMvZMi6cRpGG0hsPG8X7M5NNithtFMaMr3=s64",
      "userId": "17402028678637097716"
     },
     "user_tz": -180
    },
    "id": "0VEZjr3bAE22",
    "outputId": "05e48f9b-9795-4bd2-b1ca-9687ca613328"
   },
   "outputs": [
    {
     "name": "stdout",
     "output_type": "stream",
     "text": [
      "--2019-12-23 16:52:38--  http://nlp.stanford.edu/data/wordvecs/glove.6B.zip\n",
      "Resolving nlp.stanford.edu (nlp.stanford.edu)... 171.64.67.140\n",
      "Connecting to nlp.stanford.edu (nlp.stanford.edu)|171.64.67.140|:80... connected.\n",
      "HTTP request sent, awaiting response... 302 Found\n",
      "Location: https://nlp.stanford.edu/data/wordvecs/glove.6B.zip [following]\n",
      "--2019-12-23 16:52:39--  https://nlp.stanford.edu/data/wordvecs/glove.6B.zip\n",
      "Connecting to nlp.stanford.edu (nlp.stanford.edu)|171.64.67.140|:443... connected.\n",
      "HTTP request sent, awaiting response... 301 Moved Permanently\n",
      "Location: http://downloads.cs.stanford.edu/nlp/data/wordvecs/glove.6B.zip [following]\n",
      "--2019-12-23 16:52:39--  http://downloads.cs.stanford.edu/nlp/data/wordvecs/glove.6B.zip\n",
      "Resolving downloads.cs.stanford.edu (downloads.cs.stanford.edu)... 171.64.64.22\n",
      "Connecting to downloads.cs.stanford.edu (downloads.cs.stanford.edu)|171.64.64.22|:80... connected.\n",
      "HTTP request sent, awaiting response... 200 OK\n",
      "Length: 862182753 (822M) [application/zip]\n",
      "Saving to: ‘glove.6B.zip’\n",
      "\n",
      "glove.6B.zip        100%[===================>] 822.24M  1.95MB/s    in 6m 29s  \n",
      "\n",
      "2019-12-23 16:59:08 (2.11 MB/s) - ‘glove.6B.zip’ saved [862182753/862182753]\n",
      "\n"
     ]
    }
   ],
   "source": [
    "!wget http://nlp.stanford.edu/data/wordvecs/glove.6B.zip"
   ]
  },
  {
   "cell_type": "code",
   "execution_count": 0,
   "metadata": {
    "colab": {},
    "colab_type": "code",
    "id": "zUYT0kvOAEkr"
   },
   "outputs": [],
   "source": [
    "from tensorflow.keras.layers import Dense, Input, GRU, Embedding, Dropout, Bidirectional, Flatten, LeakyReLU, BatchNormalization, LSTM, SpatialDropout1D, Conv1D, GlobalAveragePooling1D, GlobalMaxPooling1D, concatenate\n",
    "from tensorflow.keras.models import Model, Sequential\n",
    "from tensorflow.keras.optimizers import Adam\n",
    "from tensorflow.keras.preprocessing.text import Tokenizer\n",
    "from tensorflow.keras.preprocessing.sequence import pad_sequences\n",
    "from tensorflow.keras.callbacks import EarlyStopping, ReduceLROnPlateau, ModelCheckpoint, LearningRateScheduler\n",
    "from tqdm import tqdm_notebook"
   ]
  },
  {
   "cell_type": "code",
   "execution_count": 0,
   "metadata": {
    "colab": {},
    "colab_type": "code",
    "id": "nKKSTqHdOs2F"
   },
   "outputs": [],
   "source": [
    "import os, zipfile\n",
    "file_name = os.path.abspath('./glove.6B.zip')\n",
    "zip_ref = zipfile.ZipFile(file_name)\n",
    "zip_ref.extractall('./')\n",
    "zip_ref.close()\n",
    "os.remove(file_name)"
   ]
  },
  {
   "cell_type": "code",
   "execution_count": 9,
   "metadata": {
    "colab": {
     "base_uri": "https://localhost:8080/",
     "height": 67,
     "referenced_widgets": [
      "fe0d9d769238431da46744a90a4fcffb",
      "5280f533ae4644c5b92a4a82dad1a713",
      "acda83ec24454b698bbe60f5954c91a5",
      "b245e0cc2071430fa4acd5e6bbda3887",
      "50a351b780a0437aaab59d08bc12864e",
      "ec81b763921045f08bde78602cdfad24",
      "6ded1c04f6c8424a848e3731e121e028",
      "3184301d975b4788a53885185fbd732f"
     ]
    },
    "colab_type": "code",
    "executionInfo": {
     "elapsed": 16355,
     "status": "ok",
     "timestamp": 1577128733865,
     "user": {
      "displayName": "Мария Самоделкина",
      "photoUrl": "https://lh3.googleusercontent.com/a-/AAuE7mCNrrlMvZMi6cRpGG0hsPG8X7M5NNithtFMaMr3=s64",
      "userId": "17402028678637097716"
     },
     "user_tz": -180
    },
    "id": "idHF3Oo3O45M",
    "outputId": "6f26a582-5aae-419c-9d40-eaac5cb1f3cb"
   },
   "outputs": [
    {
     "data": {
      "application/vnd.jupyter.widget-view+json": {
       "model_id": "fe0d9d769238431da46744a90a4fcffb",
       "version_major": 2,
       "version_minor": 0
      },
      "text/plain": [
       "HBox(children=(IntProgress(value=1, bar_style='info', max=1), HTML(value='')))"
      ]
     },
     "metadata": {
      "tags": []
     },
     "output_type": "display_data"
    },
    {
     "name": "stdout",
     "output_type": "stream",
     "text": [
      "\n"
     ]
    }
   ],
   "source": [
    "f = open('./glove.6B.100d.txt')\n",
    "embeddings_index = dict() \n",
    "for line in tqdm_notebook(f):\n",
    "    values = line.split(' ')\n",
    "    word = values[0]\n",
    "    coefs = np.asarray(values[1:], dtype='float32')\n",
    "    embeddings_index[word] = coefs\n",
    "f.close()"
   ]
  },
  {
   "cell_type": "code",
   "execution_count": 0,
   "metadata": {
    "colab": {},
    "colab_type": "code",
    "id": "CvnS8jKhD_ch"
   },
   "outputs": [],
   "source": [
    "x_train1.columns = ['text']\n",
    "x_test.columns = ['text']"
   ]
  },
  {
   "cell_type": "code",
   "execution_count": 0,
   "metadata": {
    "colab": {},
    "colab_type": "code",
    "id": "Gv31wKmKEGIG"
   },
   "outputs": [],
   "source": [
    "x_train1['text'] = x_train1['text'].apply(lambda x: str(x))\n",
    "x_test['text'] = x_test['text'].apply(lambda x: str(x))"
   ]
  },
  {
   "cell_type": "code",
   "execution_count": 0,
   "metadata": {
    "colab": {},
    "colab_type": "code",
    "id": "jL3bch0Yl9HT"
   },
   "outputs": [],
   "source": [
    "embed_size = 100 \n",
    "max_features = 20000 \n",
    "maxlen = 150 # медианная длина текстов варьируется около этого числа"
   ]
  },
  {
   "cell_type": "code",
   "execution_count": 0,
   "metadata": {
    "colab": {},
    "colab_type": "code",
    "id": "1r3mAD8_VgLB"
   },
   "outputs": [],
   "source": [
    "list_sentences_train = x_train1.iloc[:,0].values\n",
    "y = y_train1['Probability'].values\n",
    "list_sentences_test = x_test.iloc[:,0].values\n",
    "\n",
    "tokenizer = Tokenizer(num_words=max_features)\n",
    "tokenizer.fit_on_texts(list(list_sentences_train))\n",
    "list_tokenized_train = tokenizer.texts_to_sequences(list_sentences_train)\n",
    "list_tokenized_test = tokenizer.texts_to_sequences(list_sentences_test)\n",
    "x_train_pad = pad_sequences(list_tokenized_train, maxlen=maxlen)\n",
    "x_test_pad = pad_sequences(list_tokenized_test, maxlen=maxlen)"
   ]
  },
  {
   "cell_type": "code",
   "execution_count": 14,
   "metadata": {
    "colab": {
     "base_uri": "https://localhost:8080/",
     "height": 89
    },
    "colab_type": "code",
    "executionInfo": {
     "elapsed": 421369,
     "status": "ok",
     "timestamp": 1577129145731,
     "user": {
      "displayName": "Мария Самоделкина",
      "photoUrl": "https://lh3.googleusercontent.com/a-/AAuE7mCNrrlMvZMi6cRpGG0hsPG8X7M5NNithtFMaMr3=s64",
      "userId": "17402028678637097716"
     },
     "user_tz": -180
    },
    "id": "2vAF9YZcV1LT",
    "outputId": "c0a59046-8939-4666-8843-85e46ce3b4ab"
   },
   "outputs": [
    {
     "name": "stderr",
     "output_type": "stream",
     "text": [
      "/usr/local/lib/python3.6/dist-packages/IPython/core/interactiveshell.py:2822: FutureWarning: arrays to stack must be passed as a \"sequence\" type such as list or tuple. Support for non-sequence iterables such as generators is deprecated as of NumPy 1.16 and will raise an error in the future.\n",
      "  if self.run_code(code, result):\n"
     ]
    },
    {
     "data": {
      "text/plain": [
       "(0.0044520576, 0.40815717)"
      ]
     },
     "execution_count": 14,
     "metadata": {
      "tags": []
     },
     "output_type": "execute_result"
    }
   ],
   "source": [
    "all_embs = np.stack(embeddings_index.values())\n",
    "emb_mean, emb_std = all_embs.mean(), all_embs.std()\n",
    "emb_mean, emb_std"
   ]
  },
  {
   "cell_type": "code",
   "execution_count": 0,
   "metadata": {
    "colab": {},
    "colab_type": "code",
    "id": "B6NemeM0V7pE"
   },
   "outputs": [],
   "source": [
    "word_index = tokenizer.word_index\n",
    "unknown_words = set()\n",
    "nb_words = min(max_features, len(word_index))\n",
    "embedding_matrix = np.random.normal(emb_mean, emb_std, (nb_words, embed_size))\n",
    "for word, i in word_index.items():\n",
    "    if i >= max_features: continue\n",
    "    embedding_vector = embeddings_index.get(word)\n",
    "    if embedding_vector is not None: embedding_matrix[i] = embedding_vector\n",
    "    else: unknown_words.add(word)"
   ]
  },
  {
   "cell_type": "markdown",
   "metadata": {
    "colab_type": "text",
    "id": "w0WQ2je_y1dx"
   },
   "source": [
    "Используем Коллбеки, которые позволят каждую эпоху не только сохранять модель, но и предсказывать и сохранять результаты для test датасета."
   ]
  },
  {
   "cell_type": "code",
   "execution_count": 0,
   "metadata": {
    "colab": {},
    "colab_type": "code",
    "id": "Olva7EnqaTZg"
   },
   "outputs": [],
   "source": [
    "from tensorflow.keras.models import save_model, load_model\n",
    "\n",
    "class ModelEndCallback(tf.keras.callbacks.Callback):\n",
    "\n",
    "    def __init__(self, file_name, csv_name):\n",
    "        super(ModelEndCallback, self).__init__()\n",
    "        self.file_name = file_name\n",
    "        self.csv_name = csv_name\n",
    "\n",
    "    def on_epoch_end(self, epoch, logs=None):\n",
    "        save_model(self.model, self.file_name.format(epoch+1))\n",
    "        print('\\n', self.file_name.format(epoch+1),)\n",
    "\n",
    "        res = self.model.predict(x_test_pad, batch_size=None, verbose=0)\n",
    "        df = pd.DataFrame({'Id': range(1, len(res)+1), 'Probability': res.T[0]})\n",
    "        df.to_csv(self.csv_name.format(epoch+1), index=False)\n",
    "\n",
    "def load_from_file(model_filename, last_epoch):\n",
    "    return load_model(model_filename.format(last_epoch))"
   ]
  },
  {
   "cell_type": "markdown",
   "metadata": {
    "colab_type": "text",
    "id": "7l1JAMo3xn09"
   },
   "source": [
    "В данной модели используются обучающиеся эмбеддинги, слой LSTM с дропаутом для защиты от переобучения. Далее соединяем два слоя MaxPooling и AveragePooling. Используем полносвязный слой на 64. Слишком большие слои не дают значительного прироста результата и обучаются долго."
   ]
  },
  {
   "cell_type": "code",
   "execution_count": 0,
   "metadata": {
    "colab": {},
    "colab_type": "code",
    "id": "7sZ7ui_cWC43"
   },
   "outputs": [],
   "source": [
    "model_filename = 'final_weights_{0:02d}.hdf5'\n",
    "model_csvname = 'final_results_ep{0:02d}.csv'\n",
    "\n",
    "initializer = tf.keras.initializers.glorot_normal()\n",
    "input_layer = Input((maxlen,), name = '0')\n",
    "embedding_layer = Embedding(max_features, embed_size, input_length=maxlen, \n",
    "                            weights=[embedding_matrix], \n",
    "                            trainable = True)(input_layer)\n",
    "x = Bidirectional(LSTM(64, return_sequences=True, dropout=0.1, \n",
    "                       recurrent_dropout=0.1))(embedding_layer)\n",
    "\n",
    "x1 = GlobalMaxPooling1D()(x)\n",
    "x2 = GlobalAveragePooling1D()(x)\n",
    "\n",
    "x = concatenate([x1, x2])\n",
    "x = Dense(64, activation=\"relu\")(x)\n",
    "x = Dropout(0.1)(x)\n",
    "output_layer = Dense(1, activation=\"sigmoid\")(x)\n",
    "\n",
    "model = Model(inputs=input_layer, outputs=output_layer)\n",
    "model.compile(loss='binary_crossentropy',\n",
    "                  optimizer=Adam(clipnorm=2, clipvalue=2),\n",
    "                  metrics=['AUC'])\n",
    "\n",
    "def schedule(ind):\n",
    "    a = [0.001, 0.001, 0.0001, 0.0001, 0.00001, 0.00001, 0.000001]\n",
    "    return a[ind]\n",
    "\n",
    "lr = LearningRateScheduler(schedule)\n",
    "    \n",
    "early_stop = EarlyStopping(monitor='val_loss',\n",
    "                           patience=4,\n",
    "                           verbose=1,\n",
    "                           min_delta=1e-4)"
   ]
  },
  {
   "cell_type": "code",
   "execution_count": 18,
   "metadata": {
    "colab": {
     "base_uri": "https://localhost:8080/",
     "height": 173
    },
    "colab_type": "code",
    "executionInfo": {
     "elapsed": 5472500,
     "status": "ok",
     "timestamp": 1577136451861,
     "user": {
      "displayName": "Мария Самоделкина",
      "photoUrl": "https://lh3.googleusercontent.com/a-/AAuE7mCNrrlMvZMi6cRpGG0hsPG8X7M5NNithtFMaMr3=s64",
      "userId": "17402028678637097716"
     },
     "user_tz": -180
    },
    "id": "j33UlZ0PDYvs",
    "outputId": "75d09cea-3b6f-44fe-a102-f358a9b8f4e5"
   },
   "outputs": [
    {
     "name": "stdout",
     "output_type": "stream",
     "text": [
      "Train on 3240000 samples, validate on 360000 samples\n",
      "Epoch 1/2\n",
      "3239936/3240000 [============================>.] - ETA: 0s - loss: 0.1723 - AUC: 0.9814\n",
      " final_weights_01.hdf5\n",
      "3240000/3240000 [==============================] - 3638s 1ms/sample - loss: 0.1723 - AUC: 0.9814 - val_loss: 0.1385 - val_AUC: 0.9876\n",
      "Epoch 2/2\n",
      "3239936/3240000 [============================>.] - ETA: 0s - loss: 0.1324 - AUC: 0.9884\n",
      " final_weights_02.hdf5\n",
      "3240000/3240000 [==============================] - 3667s 1ms/sample - loss: 0.1324 - AUC: 0.9884 - val_loss: 0.1294 - val_AUC: 0.9889\n"
     ]
    }
   ],
   "source": [
    "history = model.fit(x_train_pad, y, batch_size=512, epochs = 2, \n",
    "                    validation_split = 0.1, verbose = 1, callbacks = [lr, ModelEndCallback(model_filename, model_csvname)])"
   ]
  },
  {
   "cell_type": "code",
   "execution_count": 0,
   "metadata": {
    "colab": {},
    "colab_type": "code",
    "id": "tvHa3sIFL9x4"
   },
   "outputs": [],
   "source": []
  }
 ],
 "metadata": {
  "accelerator": "GPU",
  "colab": {
   "collapsed_sections": [],
   "machine_shape": "hm",
   "name": "SentimantalBaseline.ipynb",
   "provenance": []
  },
  "kernelspec": {
   "display_name": "Python 3",
   "language": "python",
   "name": "python3"
  },
  "language_info": {
   "codemirror_mode": {
    "name": "ipython",
    "version": 3
   },
   "file_extension": ".py",
   "mimetype": "text/x-python",
   "name": "python",
   "nbconvert_exporter": "python",
   "pygments_lexer": "ipython3",
   "version": "3.7.1"
  },
  "widgets": {
   "application/vnd.jupyter.widget-state+json": {
    "3184301d975b4788a53885185fbd732f": {
     "model_module": "@jupyter-widgets/base",
     "model_name": "LayoutModel",
     "state": {
      "_model_module": "@jupyter-widgets/base",
      "_model_module_version": "1.2.0",
      "_model_name": "LayoutModel",
      "_view_count": null,
      "_view_module": "@jupyter-widgets/base",
      "_view_module_version": "1.2.0",
      "_view_name": "LayoutView",
      "align_content": null,
      "align_items": null,
      "align_self": null,
      "border": null,
      "bottom": null,
      "display": null,
      "flex": null,
      "flex_flow": null,
      "grid_area": null,
      "grid_auto_columns": null,
      "grid_auto_flow": null,
      "grid_auto_rows": null,
      "grid_column": null,
      "grid_gap": null,
      "grid_row": null,
      "grid_template_areas": null,
      "grid_template_columns": null,
      "grid_template_rows": null,
      "height": null,
      "justify_content": null,
      "justify_items": null,
      "left": null,
      "margin": null,
      "max_height": null,
      "max_width": null,
      "min_height": null,
      "min_width": null,
      "object_fit": null,
      "object_position": null,
      "order": null,
      "overflow": null,
      "overflow_x": null,
      "overflow_y": null,
      "padding": null,
      "right": null,
      "top": null,
      "visibility": null,
      "width": null
     }
    },
    "50a351b780a0437aaab59d08bc12864e": {
     "model_module": "@jupyter-widgets/controls",
     "model_name": "ProgressStyleModel",
     "state": {
      "_model_module": "@jupyter-widgets/controls",
      "_model_module_version": "1.5.0",
      "_model_name": "ProgressStyleModel",
      "_view_count": null,
      "_view_module": "@jupyter-widgets/base",
      "_view_module_version": "1.2.0",
      "_view_name": "StyleView",
      "bar_color": null,
      "description_width": ""
     }
    },
    "5280f533ae4644c5b92a4a82dad1a713": {
     "model_module": "@jupyter-widgets/base",
     "model_name": "LayoutModel",
     "state": {
      "_model_module": "@jupyter-widgets/base",
      "_model_module_version": "1.2.0",
      "_model_name": "LayoutModel",
      "_view_count": null,
      "_view_module": "@jupyter-widgets/base",
      "_view_module_version": "1.2.0",
      "_view_name": "LayoutView",
      "align_content": null,
      "align_items": null,
      "align_self": null,
      "border": null,
      "bottom": null,
      "display": null,
      "flex": null,
      "flex_flow": null,
      "grid_area": null,
      "grid_auto_columns": null,
      "grid_auto_flow": null,
      "grid_auto_rows": null,
      "grid_column": null,
      "grid_gap": null,
      "grid_row": null,
      "grid_template_areas": null,
      "grid_template_columns": null,
      "grid_template_rows": null,
      "height": null,
      "justify_content": null,
      "justify_items": null,
      "left": null,
      "margin": null,
      "max_height": null,
      "max_width": null,
      "min_height": null,
      "min_width": null,
      "object_fit": null,
      "object_position": null,
      "order": null,
      "overflow": null,
      "overflow_x": null,
      "overflow_y": null,
      "padding": null,
      "right": null,
      "top": null,
      "visibility": null,
      "width": null
     }
    },
    "6ded1c04f6c8424a848e3731e121e028": {
     "model_module": "@jupyter-widgets/controls",
     "model_name": "DescriptionStyleModel",
     "state": {
      "_model_module": "@jupyter-widgets/controls",
      "_model_module_version": "1.5.0",
      "_model_name": "DescriptionStyleModel",
      "_view_count": null,
      "_view_module": "@jupyter-widgets/base",
      "_view_module_version": "1.2.0",
      "_view_name": "StyleView",
      "description_width": ""
     }
    },
    "acda83ec24454b698bbe60f5954c91a5": {
     "model_module": "@jupyter-widgets/controls",
     "model_name": "IntProgressModel",
     "state": {
      "_dom_classes": [],
      "_model_module": "@jupyter-widgets/controls",
      "_model_module_version": "1.5.0",
      "_model_name": "IntProgressModel",
      "_view_count": null,
      "_view_module": "@jupyter-widgets/controls",
      "_view_module_version": "1.5.0",
      "_view_name": "ProgressView",
      "bar_style": "success",
      "description": "",
      "description_tooltip": null,
      "layout": "IPY_MODEL_ec81b763921045f08bde78602cdfad24",
      "max": 1,
      "min": 0,
      "orientation": "horizontal",
      "style": "IPY_MODEL_50a351b780a0437aaab59d08bc12864e",
      "value": 1
     }
    },
    "b245e0cc2071430fa4acd5e6bbda3887": {
     "model_module": "@jupyter-widgets/controls",
     "model_name": "HTMLModel",
     "state": {
      "_dom_classes": [],
      "_model_module": "@jupyter-widgets/controls",
      "_model_module_version": "1.5.0",
      "_model_name": "HTMLModel",
      "_view_count": null,
      "_view_module": "@jupyter-widgets/controls",
      "_view_module_version": "1.5.0",
      "_view_name": "HTMLView",
      "description": "",
      "description_tooltip": null,
      "layout": "IPY_MODEL_3184301d975b4788a53885185fbd732f",
      "placeholder": "​",
      "style": "IPY_MODEL_6ded1c04f6c8424a848e3731e121e028",
      "value": "400001it [00:09, 40722.90it/s]"
     }
    },
    "ec81b763921045f08bde78602cdfad24": {
     "model_module": "@jupyter-widgets/base",
     "model_name": "LayoutModel",
     "state": {
      "_model_module": "@jupyter-widgets/base",
      "_model_module_version": "1.2.0",
      "_model_name": "LayoutModel",
      "_view_count": null,
      "_view_module": "@jupyter-widgets/base",
      "_view_module_version": "1.2.0",
      "_view_name": "LayoutView",
      "align_content": null,
      "align_items": null,
      "align_self": null,
      "border": null,
      "bottom": null,
      "display": null,
      "flex": null,
      "flex_flow": null,
      "grid_area": null,
      "grid_auto_columns": null,
      "grid_auto_flow": null,
      "grid_auto_rows": null,
      "grid_column": null,
      "grid_gap": null,
      "grid_row": null,
      "grid_template_areas": null,
      "grid_template_columns": null,
      "grid_template_rows": null,
      "height": null,
      "justify_content": null,
      "justify_items": null,
      "left": null,
      "margin": null,
      "max_height": null,
      "max_width": null,
      "min_height": null,
      "min_width": null,
      "object_fit": null,
      "object_position": null,
      "order": null,
      "overflow": null,
      "overflow_x": null,
      "overflow_y": null,
      "padding": null,
      "right": null,
      "top": null,
      "visibility": null,
      "width": null
     }
    },
    "fe0d9d769238431da46744a90a4fcffb": {
     "model_module": "@jupyter-widgets/controls",
     "model_name": "HBoxModel",
     "state": {
      "_dom_classes": [],
      "_model_module": "@jupyter-widgets/controls",
      "_model_module_version": "1.5.0",
      "_model_name": "HBoxModel",
      "_view_count": null,
      "_view_module": "@jupyter-widgets/controls",
      "_view_module_version": "1.5.0",
      "_view_name": "HBoxView",
      "box_style": "",
      "children": [
       "IPY_MODEL_acda83ec24454b698bbe60f5954c91a5",
       "IPY_MODEL_b245e0cc2071430fa4acd5e6bbda3887"
      ],
      "layout": "IPY_MODEL_5280f533ae4644c5b92a4a82dad1a713"
     }
    }
   }
  }
 },
 "nbformat": 4,
 "nbformat_minor": 1
}

{
 "cells": [
  {
   "cell_type": "markdown",
   "metadata": {},
   "source": [
    "## Введение в анализ данных, ИАД-1\n",
    "\n",
    "## НИУ ВШЭ, 2018-19 учебный год\n",
    "\n",
    "### Домашнее задание №4. Градиентный бустинг ~~своими руками~~\n",
    "\n",
    "Задание выполнил(а): _Самоделкина Мария_\n",
    "\n",
    "### Общая информация\n",
    "__Дата выдачи:__ 27.04.2019\n",
    "\n",
    "__Дедлайн:__ 23:59 12.05.2019\n",
    "\n",
    "### Оценивание и штрафы\n",
    "\n",
    "За сдачу задания позже срока на итоговую оценку за задание накладывается штраф в размере 1 балл в день, но получить отрицательную оценку нельзя.\n",
    "\n",
    "__Внимание!__ Домашнее задание выполняется самостоятельно. «Похожие» решения считаются плагиатом и все задействованные студенты (в том числе те, у кого списали) не могут получить за него больше 0 баллов.\n",
    "\n",
    "### Формат сдачи\n",
    "__Стирать условия нельзя!__\n",
    "\n",
    "Загрузка файлов с решениями происходит в системе [Anytask](https://anytask.org/).\n",
    "\n",
    "Формат названия файла: homework_04_Фамилия_Имя.ipynb"
   ]
  },
  {
   "cell_type": "markdown",
   "metadata": {},
   "source": [
    "__Задание 1. (0.5 балла)__\n",
    "\n",
    "Мы будем использовать данные соревнования [Home Credit Default Risk](https://www.kaggle.com/c/home-credit-default-risk/data). \n",
    "* Загрузите таблицу application_train.csv;\n",
    "* Запишите в Y столбец с целевой переменной;\n",
    "* Удалите ненужные столбцы (для этого воспользуйтесь описанием);\n",
    "* Определите тип столбцов и заполните пропуски - стратегия произвольная;\n",
    "* Разбейте выборку в соотношении 70:30 с random_state=0.\n",
    "\n",
    "Так как в данных значительный дисбаланс классов, в качестве метрики качества везде будем использовать площадь под precision-recall кривой."
   ]
  },
  {
   "cell_type": "code",
   "execution_count": 1,
   "metadata": {},
   "outputs": [],
   "source": [
    "import pandas as pd\n",
    "import numpy as np"
   ]
  },
  {
   "cell_type": "code",
   "execution_count": 2,
   "metadata": {},
   "outputs": [],
   "source": [
    "%matplotlib inline\n",
    "import matplotlib.pyplot as plt\n",
    "from matplotlib import cm"
   ]
  },
  {
   "cell_type": "code",
   "execution_count": 2,
   "metadata": {},
   "outputs": [],
   "source": [
    "train = pd.read_csv('application_train.csv')"
   ]
  },
  {
   "cell_type": "code",
   "execution_count": 3,
   "metadata": {
    "scrolled": true
   },
   "outputs": [
    {
     "data": {
      "text/html": [
       "<div>\n",
       "<style scoped>\n",
       "    .dataframe tbody tr th:only-of-type {\n",
       "        vertical-align: middle;\n",
       "    }\n",
       "\n",
       "    .dataframe tbody tr th {\n",
       "        vertical-align: top;\n",
       "    }\n",
       "\n",
       "    .dataframe thead th {\n",
       "        text-align: right;\n",
       "    }\n",
       "</style>\n",
       "<table border=\"1\" class=\"dataframe\">\n",
       "  <thead>\n",
       "    <tr style=\"text-align: right;\">\n",
       "      <th></th>\n",
       "      <th>SK_ID_CURR</th>\n",
       "      <th>TARGET</th>\n",
       "      <th>NAME_CONTRACT_TYPE</th>\n",
       "      <th>CODE_GENDER</th>\n",
       "      <th>FLAG_OWN_CAR</th>\n",
       "      <th>FLAG_OWN_REALTY</th>\n",
       "      <th>CNT_CHILDREN</th>\n",
       "      <th>AMT_INCOME_TOTAL</th>\n",
       "      <th>AMT_CREDIT</th>\n",
       "      <th>AMT_ANNUITY</th>\n",
       "      <th>...</th>\n",
       "      <th>FLAG_DOCUMENT_18</th>\n",
       "      <th>FLAG_DOCUMENT_19</th>\n",
       "      <th>FLAG_DOCUMENT_20</th>\n",
       "      <th>FLAG_DOCUMENT_21</th>\n",
       "      <th>AMT_REQ_CREDIT_BUREAU_HOUR</th>\n",
       "      <th>AMT_REQ_CREDIT_BUREAU_DAY</th>\n",
       "      <th>AMT_REQ_CREDIT_BUREAU_WEEK</th>\n",
       "      <th>AMT_REQ_CREDIT_BUREAU_MON</th>\n",
       "      <th>AMT_REQ_CREDIT_BUREAU_QRT</th>\n",
       "      <th>AMT_REQ_CREDIT_BUREAU_YEAR</th>\n",
       "    </tr>\n",
       "  </thead>\n",
       "  <tbody>\n",
       "    <tr>\n",
       "      <th>0</th>\n",
       "      <td>100002</td>\n",
       "      <td>1</td>\n",
       "      <td>Cash loans</td>\n",
       "      <td>M</td>\n",
       "      <td>N</td>\n",
       "      <td>Y</td>\n",
       "      <td>0</td>\n",
       "      <td>202500.0</td>\n",
       "      <td>406597.5</td>\n",
       "      <td>24700.5</td>\n",
       "      <td>...</td>\n",
       "      <td>0</td>\n",
       "      <td>0</td>\n",
       "      <td>0</td>\n",
       "      <td>0</td>\n",
       "      <td>0.0</td>\n",
       "      <td>0.0</td>\n",
       "      <td>0.0</td>\n",
       "      <td>0.0</td>\n",
       "      <td>0.0</td>\n",
       "      <td>1.0</td>\n",
       "    </tr>\n",
       "    <tr>\n",
       "      <th>1</th>\n",
       "      <td>100003</td>\n",
       "      <td>0</td>\n",
       "      <td>Cash loans</td>\n",
       "      <td>F</td>\n",
       "      <td>N</td>\n",
       "      <td>N</td>\n",
       "      <td>0</td>\n",
       "      <td>270000.0</td>\n",
       "      <td>1293502.5</td>\n",
       "      <td>35698.5</td>\n",
       "      <td>...</td>\n",
       "      <td>0</td>\n",
       "      <td>0</td>\n",
       "      <td>0</td>\n",
       "      <td>0</td>\n",
       "      <td>0.0</td>\n",
       "      <td>0.0</td>\n",
       "      <td>0.0</td>\n",
       "      <td>0.0</td>\n",
       "      <td>0.0</td>\n",
       "      <td>0.0</td>\n",
       "    </tr>\n",
       "    <tr>\n",
       "      <th>2</th>\n",
       "      <td>100004</td>\n",
       "      <td>0</td>\n",
       "      <td>Revolving loans</td>\n",
       "      <td>M</td>\n",
       "      <td>Y</td>\n",
       "      <td>Y</td>\n",
       "      <td>0</td>\n",
       "      <td>67500.0</td>\n",
       "      <td>135000.0</td>\n",
       "      <td>6750.0</td>\n",
       "      <td>...</td>\n",
       "      <td>0</td>\n",
       "      <td>0</td>\n",
       "      <td>0</td>\n",
       "      <td>0</td>\n",
       "      <td>0.0</td>\n",
       "      <td>0.0</td>\n",
       "      <td>0.0</td>\n",
       "      <td>0.0</td>\n",
       "      <td>0.0</td>\n",
       "      <td>0.0</td>\n",
       "    </tr>\n",
       "    <tr>\n",
       "      <th>3</th>\n",
       "      <td>100006</td>\n",
       "      <td>0</td>\n",
       "      <td>Cash loans</td>\n",
       "      <td>F</td>\n",
       "      <td>N</td>\n",
       "      <td>Y</td>\n",
       "      <td>0</td>\n",
       "      <td>135000.0</td>\n",
       "      <td>312682.5</td>\n",
       "      <td>29686.5</td>\n",
       "      <td>...</td>\n",
       "      <td>0</td>\n",
       "      <td>0</td>\n",
       "      <td>0</td>\n",
       "      <td>0</td>\n",
       "      <td>NaN</td>\n",
       "      <td>NaN</td>\n",
       "      <td>NaN</td>\n",
       "      <td>NaN</td>\n",
       "      <td>NaN</td>\n",
       "      <td>NaN</td>\n",
       "    </tr>\n",
       "    <tr>\n",
       "      <th>4</th>\n",
       "      <td>100007</td>\n",
       "      <td>0</td>\n",
       "      <td>Cash loans</td>\n",
       "      <td>M</td>\n",
       "      <td>N</td>\n",
       "      <td>Y</td>\n",
       "      <td>0</td>\n",
       "      <td>121500.0</td>\n",
       "      <td>513000.0</td>\n",
       "      <td>21865.5</td>\n",
       "      <td>...</td>\n",
       "      <td>0</td>\n",
       "      <td>0</td>\n",
       "      <td>0</td>\n",
       "      <td>0</td>\n",
       "      <td>0.0</td>\n",
       "      <td>0.0</td>\n",
       "      <td>0.0</td>\n",
       "      <td>0.0</td>\n",
       "      <td>0.0</td>\n",
       "      <td>0.0</td>\n",
       "    </tr>\n",
       "  </tbody>\n",
       "</table>\n",
       "<p>5 rows × 122 columns</p>\n",
       "</div>"
      ],
      "text/plain": [
       "   SK_ID_CURR  TARGET NAME_CONTRACT_TYPE CODE_GENDER FLAG_OWN_CAR  \\\n",
       "0      100002       1         Cash loans           M            N   \n",
       "1      100003       0         Cash loans           F            N   \n",
       "2      100004       0    Revolving loans           M            Y   \n",
       "3      100006       0         Cash loans           F            N   \n",
       "4      100007       0         Cash loans           M            N   \n",
       "\n",
       "  FLAG_OWN_REALTY  CNT_CHILDREN  AMT_INCOME_TOTAL  AMT_CREDIT  AMT_ANNUITY  \\\n",
       "0               Y             0          202500.0    406597.5      24700.5   \n",
       "1               N             0          270000.0   1293502.5      35698.5   \n",
       "2               Y             0           67500.0    135000.0       6750.0   \n",
       "3               Y             0          135000.0    312682.5      29686.5   \n",
       "4               Y             0          121500.0    513000.0      21865.5   \n",
       "\n",
       "              ...              FLAG_DOCUMENT_18 FLAG_DOCUMENT_19  \\\n",
       "0             ...                             0                0   \n",
       "1             ...                             0                0   \n",
       "2             ...                             0                0   \n",
       "3             ...                             0                0   \n",
       "4             ...                             0                0   \n",
       "\n",
       "  FLAG_DOCUMENT_20 FLAG_DOCUMENT_21 AMT_REQ_CREDIT_BUREAU_HOUR  \\\n",
       "0                0                0                        0.0   \n",
       "1                0                0                        0.0   \n",
       "2                0                0                        0.0   \n",
       "3                0                0                        NaN   \n",
       "4                0                0                        0.0   \n",
       "\n",
       "  AMT_REQ_CREDIT_BUREAU_DAY  AMT_REQ_CREDIT_BUREAU_WEEK  \\\n",
       "0                       0.0                         0.0   \n",
       "1                       0.0                         0.0   \n",
       "2                       0.0                         0.0   \n",
       "3                       NaN                         NaN   \n",
       "4                       0.0                         0.0   \n",
       "\n",
       "   AMT_REQ_CREDIT_BUREAU_MON  AMT_REQ_CREDIT_BUREAU_QRT  \\\n",
       "0                        0.0                        0.0   \n",
       "1                        0.0                        0.0   \n",
       "2                        0.0                        0.0   \n",
       "3                        NaN                        NaN   \n",
       "4                        0.0                        0.0   \n",
       "\n",
       "   AMT_REQ_CREDIT_BUREAU_YEAR  \n",
       "0                         1.0  \n",
       "1                         0.0  \n",
       "2                         0.0  \n",
       "3                         NaN  \n",
       "4                         0.0  \n",
       "\n",
       "[5 rows x 122 columns]"
      ]
     },
     "execution_count": 3,
     "metadata": {},
     "output_type": "execute_result"
    }
   ],
   "source": [
    "train.head()"
   ]
  },
  {
   "cell_type": "code",
   "execution_count": 4,
   "metadata": {},
   "outputs": [],
   "source": [
    "train.drop(train.columns[list(range(60,122))], axis=1,inplace=True)\n",
    "Y = train['TARGET']\n",
    "del train['TARGET'], train['SK_ID_CURR']"
   ]
  },
  {
   "cell_type": "code",
   "execution_count": 5,
   "metadata": {},
   "outputs": [
    {
     "data": {
      "text/html": [
       "<div>\n",
       "<style scoped>\n",
       "    .dataframe tbody tr th:only-of-type {\n",
       "        vertical-align: middle;\n",
       "    }\n",
       "\n",
       "    .dataframe tbody tr th {\n",
       "        vertical-align: top;\n",
       "    }\n",
       "\n",
       "    .dataframe thead th {\n",
       "        text-align: right;\n",
       "    }\n",
       "</style>\n",
       "<table border=\"1\" class=\"dataframe\">\n",
       "  <thead>\n",
       "    <tr style=\"text-align: right;\">\n",
       "      <th></th>\n",
       "      <th>NAME_CONTRACT_TYPE</th>\n",
       "      <th>CODE_GENDER</th>\n",
       "      <th>FLAG_OWN_CAR</th>\n",
       "      <th>FLAG_OWN_REALTY</th>\n",
       "      <th>CNT_CHILDREN</th>\n",
       "      <th>AMT_INCOME_TOTAL</th>\n",
       "      <th>AMT_CREDIT</th>\n",
       "      <th>AMT_ANNUITY</th>\n",
       "      <th>AMT_GOODS_PRICE</th>\n",
       "      <th>NAME_TYPE_SUITE</th>\n",
       "      <th>...</th>\n",
       "      <th>ENTRANCES_AVG</th>\n",
       "      <th>FLOORSMAX_AVG</th>\n",
       "      <th>FLOORSMIN_AVG</th>\n",
       "      <th>LANDAREA_AVG</th>\n",
       "      <th>LIVINGAPARTMENTS_AVG</th>\n",
       "      <th>LIVINGAREA_AVG</th>\n",
       "      <th>NONLIVINGAPARTMENTS_AVG</th>\n",
       "      <th>NONLIVINGAREA_AVG</th>\n",
       "      <th>APARTMENTS_MODE</th>\n",
       "      <th>BASEMENTAREA_MODE</th>\n",
       "    </tr>\n",
       "  </thead>\n",
       "  <tbody>\n",
       "    <tr>\n",
       "      <th>0</th>\n",
       "      <td>Cash loans</td>\n",
       "      <td>M</td>\n",
       "      <td>N</td>\n",
       "      <td>Y</td>\n",
       "      <td>0</td>\n",
       "      <td>202500.0</td>\n",
       "      <td>406597.5</td>\n",
       "      <td>24700.5</td>\n",
       "      <td>351000.0</td>\n",
       "      <td>Unaccompanied</td>\n",
       "      <td>...</td>\n",
       "      <td>0.0690</td>\n",
       "      <td>0.0833</td>\n",
       "      <td>0.1250</td>\n",
       "      <td>0.0369</td>\n",
       "      <td>0.0202</td>\n",
       "      <td>0.0190</td>\n",
       "      <td>0.0000</td>\n",
       "      <td>0.0000</td>\n",
       "      <td>0.0252</td>\n",
       "      <td>0.0383</td>\n",
       "    </tr>\n",
       "    <tr>\n",
       "      <th>1</th>\n",
       "      <td>Cash loans</td>\n",
       "      <td>F</td>\n",
       "      <td>N</td>\n",
       "      <td>N</td>\n",
       "      <td>0</td>\n",
       "      <td>270000.0</td>\n",
       "      <td>1293502.5</td>\n",
       "      <td>35698.5</td>\n",
       "      <td>1129500.0</td>\n",
       "      <td>Family</td>\n",
       "      <td>...</td>\n",
       "      <td>0.0345</td>\n",
       "      <td>0.2917</td>\n",
       "      <td>0.3333</td>\n",
       "      <td>0.0130</td>\n",
       "      <td>0.0773</td>\n",
       "      <td>0.0549</td>\n",
       "      <td>0.0039</td>\n",
       "      <td>0.0098</td>\n",
       "      <td>0.0924</td>\n",
       "      <td>0.0538</td>\n",
       "    </tr>\n",
       "    <tr>\n",
       "      <th>2</th>\n",
       "      <td>Revolving loans</td>\n",
       "      <td>M</td>\n",
       "      <td>Y</td>\n",
       "      <td>Y</td>\n",
       "      <td>0</td>\n",
       "      <td>67500.0</td>\n",
       "      <td>135000.0</td>\n",
       "      <td>6750.0</td>\n",
       "      <td>135000.0</td>\n",
       "      <td>Unaccompanied</td>\n",
       "      <td>...</td>\n",
       "      <td>NaN</td>\n",
       "      <td>NaN</td>\n",
       "      <td>NaN</td>\n",
       "      <td>NaN</td>\n",
       "      <td>NaN</td>\n",
       "      <td>NaN</td>\n",
       "      <td>NaN</td>\n",
       "      <td>NaN</td>\n",
       "      <td>NaN</td>\n",
       "      <td>NaN</td>\n",
       "    </tr>\n",
       "    <tr>\n",
       "      <th>3</th>\n",
       "      <td>Cash loans</td>\n",
       "      <td>F</td>\n",
       "      <td>N</td>\n",
       "      <td>Y</td>\n",
       "      <td>0</td>\n",
       "      <td>135000.0</td>\n",
       "      <td>312682.5</td>\n",
       "      <td>29686.5</td>\n",
       "      <td>297000.0</td>\n",
       "      <td>Unaccompanied</td>\n",
       "      <td>...</td>\n",
       "      <td>NaN</td>\n",
       "      <td>NaN</td>\n",
       "      <td>NaN</td>\n",
       "      <td>NaN</td>\n",
       "      <td>NaN</td>\n",
       "      <td>NaN</td>\n",
       "      <td>NaN</td>\n",
       "      <td>NaN</td>\n",
       "      <td>NaN</td>\n",
       "      <td>NaN</td>\n",
       "    </tr>\n",
       "    <tr>\n",
       "      <th>4</th>\n",
       "      <td>Cash loans</td>\n",
       "      <td>M</td>\n",
       "      <td>N</td>\n",
       "      <td>Y</td>\n",
       "      <td>0</td>\n",
       "      <td>121500.0</td>\n",
       "      <td>513000.0</td>\n",
       "      <td>21865.5</td>\n",
       "      <td>513000.0</td>\n",
       "      <td>Unaccompanied</td>\n",
       "      <td>...</td>\n",
       "      <td>NaN</td>\n",
       "      <td>NaN</td>\n",
       "      <td>NaN</td>\n",
       "      <td>NaN</td>\n",
       "      <td>NaN</td>\n",
       "      <td>NaN</td>\n",
       "      <td>NaN</td>\n",
       "      <td>NaN</td>\n",
       "      <td>NaN</td>\n",
       "      <td>NaN</td>\n",
       "    </tr>\n",
       "  </tbody>\n",
       "</table>\n",
       "<p>5 rows × 58 columns</p>\n",
       "</div>"
      ],
      "text/plain": [
       "  NAME_CONTRACT_TYPE CODE_GENDER FLAG_OWN_CAR FLAG_OWN_REALTY  CNT_CHILDREN  \\\n",
       "0         Cash loans           M            N               Y             0   \n",
       "1         Cash loans           F            N               N             0   \n",
       "2    Revolving loans           M            Y               Y             0   \n",
       "3         Cash loans           F            N               Y             0   \n",
       "4         Cash loans           M            N               Y             0   \n",
       "\n",
       "   AMT_INCOME_TOTAL  AMT_CREDIT  AMT_ANNUITY  AMT_GOODS_PRICE NAME_TYPE_SUITE  \\\n",
       "0          202500.0    406597.5      24700.5         351000.0   Unaccompanied   \n",
       "1          270000.0   1293502.5      35698.5        1129500.0          Family   \n",
       "2           67500.0    135000.0       6750.0         135000.0   Unaccompanied   \n",
       "3          135000.0    312682.5      29686.5         297000.0   Unaccompanied   \n",
       "4          121500.0    513000.0      21865.5         513000.0   Unaccompanied   \n",
       "\n",
       "         ...         ENTRANCES_AVG FLOORSMAX_AVG FLOORSMIN_AVG LANDAREA_AVG  \\\n",
       "0        ...                0.0690        0.0833        0.1250       0.0369   \n",
       "1        ...                0.0345        0.2917        0.3333       0.0130   \n",
       "2        ...                   NaN           NaN           NaN          NaN   \n",
       "3        ...                   NaN           NaN           NaN          NaN   \n",
       "4        ...                   NaN           NaN           NaN          NaN   \n",
       "\n",
       "   LIVINGAPARTMENTS_AVG  LIVINGAREA_AVG  NONLIVINGAPARTMENTS_AVG  \\\n",
       "0                0.0202          0.0190                   0.0000   \n",
       "1                0.0773          0.0549                   0.0039   \n",
       "2                   NaN             NaN                      NaN   \n",
       "3                   NaN             NaN                      NaN   \n",
       "4                   NaN             NaN                      NaN   \n",
       "\n",
       "   NONLIVINGAREA_AVG  APARTMENTS_MODE  BASEMENTAREA_MODE  \n",
       "0             0.0000           0.0252             0.0383  \n",
       "1             0.0098           0.0924             0.0538  \n",
       "2                NaN              NaN                NaN  \n",
       "3                NaN              NaN                NaN  \n",
       "4                NaN              NaN                NaN  \n",
       "\n",
       "[5 rows x 58 columns]"
      ]
     },
     "execution_count": 5,
     "metadata": {},
     "output_type": "execute_result"
    }
   ],
   "source": [
    "train.head()"
   ]
  },
  {
   "cell_type": "code",
   "execution_count": 7,
   "metadata": {
    "scrolled": true
   },
   "outputs": [
    {
     "data": {
      "text/plain": [
       "NAME_CONTRACT_TYPE              object\n",
       "CODE_GENDER                     object\n",
       "FLAG_OWN_CAR                    object\n",
       "FLAG_OWN_REALTY                 object\n",
       "CNT_CHILDREN                     int64\n",
       "AMT_INCOME_TOTAL               float64\n",
       "AMT_CREDIT                     float64\n",
       "AMT_ANNUITY                    float64\n",
       "AMT_GOODS_PRICE                float64\n",
       "NAME_TYPE_SUITE                 object\n",
       "NAME_INCOME_TYPE                object\n",
       "NAME_EDUCATION_TYPE             object\n",
       "NAME_FAMILY_STATUS              object\n",
       "NAME_HOUSING_TYPE               object\n",
       "REGION_POPULATION_RELATIVE     float64\n",
       "DAYS_BIRTH                       int64\n",
       "DAYS_EMPLOYED                    int64\n",
       "DAYS_REGISTRATION              float64\n",
       "DAYS_ID_PUBLISH                  int64\n",
       "OWN_CAR_AGE                    float64\n",
       "FLAG_MOBIL                       int64\n",
       "FLAG_EMP_PHONE                   int64\n",
       "FLAG_WORK_PHONE                  int64\n",
       "FLAG_CONT_MOBILE                 int64\n",
       "FLAG_PHONE                       int64\n",
       "FLAG_EMAIL                       int64\n",
       "OCCUPATION_TYPE                 object\n",
       "CNT_FAM_MEMBERS                float64\n",
       "REGION_RATING_CLIENT             int64\n",
       "REGION_RATING_CLIENT_W_CITY      int64\n",
       "WEEKDAY_APPR_PROCESS_START      object\n",
       "HOUR_APPR_PROCESS_START          int64\n",
       "REG_REGION_NOT_LIVE_REGION       int64\n",
       "REG_REGION_NOT_WORK_REGION       int64\n",
       "LIVE_REGION_NOT_WORK_REGION      int64\n",
       "REG_CITY_NOT_LIVE_CITY           int64\n",
       "REG_CITY_NOT_WORK_CITY           int64\n",
       "LIVE_CITY_NOT_WORK_CITY          int64\n",
       "ORGANIZATION_TYPE               object\n",
       "EXT_SOURCE_1                   float64\n",
       "EXT_SOURCE_2                   float64\n",
       "EXT_SOURCE_3                   float64\n",
       "APARTMENTS_AVG                 float64\n",
       "BASEMENTAREA_AVG               float64\n",
       "YEARS_BEGINEXPLUATATION_AVG    float64\n",
       "YEARS_BUILD_AVG                float64\n",
       "COMMONAREA_AVG                 float64\n",
       "ELEVATORS_AVG                  float64\n",
       "ENTRANCES_AVG                  float64\n",
       "FLOORSMAX_AVG                  float64\n",
       "FLOORSMIN_AVG                  float64\n",
       "LANDAREA_AVG                   float64\n",
       "LIVINGAPARTMENTS_AVG           float64\n",
       "LIVINGAREA_AVG                 float64\n",
       "NONLIVINGAPARTMENTS_AVG        float64\n",
       "NONLIVINGAREA_AVG              float64\n",
       "APARTMENTS_MODE                float64\n",
       "BASEMENTAREA_MODE              float64\n",
       "dtype: object"
      ]
     },
     "execution_count": 7,
     "metadata": {},
     "output_type": "execute_result"
    }
   ],
   "source": [
    "train.dtypes"
   ]
  },
  {
   "cell_type": "code",
   "execution_count": 8,
   "metadata": {
    "scrolled": true
   },
   "outputs": [
    {
     "data": {
      "text/plain": [
       "NAME_CONTRACT_TYPE                  0\n",
       "CODE_GENDER                         0\n",
       "FLAG_OWN_CAR                        0\n",
       "FLAG_OWN_REALTY                     0\n",
       "CNT_CHILDREN                        0\n",
       "AMT_INCOME_TOTAL                    0\n",
       "AMT_CREDIT                          0\n",
       "AMT_ANNUITY                        12\n",
       "AMT_GOODS_PRICE                   278\n",
       "NAME_TYPE_SUITE                  1292\n",
       "NAME_INCOME_TYPE                    0\n",
       "NAME_EDUCATION_TYPE                 0\n",
       "NAME_FAMILY_STATUS                  0\n",
       "NAME_HOUSING_TYPE                   0\n",
       "REGION_POPULATION_RELATIVE          0\n",
       "DAYS_BIRTH                          0\n",
       "DAYS_EMPLOYED                       0\n",
       "DAYS_REGISTRATION                   0\n",
       "DAYS_ID_PUBLISH                     0\n",
       "OWN_CAR_AGE                    202929\n",
       "FLAG_MOBIL                          0\n",
       "FLAG_EMP_PHONE                      0\n",
       "FLAG_WORK_PHONE                     0\n",
       "FLAG_CONT_MOBILE                    0\n",
       "FLAG_PHONE                          0\n",
       "FLAG_EMAIL                          0\n",
       "OCCUPATION_TYPE                 96391\n",
       "CNT_FAM_MEMBERS                     2\n",
       "REGION_RATING_CLIENT                0\n",
       "REGION_RATING_CLIENT_W_CITY         0\n",
       "WEEKDAY_APPR_PROCESS_START          0\n",
       "HOUR_APPR_PROCESS_START             0\n",
       "REG_REGION_NOT_LIVE_REGION          0\n",
       "REG_REGION_NOT_WORK_REGION          0\n",
       "LIVE_REGION_NOT_WORK_REGION         0\n",
       "REG_CITY_NOT_LIVE_CITY              0\n",
       "REG_CITY_NOT_WORK_CITY              0\n",
       "LIVE_CITY_NOT_WORK_CITY             0\n",
       "ORGANIZATION_TYPE                   0\n",
       "EXT_SOURCE_1                   173378\n",
       "EXT_SOURCE_2                      660\n",
       "EXT_SOURCE_3                    60965\n",
       "APARTMENTS_AVG                 156061\n",
       "BASEMENTAREA_AVG               179943\n",
       "YEARS_BEGINEXPLUATATION_AVG    150007\n",
       "YEARS_BUILD_AVG                204488\n",
       "COMMONAREA_AVG                 214865\n",
       "ELEVATORS_AVG                  163891\n",
       "ENTRANCES_AVG                  154828\n",
       "FLOORSMAX_AVG                  153020\n",
       "FLOORSMIN_AVG                  208642\n",
       "LANDAREA_AVG                   182590\n",
       "LIVINGAPARTMENTS_AVG           210199\n",
       "LIVINGAREA_AVG                 154350\n",
       "NONLIVINGAPARTMENTS_AVG        213514\n",
       "NONLIVINGAREA_AVG              169682\n",
       "APARTMENTS_MODE                156061\n",
       "BASEMENTAREA_MODE              179943\n",
       "dtype: int64"
      ]
     },
     "execution_count": 8,
     "metadata": {},
     "output_type": "execute_result"
    }
   ],
   "source": [
    "train.isnull().sum()"
   ]
  },
  {
   "cell_type": "code",
   "execution_count": 6,
   "metadata": {
    "scrolled": true
   },
   "outputs": [
    {
     "data": {
      "text/plain": [
       "NAME_CONTRACT_TYPE             0\n",
       "CODE_GENDER                    0\n",
       "FLAG_OWN_CAR                   0\n",
       "FLAG_OWN_REALTY                0\n",
       "CNT_CHILDREN                   0\n",
       "AMT_INCOME_TOTAL               0\n",
       "AMT_CREDIT                     0\n",
       "AMT_ANNUITY                    0\n",
       "AMT_GOODS_PRICE                0\n",
       "NAME_TYPE_SUITE                0\n",
       "NAME_INCOME_TYPE               0\n",
       "NAME_EDUCATION_TYPE            0\n",
       "NAME_FAMILY_STATUS             0\n",
       "NAME_HOUSING_TYPE              0\n",
       "REGION_POPULATION_RELATIVE     0\n",
       "DAYS_BIRTH                     0\n",
       "DAYS_EMPLOYED                  0\n",
       "DAYS_REGISTRATION              0\n",
       "DAYS_ID_PUBLISH                0\n",
       "OWN_CAR_AGE                    0\n",
       "FLAG_MOBIL                     0\n",
       "FLAG_EMP_PHONE                 0\n",
       "FLAG_WORK_PHONE                0\n",
       "FLAG_CONT_MOBILE               0\n",
       "FLAG_PHONE                     0\n",
       "FLAG_EMAIL                     0\n",
       "OCCUPATION_TYPE                0\n",
       "CNT_FAM_MEMBERS                0\n",
       "REGION_RATING_CLIENT           0\n",
       "REGION_RATING_CLIENT_W_CITY    0\n",
       "WEEKDAY_APPR_PROCESS_START     0\n",
       "HOUR_APPR_PROCESS_START        0\n",
       "REG_REGION_NOT_LIVE_REGION     0\n",
       "REG_REGION_NOT_WORK_REGION     0\n",
       "LIVE_REGION_NOT_WORK_REGION    0\n",
       "REG_CITY_NOT_LIVE_CITY         0\n",
       "REG_CITY_NOT_WORK_CITY         0\n",
       "LIVE_CITY_NOT_WORK_CITY        0\n",
       "ORGANIZATION_TYPE              0\n",
       "EXT_SOURCE_1                   0\n",
       "EXT_SOURCE_2                   0\n",
       "EXT_SOURCE_3                   0\n",
       "APARTMENTS_AVG                 0\n",
       "BASEMENTAREA_AVG               0\n",
       "YEARS_BEGINEXPLUATATION_AVG    0\n",
       "YEARS_BUILD_AVG                0\n",
       "COMMONAREA_AVG                 0\n",
       "ELEVATORS_AVG                  0\n",
       "ENTRANCES_AVG                  0\n",
       "FLOORSMAX_AVG                  0\n",
       "FLOORSMIN_AVG                  0\n",
       "LANDAREA_AVG                   0\n",
       "LIVINGAPARTMENTS_AVG           0\n",
       "LIVINGAREA_AVG                 0\n",
       "NONLIVINGAPARTMENTS_AVG        0\n",
       "NONLIVINGAREA_AVG              0\n",
       "APARTMENTS_MODE                0\n",
       "BASEMENTAREA_MODE              0\n",
       "dtype: int64"
      ]
     },
     "execution_count": 6,
     "metadata": {},
     "output_type": "execute_result"
    }
   ],
   "source": [
    "#col = ['AMT_ANNUITY', 'AMT_GOODS_PRICE', 'NAME_TYPE_SUITE', 'OCCUPATION_TYPE', 'EXT_SOURCE_2', 'EXT_SOURCE_3']\n",
    "#train[col].fillna(train[col].mean(), inplace = True)\n",
    "train.fillna(0, inplace = True)\n",
    "#train.select_dtypes(include=['object']).fillna(\"\", inplace = True)\n",
    "train.isnull().sum()"
   ]
  },
  {
   "cell_type": "code",
   "execution_count": 7,
   "metadata": {},
   "outputs": [
    {
     "name": "stderr",
     "output_type": "stream",
     "text": [
      "C:\\Users\\Pro18\\Anaconda3\\lib\\site-packages\\sklearn\\preprocessing\\data.py:625: DataConversionWarning: Data with input dtype int64, float64 were all converted to float64 by StandardScaler.\n",
      "  return self.partial_fit(X, y)\n",
      "C:\\Users\\Pro18\\Anaconda3\\lib\\site-packages\\sklearn\\base.py:462: DataConversionWarning: Data with input dtype int64, float64 were all converted to float64 by StandardScaler.\n",
      "  return self.fit(X, **fit_params).transform(X)\n"
     ]
    },
    {
     "data": {
      "text/html": [
       "<div>\n",
       "<style scoped>\n",
       "    .dataframe tbody tr th:only-of-type {\n",
       "        vertical-align: middle;\n",
       "    }\n",
       "\n",
       "    .dataframe tbody tr th {\n",
       "        vertical-align: top;\n",
       "    }\n",
       "\n",
       "    .dataframe thead th {\n",
       "        text-align: right;\n",
       "    }\n",
       "</style>\n",
       "<table border=\"1\" class=\"dataframe\">\n",
       "  <thead>\n",
       "    <tr style=\"text-align: right;\">\n",
       "      <th></th>\n",
       "      <th>CNT_CHILDREN</th>\n",
       "      <th>AMT_INCOME_TOTAL</th>\n",
       "      <th>AMT_CREDIT</th>\n",
       "      <th>AMT_ANNUITY</th>\n",
       "      <th>AMT_GOODS_PRICE</th>\n",
       "      <th>REGION_POPULATION_RELATIVE</th>\n",
       "      <th>DAYS_BIRTH</th>\n",
       "      <th>DAYS_EMPLOYED</th>\n",
       "      <th>DAYS_REGISTRATION</th>\n",
       "      <th>DAYS_ID_PUBLISH</th>\n",
       "      <th>...</th>\n",
       "      <th>FLAG_OWN_CAR</th>\n",
       "      <th>FLAG_OWN_REALTY</th>\n",
       "      <th>NAME_TYPE_SUITE</th>\n",
       "      <th>NAME_INCOME_TYPE</th>\n",
       "      <th>NAME_EDUCATION_TYPE</th>\n",
       "      <th>NAME_FAMILY_STATUS</th>\n",
       "      <th>NAME_HOUSING_TYPE</th>\n",
       "      <th>OCCUPATION_TYPE</th>\n",
       "      <th>WEEKDAY_APPR_PROCESS_START</th>\n",
       "      <th>ORGANIZATION_TYPE</th>\n",
       "    </tr>\n",
       "  </thead>\n",
       "  <tbody>\n",
       "    <tr>\n",
       "      <th>0</th>\n",
       "      <td>-0.577538</td>\n",
       "      <td>0.142129</td>\n",
       "      <td>-0.478095</td>\n",
       "      <td>-0.166065</td>\n",
       "      <td>-0.505662</td>\n",
       "      <td>-0.149452</td>\n",
       "      <td>1.506880</td>\n",
       "      <td>-0.456215</td>\n",
       "      <td>0.379837</td>\n",
       "      <td>0.579154</td>\n",
       "      <td>...</td>\n",
       "      <td>N</td>\n",
       "      <td>Y</td>\n",
       "      <td>Unaccompanied</td>\n",
       "      <td>Working</td>\n",
       "      <td>Secondary / secondary special</td>\n",
       "      <td>Single / not married</td>\n",
       "      <td>House / apartment</td>\n",
       "      <td>Laborers</td>\n",
       "      <td>WEDNESDAY</td>\n",
       "      <td>Business Entity Type 3</td>\n",
       "    </tr>\n",
       "    <tr>\n",
       "      <th>1</th>\n",
       "      <td>-0.577538</td>\n",
       "      <td>0.426792</td>\n",
       "      <td>1.725450</td>\n",
       "      <td>0.592710</td>\n",
       "      <td>1.600480</td>\n",
       "      <td>-1.252750</td>\n",
       "      <td>-0.166821</td>\n",
       "      <td>-0.460115</td>\n",
       "      <td>1.078697</td>\n",
       "      <td>1.790855</td>\n",
       "      <td>...</td>\n",
       "      <td>N</td>\n",
       "      <td>N</td>\n",
       "      <td>Family</td>\n",
       "      <td>State servant</td>\n",
       "      <td>Higher education</td>\n",
       "      <td>Married</td>\n",
       "      <td>House / apartment</td>\n",
       "      <td>Core staff</td>\n",
       "      <td>MONDAY</td>\n",
       "      <td>School</td>\n",
       "    </tr>\n",
       "    <tr>\n",
       "      <th>2</th>\n",
       "      <td>-0.577538</td>\n",
       "      <td>-0.427196</td>\n",
       "      <td>-1.152888</td>\n",
       "      <td>-1.404507</td>\n",
       "      <td>-1.090025</td>\n",
       "      <td>-0.783451</td>\n",
       "      <td>-0.689509</td>\n",
       "      <td>-0.453299</td>\n",
       "      <td>0.206116</td>\n",
       "      <td>0.306869</td>\n",
       "      <td>...</td>\n",
       "      <td>Y</td>\n",
       "      <td>Y</td>\n",
       "      <td>Unaccompanied</td>\n",
       "      <td>Working</td>\n",
       "      <td>Secondary / secondary special</td>\n",
       "      <td>Single / not married</td>\n",
       "      <td>House / apartment</td>\n",
       "      <td>Laborers</td>\n",
       "      <td>MONDAY</td>\n",
       "      <td>Government</td>\n",
       "    </tr>\n",
       "    <tr>\n",
       "      <th>3</th>\n",
       "      <td>-0.577538</td>\n",
       "      <td>-0.142533</td>\n",
       "      <td>-0.711430</td>\n",
       "      <td>0.177929</td>\n",
       "      <td>-0.651753</td>\n",
       "      <td>-0.928991</td>\n",
       "      <td>-0.680114</td>\n",
       "      <td>-0.473217</td>\n",
       "      <td>-1.375829</td>\n",
       "      <td>0.369143</td>\n",
       "      <td>...</td>\n",
       "      <td>N</td>\n",
       "      <td>Y</td>\n",
       "      <td>Unaccompanied</td>\n",
       "      <td>Working</td>\n",
       "      <td>Secondary / secondary special</td>\n",
       "      <td>Civil marriage</td>\n",
       "      <td>House / apartment</td>\n",
       "      <td>Laborers</td>\n",
       "      <td>WEDNESDAY</td>\n",
       "      <td>Business Entity Type 3</td>\n",
       "    </tr>\n",
       "    <tr>\n",
       "      <th>4</th>\n",
       "      <td>-0.577538</td>\n",
       "      <td>-0.199466</td>\n",
       "      <td>-0.213734</td>\n",
       "      <td>-0.361658</td>\n",
       "      <td>-0.067390</td>\n",
       "      <td>0.563570</td>\n",
       "      <td>-0.892535</td>\n",
       "      <td>-0.473210</td>\n",
       "      <td>0.191639</td>\n",
       "      <td>-0.307263</td>\n",
       "      <td>...</td>\n",
       "      <td>N</td>\n",
       "      <td>Y</td>\n",
       "      <td>Unaccompanied</td>\n",
       "      <td>Working</td>\n",
       "      <td>Secondary / secondary special</td>\n",
       "      <td>Single / not married</td>\n",
       "      <td>House / apartment</td>\n",
       "      <td>Core staff</td>\n",
       "      <td>THURSDAY</td>\n",
       "      <td>Religion</td>\n",
       "    </tr>\n",
       "  </tbody>\n",
       "</table>\n",
       "<p>5 rows × 58 columns</p>\n",
       "</div>"
      ],
      "text/plain": [
       "   CNT_CHILDREN  AMT_INCOME_TOTAL  AMT_CREDIT  AMT_ANNUITY  AMT_GOODS_PRICE  \\\n",
       "0     -0.577538          0.142129   -0.478095    -0.166065        -0.505662   \n",
       "1     -0.577538          0.426792    1.725450     0.592710         1.600480   \n",
       "2     -0.577538         -0.427196   -1.152888    -1.404507        -1.090025   \n",
       "3     -0.577538         -0.142533   -0.711430     0.177929        -0.651753   \n",
       "4     -0.577538         -0.199466   -0.213734    -0.361658        -0.067390   \n",
       "\n",
       "   REGION_POPULATION_RELATIVE  DAYS_BIRTH  DAYS_EMPLOYED  DAYS_REGISTRATION  \\\n",
       "0                   -0.149452    1.506880      -0.456215           0.379837   \n",
       "1                   -1.252750   -0.166821      -0.460115           1.078697   \n",
       "2                   -0.783451   -0.689509      -0.453299           0.206116   \n",
       "3                   -0.928991   -0.680114      -0.473217          -1.375829   \n",
       "4                    0.563570   -0.892535      -0.473210           0.191639   \n",
       "\n",
       "   DAYS_ID_PUBLISH           ...            FLAG_OWN_CAR  FLAG_OWN_REALTY  \\\n",
       "0         0.579154           ...                       N                Y   \n",
       "1         1.790855           ...                       N                N   \n",
       "2         0.306869           ...                       Y                Y   \n",
       "3         0.369143           ...                       N                Y   \n",
       "4        -0.307263           ...                       N                Y   \n",
       "\n",
       "   NAME_TYPE_SUITE  NAME_INCOME_TYPE            NAME_EDUCATION_TYPE  \\\n",
       "0    Unaccompanied           Working  Secondary / secondary special   \n",
       "1           Family     State servant               Higher education   \n",
       "2    Unaccompanied           Working  Secondary / secondary special   \n",
       "3    Unaccompanied           Working  Secondary / secondary special   \n",
       "4    Unaccompanied           Working  Secondary / secondary special   \n",
       "\n",
       "     NAME_FAMILY_STATUS  NAME_HOUSING_TYPE  OCCUPATION_TYPE  \\\n",
       "0  Single / not married  House / apartment         Laborers   \n",
       "1               Married  House / apartment       Core staff   \n",
       "2  Single / not married  House / apartment         Laborers   \n",
       "3        Civil marriage  House / apartment         Laborers   \n",
       "4  Single / not married  House / apartment       Core staff   \n",
       "\n",
       "   WEEKDAY_APPR_PROCESS_START       ORGANIZATION_TYPE  \n",
       "0                   WEDNESDAY  Business Entity Type 3  \n",
       "1                      MONDAY                  School  \n",
       "2                      MONDAY              Government  \n",
       "3                   WEDNESDAY  Business Entity Type 3  \n",
       "4                    THURSDAY                Religion  \n",
       "\n",
       "[5 rows x 58 columns]"
      ]
     },
     "execution_count": 7,
     "metadata": {},
     "output_type": "execute_result"
    }
   ],
   "source": [
    "from sklearn.preprocessing import StandardScaler\n",
    "sc = StandardScaler()\n",
    "train_f = pd.DataFrame(sc.fit_transform(train.loc[:, train.dtypes != ('object')]), columns=list(train.loc[:, train.dtypes != ('object')]))\n",
    "train_sc = train_f.join(train.loc[:, train.dtypes == 'object'])\n",
    "train_sc.head()"
   ]
  },
  {
   "cell_type": "code",
   "execution_count": 70,
   "metadata": {},
   "outputs": [],
   "source": [
    "from sklearn.model_selection import train_test_split\n",
    "X_train, X_test, y_train, y_test = train_test_split(train, Y, random_state=0, test_size=0.3)"
   ]
  },
  {
   "cell_type": "code",
   "execution_count": 9,
   "metadata": {},
   "outputs": [],
   "source": [
    "X_train_f = X_train.select_dtypes(exclude=['object'])\n",
    "X_test_f = X_test.select_dtypes(exclude=['object'])"
   ]
  },
  {
   "cell_type": "markdown",
   "metadata": {},
   "source": [
    "__Задание 2. (1.5 балла)__\n",
    "\n",
    "Обучите реализации градиентного бустинга LightGBM и Catboost на вещественных признаках без подбора параметров. \n",
    "Почему получилась заметная разница в качестве? \n",
    "\n",
    "В этом и последующих экспериментах необходимо измерять время обучения моделей."
   ]
  },
  {
   "cell_type": "code",
   "execution_count": 13,
   "metadata": {},
   "outputs": [],
   "source": [
    "import time\n",
    "from catboost import CatBoostClassifier\n",
    "from lightgbm import LGBMClassifier\n",
    "from sklearn.metrics import auc, precision_recall_curve, average_precision_score\n",
    "from sklearn.model_selection import KFold"
   ]
  },
  {
   "cell_type": "code",
   "execution_count": 14,
   "metadata": {},
   "outputs": [
    {
     "name": "stdout",
     "output_type": "stream",
     "text": [
      "Learning rate set to 0.076622\n",
      "0:\tlearn: 0.6158044\ttotal: 267ms\tremaining: 4m 26s\n",
      "1:\tlearn: 0.5517233\ttotal: 466ms\tremaining: 3m 52s\n",
      "2:\tlearn: 0.4992997\ttotal: 699ms\tremaining: 3m 52s\n",
      "3:\tlearn: 0.4556787\ttotal: 935ms\tremaining: 3m 52s\n",
      "4:\tlearn: 0.4219166\ttotal: 1.13s\tremaining: 3m 45s\n",
      "5:\tlearn: 0.3941378\ttotal: 1.29s\tremaining: 3m 33s\n",
      "6:\tlearn: 0.3718689\ttotal: 1.42s\tremaining: 3m 21s\n",
      "7:\tlearn: 0.3540707\ttotal: 1.55s\tremaining: 3m 12s\n",
      "8:\tlearn: 0.3383027\ttotal: 1.7s\tremaining: 3m 6s\n",
      "9:\tlearn: 0.3254186\ttotal: 1.86s\tremaining: 3m 3s\n",
      "10:\tlearn: 0.3144907\ttotal: 2.01s\tremaining: 3m\n",
      "11:\tlearn: 0.3064209\ttotal: 2.18s\tremaining: 2m 59s\n",
      "12:\tlearn: 0.2993732\ttotal: 2.31s\tremaining: 2m 55s\n",
      "13:\tlearn: 0.2924898\ttotal: 2.46s\tremaining: 2m 53s\n",
      "14:\tlearn: 0.2873807\ttotal: 2.62s\tremaining: 2m 52s\n",
      "15:\tlearn: 0.2828867\ttotal: 2.84s\tremaining: 2m 54s\n",
      "16:\tlearn: 0.2787656\ttotal: 3.06s\tremaining: 2m 56s\n",
      "17:\tlearn: 0.2759529\ttotal: 3.25s\tremaining: 2m 57s\n",
      "18:\tlearn: 0.2729984\ttotal: 3.41s\tremaining: 2m 56s\n",
      "19:\tlearn: 0.2707836\ttotal: 3.56s\tremaining: 2m 54s\n",
      "20:\tlearn: 0.2685606\ttotal: 3.7s\tremaining: 2m 52s\n",
      "21:\tlearn: 0.2668005\ttotal: 3.9s\tremaining: 2m 53s\n",
      "22:\tlearn: 0.2650852\ttotal: 4.09s\tremaining: 2m 53s\n",
      "23:\tlearn: 0.2639689\ttotal: 4.27s\tremaining: 2m 53s\n",
      "24:\tlearn: 0.2626925\ttotal: 4.42s\tremaining: 2m 52s\n",
      "25:\tlearn: 0.2615623\ttotal: 4.57s\tremaining: 2m 51s\n",
      "26:\tlearn: 0.2606811\ttotal: 4.75s\tremaining: 2m 51s\n",
      "27:\tlearn: 0.2600067\ttotal: 4.93s\tremaining: 2m 51s\n",
      "28:\tlearn: 0.2592472\ttotal: 5.11s\tremaining: 2m 51s\n",
      "29:\tlearn: 0.2587217\ttotal: 5.29s\tremaining: 2m 50s\n",
      "30:\tlearn: 0.2581711\ttotal: 5.43s\tremaining: 2m 49s\n",
      "31:\tlearn: 0.2576982\ttotal: 5.59s\tremaining: 2m 49s\n",
      "32:\tlearn: 0.2571930\ttotal: 5.74s\tremaining: 2m 48s\n",
      "33:\tlearn: 0.2567593\ttotal: 5.9s\tremaining: 2m 47s\n",
      "34:\tlearn: 0.2563159\ttotal: 6.07s\tremaining: 2m 47s\n",
      "35:\tlearn: 0.2559786\ttotal: 6.25s\tremaining: 2m 47s\n",
      "36:\tlearn: 0.2556411\ttotal: 6.38s\tremaining: 2m 46s\n",
      "37:\tlearn: 0.2553794\ttotal: 6.53s\tremaining: 2m 45s\n",
      "38:\tlearn: 0.2550476\ttotal: 6.67s\tremaining: 2m 44s\n",
      "39:\tlearn: 0.2547878\ttotal: 6.84s\tremaining: 2m 44s\n",
      "40:\tlearn: 0.2545352\ttotal: 6.98s\tremaining: 2m 43s\n",
      "41:\tlearn: 0.2543205\ttotal: 7.16s\tremaining: 2m 43s\n",
      "42:\tlearn: 0.2541043\ttotal: 7.36s\tremaining: 2m 43s\n",
      "43:\tlearn: 0.2539491\ttotal: 7.55s\tremaining: 2m 44s\n",
      "44:\tlearn: 0.2538371\ttotal: 7.71s\tremaining: 2m 43s\n",
      "45:\tlearn: 0.2536506\ttotal: 7.87s\tremaining: 2m 43s\n",
      "46:\tlearn: 0.2534653\ttotal: 8.01s\tremaining: 2m 42s\n",
      "47:\tlearn: 0.2533492\ttotal: 8.16s\tremaining: 2m 41s\n",
      "48:\tlearn: 0.2532151\ttotal: 8.31s\tremaining: 2m 41s\n",
      "49:\tlearn: 0.2530998\ttotal: 8.45s\tremaining: 2m 40s\n",
      "50:\tlearn: 0.2529698\ttotal: 8.59s\tremaining: 2m 39s\n",
      "51:\tlearn: 0.2528863\ttotal: 8.75s\tremaining: 2m 39s\n",
      "52:\tlearn: 0.2527538\ttotal: 8.9s\tremaining: 2m 39s\n",
      "53:\tlearn: 0.2526297\ttotal: 9.06s\tremaining: 2m 38s\n",
      "54:\tlearn: 0.2524989\ttotal: 9.2s\tremaining: 2m 38s\n",
      "55:\tlearn: 0.2523892\ttotal: 9.35s\tremaining: 2m 37s\n",
      "56:\tlearn: 0.2523221\ttotal: 9.49s\tremaining: 2m 37s\n",
      "57:\tlearn: 0.2521941\ttotal: 9.64s\tremaining: 2m 36s\n",
      "58:\tlearn: 0.2520891\ttotal: 9.79s\tremaining: 2m 36s\n",
      "59:\tlearn: 0.2520194\ttotal: 9.94s\tremaining: 2m 35s\n",
      "60:\tlearn: 0.2519227\ttotal: 10.1s\tremaining: 2m 35s\n",
      "61:\tlearn: 0.2518520\ttotal: 10.2s\tremaining: 2m 35s\n",
      "62:\tlearn: 0.2517693\ttotal: 10.4s\tremaining: 2m 34s\n",
      "63:\tlearn: 0.2516472\ttotal: 10.5s\tremaining: 2m 34s\n",
      "64:\tlearn: 0.2515679\ttotal: 10.7s\tremaining: 2m 33s\n",
      "65:\tlearn: 0.2515179\ttotal: 10.8s\tremaining: 2m 33s\n",
      "66:\tlearn: 0.2514692\ttotal: 11s\tremaining: 2m 32s\n",
      "67:\tlearn: 0.2514045\ttotal: 11.1s\tremaining: 2m 32s\n",
      "68:\tlearn: 0.2513505\ttotal: 11.3s\tremaining: 2m 32s\n",
      "69:\tlearn: 0.2512702\ttotal: 11.4s\tremaining: 2m 32s\n",
      "70:\tlearn: 0.2511798\ttotal: 11.6s\tremaining: 2m 31s\n",
      "71:\tlearn: 0.2511214\ttotal: 11.7s\tremaining: 2m 31s\n",
      "72:\tlearn: 0.2510703\ttotal: 11.9s\tremaining: 2m 30s\n",
      "73:\tlearn: 0.2510167\ttotal: 12s\tremaining: 2m 30s\n",
      "74:\tlearn: 0.2509424\ttotal: 12.2s\tremaining: 2m 30s\n",
      "75:\tlearn: 0.2508338\ttotal: 12.3s\tremaining: 2m 29s\n",
      "76:\tlearn: 0.2507573\ttotal: 12.5s\tremaining: 2m 29s\n",
      "77:\tlearn: 0.2507156\ttotal: 12.6s\tremaining: 2m 28s\n",
      "78:\tlearn: 0.2506604\ttotal: 12.8s\tremaining: 2m 28s\n",
      "79:\tlearn: 0.2505887\ttotal: 12.9s\tremaining: 2m 28s\n",
      "80:\tlearn: 0.2505417\ttotal: 13.1s\tremaining: 2m 28s\n",
      "81:\tlearn: 0.2504845\ttotal: 13.2s\tremaining: 2m 27s\n",
      "82:\tlearn: 0.2504400\ttotal: 13.4s\tremaining: 2m 27s\n",
      "83:\tlearn: 0.2503527\ttotal: 13.5s\tremaining: 2m 27s\n",
      "84:\tlearn: 0.2503118\ttotal: 13.7s\tremaining: 2m 27s\n",
      "85:\tlearn: 0.2502572\ttotal: 13.8s\tremaining: 2m 26s\n",
      "86:\tlearn: 0.2502275\ttotal: 14s\tremaining: 2m 26s\n",
      "87:\tlearn: 0.2501598\ttotal: 14.2s\tremaining: 2m 27s\n",
      "88:\tlearn: 0.2501040\ttotal: 14.3s\tremaining: 2m 26s\n",
      "89:\tlearn: 0.2500696\ttotal: 14.5s\tremaining: 2m 26s\n",
      "90:\tlearn: 0.2500345\ttotal: 14.6s\tremaining: 2m 26s\n",
      "91:\tlearn: 0.2499898\ttotal: 14.8s\tremaining: 2m 25s\n",
      "92:\tlearn: 0.2499303\ttotal: 14.9s\tremaining: 2m 25s\n",
      "93:\tlearn: 0.2498894\ttotal: 15.1s\tremaining: 2m 25s\n",
      "94:\tlearn: 0.2498256\ttotal: 15.2s\tremaining: 2m 25s\n",
      "95:\tlearn: 0.2497973\ttotal: 15.4s\tremaining: 2m 24s\n",
      "96:\tlearn: 0.2497562\ttotal: 15.5s\tremaining: 2m 24s\n",
      "97:\tlearn: 0.2496899\ttotal: 15.7s\tremaining: 2m 24s\n",
      "98:\tlearn: 0.2496492\ttotal: 15.8s\tremaining: 2m 24s\n",
      "99:\tlearn: 0.2496234\ttotal: 16s\tremaining: 2m 23s\n",
      "100:\tlearn: 0.2495798\ttotal: 16.2s\tremaining: 2m 23s\n",
      "101:\tlearn: 0.2495445\ttotal: 16.3s\tremaining: 2m 23s\n",
      "102:\tlearn: 0.2495210\ttotal: 16.5s\tremaining: 2m 23s\n",
      "103:\tlearn: 0.2494864\ttotal: 16.6s\tremaining: 2m 22s\n",
      "104:\tlearn: 0.2494549\ttotal: 16.8s\tremaining: 2m 22s\n",
      "105:\tlearn: 0.2494254\ttotal: 16.9s\tremaining: 2m 22s\n",
      "106:\tlearn: 0.2493886\ttotal: 17.1s\tremaining: 2m 22s\n",
      "107:\tlearn: 0.2493544\ttotal: 17.3s\tremaining: 2m 22s\n",
      "108:\tlearn: 0.2493010\ttotal: 17.5s\tremaining: 2m 22s\n",
      "109:\tlearn: 0.2492682\ttotal: 17.6s\tremaining: 2m 22s\n",
      "110:\tlearn: 0.2492448\ttotal: 17.8s\tremaining: 2m 22s\n",
      "111:\tlearn: 0.2492247\ttotal: 17.9s\tremaining: 2m 22s\n",
      "112:\tlearn: 0.2491905\ttotal: 18.1s\tremaining: 2m 22s\n",
      "113:\tlearn: 0.2491486\ttotal: 18.2s\tremaining: 2m 21s\n",
      "114:\tlearn: 0.2491252\ttotal: 18.4s\tremaining: 2m 21s\n",
      "115:\tlearn: 0.2490895\ttotal: 18.5s\tremaining: 2m 20s\n",
      "116:\tlearn: 0.2490568\ttotal: 18.6s\tremaining: 2m 20s\n",
      "117:\tlearn: 0.2490142\ttotal: 18.8s\tremaining: 2m 20s\n",
      "118:\tlearn: 0.2489848\ttotal: 18.9s\tremaining: 2m 20s\n",
      "119:\tlearn: 0.2489430\ttotal: 19.1s\tremaining: 2m 19s\n",
      "120:\tlearn: 0.2488931\ttotal: 19.2s\tremaining: 2m 19s\n",
      "121:\tlearn: 0.2488523\ttotal: 19.4s\tremaining: 2m 19s\n",
      "122:\tlearn: 0.2488349\ttotal: 19.5s\tremaining: 2m 19s\n",
      "123:\tlearn: 0.2488060\ttotal: 19.7s\tremaining: 2m 18s\n",
      "124:\tlearn: 0.2487704\ttotal: 19.8s\tremaining: 2m 18s\n",
      "125:\tlearn: 0.2487478\ttotal: 19.9s\tremaining: 2m 18s\n",
      "126:\tlearn: 0.2486998\ttotal: 20.1s\tremaining: 2m 18s\n",
      "127:\tlearn: 0.2486763\ttotal: 20.3s\tremaining: 2m 18s\n",
      "128:\tlearn: 0.2486520\ttotal: 20.4s\tremaining: 2m 17s\n",
      "129:\tlearn: 0.2486072\ttotal: 20.6s\tremaining: 2m 17s\n",
      "130:\tlearn: 0.2485748\ttotal: 20.7s\tremaining: 2m 17s\n",
      "131:\tlearn: 0.2485555\ttotal: 20.8s\tremaining: 2m 16s\n",
      "132:\tlearn: 0.2485101\ttotal: 21s\tremaining: 2m 16s\n",
      "133:\tlearn: 0.2484740\ttotal: 21.1s\tremaining: 2m 16s\n",
      "134:\tlearn: 0.2484413\ttotal: 21.3s\tremaining: 2m 16s\n",
      "135:\tlearn: 0.2484184\ttotal: 21.5s\tremaining: 2m 16s\n",
      "136:\tlearn: 0.2483851\ttotal: 21.6s\tremaining: 2m 16s\n",
      "137:\tlearn: 0.2483299\ttotal: 21.8s\tremaining: 2m 16s\n",
      "138:\tlearn: 0.2482878\ttotal: 22s\tremaining: 2m 15s\n",
      "139:\tlearn: 0.2482540\ttotal: 22.1s\tremaining: 2m 15s\n",
      "140:\tlearn: 0.2482197\ttotal: 22.2s\tremaining: 2m 15s\n",
      "141:\tlearn: 0.2481844\ttotal: 22.4s\tremaining: 2m 15s\n",
      "142:\tlearn: 0.2481496\ttotal: 22.5s\tremaining: 2m 14s\n",
      "143:\tlearn: 0.2481031\ttotal: 22.7s\tremaining: 2m 14s\n",
      "144:\tlearn: 0.2480776\ttotal: 22.8s\tremaining: 2m 14s\n",
      "145:\tlearn: 0.2480500\ttotal: 22.9s\tremaining: 2m 14s\n",
      "146:\tlearn: 0.2480286\ttotal: 23.1s\tremaining: 2m 13s\n",
      "147:\tlearn: 0.2479880\ttotal: 23.2s\tremaining: 2m 13s\n",
      "148:\tlearn: 0.2479553\ttotal: 23.4s\tremaining: 2m 13s\n",
      "149:\tlearn: 0.2479155\ttotal: 23.5s\tremaining: 2m 13s\n",
      "150:\tlearn: 0.2478867\ttotal: 23.7s\tremaining: 2m 13s\n",
      "151:\tlearn: 0.2478374\ttotal: 23.9s\tremaining: 2m 13s\n",
      "152:\tlearn: 0.2478016\ttotal: 24s\tremaining: 2m 13s\n",
      "153:\tlearn: 0.2477837\ttotal: 24.2s\tremaining: 2m 12s\n",
      "154:\tlearn: 0.2477373\ttotal: 24.4s\tremaining: 2m 12s\n",
      "155:\tlearn: 0.2477171\ttotal: 24.5s\tremaining: 2m 12s\n",
      "156:\tlearn: 0.2476984\ttotal: 24.7s\tremaining: 2m 12s\n",
      "157:\tlearn: 0.2476823\ttotal: 24.9s\tremaining: 2m 12s\n"
     ]
    },
    {
     "name": "stdout",
     "output_type": "stream",
     "text": [
      "158:\tlearn: 0.2476462\ttotal: 25s\tremaining: 2m 12s\n",
      "159:\tlearn: 0.2476047\ttotal: 25.2s\tremaining: 2m 12s\n",
      "160:\tlearn: 0.2475835\ttotal: 25.4s\tremaining: 2m 12s\n",
      "161:\tlearn: 0.2475499\ttotal: 25.6s\tremaining: 2m 12s\n",
      "162:\tlearn: 0.2475258\ttotal: 25.7s\tremaining: 2m 11s\n",
      "163:\tlearn: 0.2475085\ttotal: 25.9s\tremaining: 2m 11s\n",
      "164:\tlearn: 0.2474904\ttotal: 26s\tremaining: 2m 11s\n",
      "165:\tlearn: 0.2474599\ttotal: 26.2s\tremaining: 2m 11s\n",
      "166:\tlearn: 0.2474236\ttotal: 26.3s\tremaining: 2m 11s\n",
      "167:\tlearn: 0.2473843\ttotal: 26.5s\tremaining: 2m 11s\n",
      "168:\tlearn: 0.2473583\ttotal: 26.6s\tremaining: 2m 10s\n",
      "169:\tlearn: 0.2473306\ttotal: 26.7s\tremaining: 2m 10s\n",
      "170:\tlearn: 0.2472953\ttotal: 26.9s\tremaining: 2m 10s\n",
      "171:\tlearn: 0.2472654\ttotal: 27.1s\tremaining: 2m 10s\n",
      "172:\tlearn: 0.2472168\ttotal: 27.2s\tremaining: 2m 10s\n",
      "173:\tlearn: 0.2471940\ttotal: 27.3s\tremaining: 2m 9s\n",
      "174:\tlearn: 0.2471654\ttotal: 27.5s\tremaining: 2m 9s\n",
      "175:\tlearn: 0.2471511\ttotal: 27.6s\tremaining: 2m 9s\n",
      "176:\tlearn: 0.2471143\ttotal: 27.7s\tremaining: 2m 8s\n",
      "177:\tlearn: 0.2470973\ttotal: 27.9s\tremaining: 2m 8s\n",
      "178:\tlearn: 0.2470698\ttotal: 28s\tremaining: 2m 8s\n",
      "179:\tlearn: 0.2470366\ttotal: 28.2s\tremaining: 2m 8s\n",
      "180:\tlearn: 0.2470213\ttotal: 28.3s\tremaining: 2m 8s\n",
      "181:\tlearn: 0.2469967\ttotal: 28.5s\tremaining: 2m 8s\n",
      "182:\tlearn: 0.2469708\ttotal: 28.6s\tremaining: 2m 7s\n",
      "183:\tlearn: 0.2469309\ttotal: 28.8s\tremaining: 2m 7s\n",
      "184:\tlearn: 0.2468866\ttotal: 29s\tremaining: 2m 7s\n",
      "185:\tlearn: 0.2468569\ttotal: 29.1s\tremaining: 2m 7s\n",
      "186:\tlearn: 0.2468348\ttotal: 29.2s\tremaining: 2m 7s\n",
      "187:\tlearn: 0.2467937\ttotal: 29.4s\tremaining: 2m 6s\n",
      "188:\tlearn: 0.2467824\ttotal: 29.5s\tremaining: 2m 6s\n",
      "189:\tlearn: 0.2467413\ttotal: 29.7s\tremaining: 2m 6s\n",
      "190:\tlearn: 0.2467145\ttotal: 29.8s\tremaining: 2m 6s\n",
      "191:\tlearn: 0.2466936\ttotal: 29.9s\tremaining: 2m 5s\n",
      "192:\tlearn: 0.2466723\ttotal: 30.1s\tremaining: 2m 5s\n",
      "193:\tlearn: 0.2466500\ttotal: 30.2s\tremaining: 2m 5s\n",
      "194:\tlearn: 0.2466229\ttotal: 30.4s\tremaining: 2m 5s\n",
      "195:\tlearn: 0.2465792\ttotal: 30.5s\tremaining: 2m 5s\n",
      "196:\tlearn: 0.2465557\ttotal: 30.7s\tremaining: 2m 4s\n",
      "197:\tlearn: 0.2465369\ttotal: 30.8s\tremaining: 2m 4s\n",
      "198:\tlearn: 0.2465102\ttotal: 30.9s\tremaining: 2m 4s\n",
      "199:\tlearn: 0.2464871\ttotal: 31s\tremaining: 2m 4s\n",
      "200:\tlearn: 0.2464562\ttotal: 31.2s\tremaining: 2m 4s\n",
      "201:\tlearn: 0.2464102\ttotal: 31.3s\tremaining: 2m 3s\n",
      "202:\tlearn: 0.2463677\ttotal: 31.5s\tremaining: 2m 3s\n",
      "203:\tlearn: 0.2463249\ttotal: 31.6s\tremaining: 2m 3s\n",
      "204:\tlearn: 0.2463036\ttotal: 31.8s\tremaining: 2m 3s\n",
      "205:\tlearn: 0.2462816\ttotal: 31.9s\tremaining: 2m 3s\n",
      "206:\tlearn: 0.2462542\ttotal: 32.1s\tremaining: 2m 2s\n",
      "207:\tlearn: 0.2462116\ttotal: 32.3s\tremaining: 2m 2s\n",
      "208:\tlearn: 0.2461916\ttotal: 32.4s\tremaining: 2m 2s\n",
      "209:\tlearn: 0.2461719\ttotal: 32.6s\tremaining: 2m 2s\n",
      "210:\tlearn: 0.2461426\ttotal: 32.8s\tremaining: 2m 2s\n",
      "211:\tlearn: 0.2461273\ttotal: 33s\tremaining: 2m 2s\n",
      "212:\tlearn: 0.2460966\ttotal: 33.1s\tremaining: 2m 2s\n",
      "213:\tlearn: 0.2460648\ttotal: 33.3s\tremaining: 2m 2s\n",
      "214:\tlearn: 0.2460436\ttotal: 33.4s\tremaining: 2m 2s\n",
      "215:\tlearn: 0.2460030\ttotal: 33.6s\tremaining: 2m 1s\n",
      "216:\tlearn: 0.2459795\ttotal: 33.7s\tremaining: 2m 1s\n",
      "217:\tlearn: 0.2459389\ttotal: 33.9s\tremaining: 2m 1s\n",
      "218:\tlearn: 0.2459209\ttotal: 34s\tremaining: 2m 1s\n",
      "219:\tlearn: 0.2459002\ttotal: 34.2s\tremaining: 2m 1s\n",
      "220:\tlearn: 0.2458725\ttotal: 34.4s\tremaining: 2m 1s\n",
      "221:\tlearn: 0.2458521\ttotal: 34.5s\tremaining: 2m\n",
      "222:\tlearn: 0.2458425\ttotal: 34.7s\tremaining: 2m\n",
      "223:\tlearn: 0.2458193\ttotal: 34.8s\tremaining: 2m\n",
      "224:\tlearn: 0.2458001\ttotal: 35s\tremaining: 2m\n",
      "225:\tlearn: 0.2457728\ttotal: 35.1s\tremaining: 2m\n",
      "226:\tlearn: 0.2457547\ttotal: 35.3s\tremaining: 2m\n",
      "227:\tlearn: 0.2457292\ttotal: 35.5s\tremaining: 2m\n",
      "228:\tlearn: 0.2456992\ttotal: 35.7s\tremaining: 2m\n",
      "229:\tlearn: 0.2456581\ttotal: 35.9s\tremaining: 2m\n",
      "230:\tlearn: 0.2456285\ttotal: 36s\tremaining: 1m 59s\n",
      "231:\tlearn: 0.2456093\ttotal: 36.2s\tremaining: 1m 59s\n",
      "232:\tlearn: 0.2455854\ttotal: 36.3s\tremaining: 1m 59s\n",
      "233:\tlearn: 0.2455410\ttotal: 36.5s\tremaining: 1m 59s\n",
      "234:\tlearn: 0.2455087\ttotal: 36.6s\tremaining: 1m 59s\n",
      "235:\tlearn: 0.2454631\ttotal: 36.7s\tremaining: 1m 58s\n",
      "236:\tlearn: 0.2454217\ttotal: 36.9s\tremaining: 1m 58s\n",
      "237:\tlearn: 0.2454087\ttotal: 37s\tremaining: 1m 58s\n",
      "238:\tlearn: 0.2453821\ttotal: 37.2s\tremaining: 1m 58s\n",
      "239:\tlearn: 0.2453652\ttotal: 37.3s\tremaining: 1m 58s\n",
      "240:\tlearn: 0.2453412\ttotal: 37.4s\tremaining: 1m 57s\n",
      "241:\tlearn: 0.2453156\ttotal: 37.6s\tremaining: 1m 57s\n",
      "242:\tlearn: 0.2452996\ttotal: 37.7s\tremaining: 1m 57s\n",
      "243:\tlearn: 0.2452849\ttotal: 37.9s\tremaining: 1m 57s\n",
      "244:\tlearn: 0.2452506\ttotal: 38s\tremaining: 1m 57s\n",
      "245:\tlearn: 0.2452173\ttotal: 38.2s\tremaining: 1m 56s\n",
      "246:\tlearn: 0.2451805\ttotal: 38.3s\tremaining: 1m 56s\n",
      "247:\tlearn: 0.2451650\ttotal: 38.4s\tremaining: 1m 56s\n",
      "248:\tlearn: 0.2451433\ttotal: 38.6s\tremaining: 1m 56s\n",
      "249:\tlearn: 0.2451148\ttotal: 38.7s\tremaining: 1m 56s\n",
      "250:\tlearn: 0.2450928\ttotal: 38.9s\tremaining: 1m 55s\n",
      "251:\tlearn: 0.2450655\ttotal: 39s\tremaining: 1m 55s\n",
      "252:\tlearn: 0.2450134\ttotal: 39.2s\tremaining: 1m 55s\n",
      "253:\tlearn: 0.2449689\ttotal: 39.3s\tremaining: 1m 55s\n",
      "254:\tlearn: 0.2449460\ttotal: 39.4s\tremaining: 1m 55s\n",
      "255:\tlearn: 0.2449215\ttotal: 39.6s\tremaining: 1m 54s\n",
      "256:\tlearn: 0.2448999\ttotal: 39.7s\tremaining: 1m 54s\n",
      "257:\tlearn: 0.2448670\ttotal: 39.9s\tremaining: 1m 54s\n",
      "258:\tlearn: 0.2448366\ttotal: 40s\tremaining: 1m 54s\n",
      "259:\tlearn: 0.2448182\ttotal: 40.1s\tremaining: 1m 54s\n",
      "260:\tlearn: 0.2448000\ttotal: 40.3s\tremaining: 1m 54s\n",
      "261:\tlearn: 0.2447853\ttotal: 40.4s\tremaining: 1m 53s\n",
      "262:\tlearn: 0.2447633\ttotal: 40.5s\tremaining: 1m 53s\n",
      "263:\tlearn: 0.2447467\ttotal: 40.7s\tremaining: 1m 53s\n",
      "264:\tlearn: 0.2447167\ttotal: 40.8s\tremaining: 1m 53s\n",
      "265:\tlearn: 0.2446995\ttotal: 40.9s\tremaining: 1m 52s\n",
      "266:\tlearn: 0.2446652\ttotal: 41.1s\tremaining: 1m 52s\n",
      "267:\tlearn: 0.2446528\ttotal: 41.2s\tremaining: 1m 52s\n",
      "268:\tlearn: 0.2446307\ttotal: 41.4s\tremaining: 1m 52s\n",
      "269:\tlearn: 0.2446087\ttotal: 41.5s\tremaining: 1m 52s\n",
      "270:\tlearn: 0.2445820\ttotal: 41.6s\tremaining: 1m 52s\n",
      "271:\tlearn: 0.2445573\ttotal: 41.8s\tremaining: 1m 51s\n",
      "272:\tlearn: 0.2445398\ttotal: 41.9s\tremaining: 1m 51s\n",
      "273:\tlearn: 0.2445191\ttotal: 42.1s\tremaining: 1m 51s\n",
      "274:\tlearn: 0.2444864\ttotal: 42.2s\tremaining: 1m 51s\n",
      "275:\tlearn: 0.2444602\ttotal: 42.4s\tremaining: 1m 51s\n",
      "276:\tlearn: 0.2444337\ttotal: 42.5s\tremaining: 1m 50s\n",
      "277:\tlearn: 0.2444159\ttotal: 42.6s\tremaining: 1m 50s\n",
      "278:\tlearn: 0.2444022\ttotal: 42.7s\tremaining: 1m 50s\n",
      "279:\tlearn: 0.2443858\ttotal: 42.9s\tremaining: 1m 50s\n",
      "280:\tlearn: 0.2443618\ttotal: 43.1s\tremaining: 1m 50s\n",
      "281:\tlearn: 0.2443424\ttotal: 43.2s\tremaining: 1m 49s\n",
      "282:\tlearn: 0.2443157\ttotal: 43.3s\tremaining: 1m 49s\n",
      "283:\tlearn: 0.2442985\ttotal: 43.5s\tremaining: 1m 49s\n",
      "284:\tlearn: 0.2442735\ttotal: 43.6s\tremaining: 1m 49s\n",
      "285:\tlearn: 0.2442571\ttotal: 43.7s\tremaining: 1m 49s\n",
      "286:\tlearn: 0.2442432\ttotal: 43.9s\tremaining: 1m 49s\n",
      "287:\tlearn: 0.2442256\ttotal: 44s\tremaining: 1m 48s\n",
      "288:\tlearn: 0.2441884\ttotal: 44.2s\tremaining: 1m 48s\n",
      "289:\tlearn: 0.2441752\ttotal: 44.3s\tremaining: 1m 48s\n",
      "290:\tlearn: 0.2441479\ttotal: 44.5s\tremaining: 1m 48s\n",
      "291:\tlearn: 0.2441329\ttotal: 44.6s\tremaining: 1m 48s\n",
      "292:\tlearn: 0.2440988\ttotal: 44.8s\tremaining: 1m 47s\n",
      "293:\tlearn: 0.2440756\ttotal: 44.9s\tremaining: 1m 47s\n",
      "294:\tlearn: 0.2440463\ttotal: 45s\tremaining: 1m 47s\n",
      "295:\tlearn: 0.2440278\ttotal: 45.2s\tremaining: 1m 47s\n",
      "296:\tlearn: 0.2439984\ttotal: 45.3s\tremaining: 1m 47s\n",
      "297:\tlearn: 0.2439761\ttotal: 45.5s\tremaining: 1m 47s\n",
      "298:\tlearn: 0.2439558\ttotal: 45.6s\tremaining: 1m 46s\n",
      "299:\tlearn: 0.2439274\ttotal: 45.8s\tremaining: 1m 46s\n",
      "300:\tlearn: 0.2439073\ttotal: 45.9s\tremaining: 1m 46s\n",
      "301:\tlearn: 0.2438855\ttotal: 46.1s\tremaining: 1m 46s\n",
      "302:\tlearn: 0.2438553\ttotal: 46.2s\tremaining: 1m 46s\n",
      "303:\tlearn: 0.2438376\ttotal: 46.3s\tremaining: 1m 46s\n",
      "304:\tlearn: 0.2438252\ttotal: 46.4s\tremaining: 1m 45s\n",
      "305:\tlearn: 0.2438051\ttotal: 46.6s\tremaining: 1m 45s\n",
      "306:\tlearn: 0.2437848\ttotal: 46.7s\tremaining: 1m 45s\n",
      "307:\tlearn: 0.2437644\ttotal: 46.9s\tremaining: 1m 45s\n",
      "308:\tlearn: 0.2437429\ttotal: 47s\tremaining: 1m 45s\n",
      "309:\tlearn: 0.2437229\ttotal: 47.2s\tremaining: 1m 45s\n",
      "310:\tlearn: 0.2436962\ttotal: 47.3s\tremaining: 1m 44s\n",
      "311:\tlearn: 0.2436606\ttotal: 47.5s\tremaining: 1m 44s\n",
      "312:\tlearn: 0.2436320\ttotal: 47.6s\tremaining: 1m 44s\n",
      "313:\tlearn: 0.2436154\ttotal: 47.7s\tremaining: 1m 44s\n",
      "314:\tlearn: 0.2435987\ttotal: 47.9s\tremaining: 1m 44s\n"
     ]
    },
    {
     "name": "stdout",
     "output_type": "stream",
     "text": [
      "315:\tlearn: 0.2435681\ttotal: 48s\tremaining: 1m 43s\n",
      "316:\tlearn: 0.2435417\ttotal: 48.2s\tremaining: 1m 43s\n",
      "317:\tlearn: 0.2435034\ttotal: 48.3s\tremaining: 1m 43s\n",
      "318:\tlearn: 0.2434747\ttotal: 48.4s\tremaining: 1m 43s\n",
      "319:\tlearn: 0.2434600\ttotal: 48.6s\tremaining: 1m 43s\n",
      "320:\tlearn: 0.2434450\ttotal: 48.7s\tremaining: 1m 43s\n",
      "321:\tlearn: 0.2434281\ttotal: 48.9s\tremaining: 1m 42s\n",
      "322:\tlearn: 0.2434013\ttotal: 49s\tremaining: 1m 42s\n",
      "323:\tlearn: 0.2433900\ttotal: 49.1s\tremaining: 1m 42s\n",
      "324:\tlearn: 0.2433630\ttotal: 49.3s\tremaining: 1m 42s\n",
      "325:\tlearn: 0.2433232\ttotal: 49.4s\tremaining: 1m 42s\n",
      "326:\tlearn: 0.2433123\ttotal: 49.5s\tremaining: 1m 41s\n",
      "327:\tlearn: 0.2432952\ttotal: 49.7s\tremaining: 1m 41s\n",
      "328:\tlearn: 0.2432729\ttotal: 49.8s\tremaining: 1m 41s\n",
      "329:\tlearn: 0.2432560\ttotal: 50s\tremaining: 1m 41s\n",
      "330:\tlearn: 0.2432339\ttotal: 50.1s\tremaining: 1m 41s\n",
      "331:\tlearn: 0.2432135\ttotal: 50.3s\tremaining: 1m 41s\n",
      "332:\tlearn: 0.2431861\ttotal: 50.4s\tremaining: 1m 40s\n",
      "333:\tlearn: 0.2431706\ttotal: 50.5s\tremaining: 1m 40s\n",
      "334:\tlearn: 0.2431540\ttotal: 50.6s\tremaining: 1m 40s\n",
      "335:\tlearn: 0.2431345\ttotal: 50.8s\tremaining: 1m 40s\n",
      "336:\tlearn: 0.2431184\ttotal: 50.9s\tremaining: 1m 40s\n",
      "337:\tlearn: 0.2430964\ttotal: 51.1s\tremaining: 1m 40s\n",
      "338:\tlearn: 0.2430660\ttotal: 51.2s\tremaining: 1m 39s\n",
      "339:\tlearn: 0.2430390\ttotal: 51.4s\tremaining: 1m 39s\n",
      "340:\tlearn: 0.2430158\ttotal: 51.5s\tremaining: 1m 39s\n",
      "341:\tlearn: 0.2429977\ttotal: 51.6s\tremaining: 1m 39s\n",
      "342:\tlearn: 0.2429709\ttotal: 51.8s\tremaining: 1m 39s\n",
      "343:\tlearn: 0.2429618\ttotal: 51.9s\tremaining: 1m 38s\n",
      "344:\tlearn: 0.2429379\ttotal: 52s\tremaining: 1m 38s\n",
      "345:\tlearn: 0.2429193\ttotal: 52.2s\tremaining: 1m 38s\n",
      "346:\tlearn: 0.2428967\ttotal: 52.3s\tremaining: 1m 38s\n",
      "347:\tlearn: 0.2428818\ttotal: 52.5s\tremaining: 1m 38s\n",
      "348:\tlearn: 0.2428547\ttotal: 52.6s\tremaining: 1m 38s\n",
      "349:\tlearn: 0.2428322\ttotal: 52.8s\tremaining: 1m 37s\n",
      "350:\tlearn: 0.2428216\ttotal: 52.9s\tremaining: 1m 37s\n",
      "351:\tlearn: 0.2427997\ttotal: 53s\tremaining: 1m 37s\n",
      "352:\tlearn: 0.2427709\ttotal: 53.2s\tremaining: 1m 37s\n",
      "353:\tlearn: 0.2427550\ttotal: 53.3s\tremaining: 1m 37s\n",
      "354:\tlearn: 0.2427320\ttotal: 53.5s\tremaining: 1m 37s\n",
      "355:\tlearn: 0.2427091\ttotal: 53.6s\tremaining: 1m 36s\n",
      "356:\tlearn: 0.2426913\ttotal: 53.7s\tremaining: 1m 36s\n",
      "357:\tlearn: 0.2426643\ttotal: 53.9s\tremaining: 1m 36s\n",
      "358:\tlearn: 0.2426363\ttotal: 54.1s\tremaining: 1m 36s\n",
      "359:\tlearn: 0.2426136\ttotal: 54.3s\tremaining: 1m 36s\n",
      "360:\tlearn: 0.2425930\ttotal: 54.5s\tremaining: 1m 36s\n",
      "361:\tlearn: 0.2425740\ttotal: 54.7s\tremaining: 1m 36s\n",
      "362:\tlearn: 0.2425490\ttotal: 54.8s\tremaining: 1m 36s\n",
      "363:\tlearn: 0.2425302\ttotal: 55s\tremaining: 1m 36s\n",
      "364:\tlearn: 0.2425104\ttotal: 55.2s\tremaining: 1m 35s\n",
      "365:\tlearn: 0.2424810\ttotal: 55.4s\tremaining: 1m 35s\n",
      "366:\tlearn: 0.2424671\ttotal: 55.5s\tremaining: 1m 35s\n",
      "367:\tlearn: 0.2424416\ttotal: 55.7s\tremaining: 1m 35s\n",
      "368:\tlearn: 0.2424201\ttotal: 55.8s\tremaining: 1m 35s\n",
      "369:\tlearn: 0.2423922\ttotal: 55.9s\tremaining: 1m 35s\n",
      "370:\tlearn: 0.2423772\ttotal: 56.1s\tremaining: 1m 35s\n",
      "371:\tlearn: 0.2423511\ttotal: 56.2s\tremaining: 1m 34s\n",
      "372:\tlearn: 0.2423298\ttotal: 56.4s\tremaining: 1m 34s\n",
      "373:\tlearn: 0.2423076\ttotal: 56.6s\tremaining: 1m 34s\n",
      "374:\tlearn: 0.2422743\ttotal: 56.7s\tremaining: 1m 34s\n",
      "375:\tlearn: 0.2422570\ttotal: 56.9s\tremaining: 1m 34s\n",
      "376:\tlearn: 0.2422495\ttotal: 57s\tremaining: 1m 34s\n",
      "377:\tlearn: 0.2422267\ttotal: 57.1s\tremaining: 1m 34s\n",
      "378:\tlearn: 0.2422063\ttotal: 57.3s\tremaining: 1m 33s\n",
      "379:\tlearn: 0.2421738\ttotal: 57.5s\tremaining: 1m 33s\n",
      "380:\tlearn: 0.2421456\ttotal: 57.6s\tremaining: 1m 33s\n",
      "381:\tlearn: 0.2421314\ttotal: 57.8s\tremaining: 1m 33s\n",
      "382:\tlearn: 0.2421049\ttotal: 57.9s\tremaining: 1m 33s\n",
      "383:\tlearn: 0.2420825\ttotal: 58.1s\tremaining: 1m 33s\n",
      "384:\tlearn: 0.2420579\ttotal: 58.3s\tremaining: 1m 33s\n",
      "385:\tlearn: 0.2420393\ttotal: 58.4s\tremaining: 1m 32s\n",
      "386:\tlearn: 0.2420182\ttotal: 58.6s\tremaining: 1m 32s\n",
      "387:\tlearn: 0.2420048\ttotal: 58.7s\tremaining: 1m 32s\n",
      "388:\tlearn: 0.2419857\ttotal: 58.9s\tremaining: 1m 32s\n",
      "389:\tlearn: 0.2419673\ttotal: 59s\tremaining: 1m 32s\n",
      "390:\tlearn: 0.2419457\ttotal: 59.2s\tremaining: 1m 32s\n",
      "391:\tlearn: 0.2419374\ttotal: 59.3s\tremaining: 1m 31s\n",
      "392:\tlearn: 0.2419194\ttotal: 59.5s\tremaining: 1m 31s\n",
      "393:\tlearn: 0.2418886\ttotal: 59.6s\tremaining: 1m 31s\n",
      "394:\tlearn: 0.2418639\ttotal: 59.8s\tremaining: 1m 31s\n",
      "395:\tlearn: 0.2418411\ttotal: 59.9s\tremaining: 1m 31s\n",
      "396:\tlearn: 0.2418184\ttotal: 1m\tremaining: 1m 31s\n",
      "397:\tlearn: 0.2417971\ttotal: 1m\tremaining: 1m 31s\n",
      "398:\tlearn: 0.2417721\ttotal: 1m\tremaining: 1m 30s\n",
      "399:\tlearn: 0.2417626\ttotal: 1m\tremaining: 1m 30s\n",
      "400:\tlearn: 0.2417337\ttotal: 1m\tremaining: 1m 30s\n",
      "401:\tlearn: 0.2417066\ttotal: 1m\tremaining: 1m 30s\n",
      "402:\tlearn: 0.2416930\ttotal: 1m\tremaining: 1m 30s\n",
      "403:\tlearn: 0.2416718\ttotal: 1m 1s\tremaining: 1m 30s\n",
      "404:\tlearn: 0.2416480\ttotal: 1m 1s\tremaining: 1m 29s\n",
      "405:\tlearn: 0.2416318\ttotal: 1m 1s\tremaining: 1m 29s\n",
      "406:\tlearn: 0.2416162\ttotal: 1m 1s\tremaining: 1m 29s\n",
      "407:\tlearn: 0.2415908\ttotal: 1m 1s\tremaining: 1m 29s\n",
      "408:\tlearn: 0.2415754\ttotal: 1m 1s\tremaining: 1m 29s\n",
      "409:\tlearn: 0.2415569\ttotal: 1m 1s\tremaining: 1m 29s\n",
      "410:\tlearn: 0.2415368\ttotal: 1m 2s\tremaining: 1m 29s\n",
      "411:\tlearn: 0.2415205\ttotal: 1m 2s\tremaining: 1m 28s\n",
      "412:\tlearn: 0.2414910\ttotal: 1m 2s\tremaining: 1m 28s\n",
      "413:\tlearn: 0.2414818\ttotal: 1m 2s\tremaining: 1m 28s\n",
      "414:\tlearn: 0.2414631\ttotal: 1m 2s\tremaining: 1m 28s\n",
      "415:\tlearn: 0.2414452\ttotal: 1m 2s\tremaining: 1m 28s\n",
      "416:\tlearn: 0.2414161\ttotal: 1m 2s\tremaining: 1m 28s\n",
      "417:\tlearn: 0.2413940\ttotal: 1m 3s\tremaining: 1m 27s\n",
      "418:\tlearn: 0.2413811\ttotal: 1m 3s\tremaining: 1m 27s\n",
      "419:\tlearn: 0.2413610\ttotal: 1m 3s\tremaining: 1m 27s\n",
      "420:\tlearn: 0.2413359\ttotal: 1m 3s\tremaining: 1m 27s\n",
      "421:\tlearn: 0.2413166\ttotal: 1m 3s\tremaining: 1m 27s\n",
      "422:\tlearn: 0.2412909\ttotal: 1m 3s\tremaining: 1m 27s\n",
      "423:\tlearn: 0.2412699\ttotal: 1m 3s\tremaining: 1m 26s\n",
      "424:\tlearn: 0.2412500\ttotal: 1m 4s\tremaining: 1m 26s\n",
      "425:\tlearn: 0.2412248\ttotal: 1m 4s\tremaining: 1m 26s\n",
      "426:\tlearn: 0.2411960\ttotal: 1m 4s\tremaining: 1m 26s\n",
      "427:\tlearn: 0.2411786\ttotal: 1m 4s\tremaining: 1m 26s\n",
      "428:\tlearn: 0.2411396\ttotal: 1m 4s\tremaining: 1m 26s\n",
      "429:\tlearn: 0.2411151\ttotal: 1m 4s\tremaining: 1m 25s\n",
      "430:\tlearn: 0.2410956\ttotal: 1m 4s\tremaining: 1m 25s\n",
      "431:\tlearn: 0.2410729\ttotal: 1m 5s\tremaining: 1m 25s\n",
      "432:\tlearn: 0.2410450\ttotal: 1m 5s\tremaining: 1m 25s\n",
      "433:\tlearn: 0.2410200\ttotal: 1m 5s\tremaining: 1m 25s\n",
      "434:\tlearn: 0.2410028\ttotal: 1m 5s\tremaining: 1m 25s\n",
      "435:\tlearn: 0.2409850\ttotal: 1m 5s\tremaining: 1m 24s\n",
      "436:\tlearn: 0.2409640\ttotal: 1m 5s\tremaining: 1m 24s\n",
      "437:\tlearn: 0.2409398\ttotal: 1m 5s\tremaining: 1m 24s\n",
      "438:\tlearn: 0.2409136\ttotal: 1m 6s\tremaining: 1m 24s\n",
      "439:\tlearn: 0.2409007\ttotal: 1m 6s\tremaining: 1m 24s\n",
      "440:\tlearn: 0.2408826\ttotal: 1m 6s\tremaining: 1m 24s\n",
      "441:\tlearn: 0.2408662\ttotal: 1m 6s\tremaining: 1m 23s\n",
      "442:\tlearn: 0.2408453\ttotal: 1m 6s\tremaining: 1m 23s\n",
      "443:\tlearn: 0.2408289\ttotal: 1m 6s\tremaining: 1m 23s\n",
      "444:\tlearn: 0.2408086\ttotal: 1m 6s\tremaining: 1m 23s\n",
      "445:\tlearn: 0.2407878\ttotal: 1m 6s\tremaining: 1m 23s\n",
      "446:\tlearn: 0.2407602\ttotal: 1m 7s\tremaining: 1m 23s\n",
      "447:\tlearn: 0.2407470\ttotal: 1m 7s\tremaining: 1m 22s\n",
      "448:\tlearn: 0.2407220\ttotal: 1m 7s\tremaining: 1m 22s\n",
      "449:\tlearn: 0.2407070\ttotal: 1m 7s\tremaining: 1m 22s\n",
      "450:\tlearn: 0.2406833\ttotal: 1m 7s\tremaining: 1m 22s\n",
      "451:\tlearn: 0.2406605\ttotal: 1m 7s\tremaining: 1m 22s\n",
      "452:\tlearn: 0.2406437\ttotal: 1m 8s\tremaining: 1m 22s\n",
      "453:\tlearn: 0.2406194\ttotal: 1m 8s\tremaining: 1m 22s\n",
      "454:\tlearn: 0.2406035\ttotal: 1m 8s\tremaining: 1m 21s\n",
      "455:\tlearn: 0.2405805\ttotal: 1m 8s\tremaining: 1m 21s\n",
      "456:\tlearn: 0.2405654\ttotal: 1m 8s\tremaining: 1m 21s\n",
      "457:\tlearn: 0.2405408\ttotal: 1m 8s\tremaining: 1m 21s\n",
      "458:\tlearn: 0.2405295\ttotal: 1m 9s\tremaining: 1m 21s\n",
      "459:\tlearn: 0.2405118\ttotal: 1m 9s\tremaining: 1m 21s\n",
      "460:\tlearn: 0.2404895\ttotal: 1m 9s\tremaining: 1m 21s\n",
      "461:\tlearn: 0.2404700\ttotal: 1m 9s\tremaining: 1m 20s\n",
      "462:\tlearn: 0.2404524\ttotal: 1m 9s\tremaining: 1m 20s\n",
      "463:\tlearn: 0.2404363\ttotal: 1m 9s\tremaining: 1m 20s\n",
      "464:\tlearn: 0.2404058\ttotal: 1m 10s\tremaining: 1m 20s\n",
      "465:\tlearn: 0.2403736\ttotal: 1m 10s\tremaining: 1m 20s\n",
      "466:\tlearn: 0.2403490\ttotal: 1m 10s\tremaining: 1m 20s\n",
      "467:\tlearn: 0.2403336\ttotal: 1m 10s\tremaining: 1m 20s\n",
      "468:\tlearn: 0.2403098\ttotal: 1m 10s\tremaining: 1m 19s\n",
      "469:\tlearn: 0.2402919\ttotal: 1m 10s\tremaining: 1m 19s\n",
      "470:\tlearn: 0.2402638\ttotal: 1m 10s\tremaining: 1m 19s\n",
      "471:\tlearn: 0.2402440\ttotal: 1m 10s\tremaining: 1m 19s\n"
     ]
    },
    {
     "name": "stdout",
     "output_type": "stream",
     "text": [
      "472:\tlearn: 0.2402086\ttotal: 1m 11s\tremaining: 1m 19s\n",
      "473:\tlearn: 0.2401914\ttotal: 1m 11s\tremaining: 1m 19s\n",
      "474:\tlearn: 0.2401636\ttotal: 1m 11s\tremaining: 1m 18s\n",
      "475:\tlearn: 0.2401478\ttotal: 1m 11s\tremaining: 1m 18s\n",
      "476:\tlearn: 0.2401320\ttotal: 1m 11s\tremaining: 1m 18s\n",
      "477:\tlearn: 0.2401126\ttotal: 1m 11s\tremaining: 1m 18s\n",
      "478:\tlearn: 0.2400862\ttotal: 1m 12s\tremaining: 1m 18s\n",
      "479:\tlearn: 0.2400472\ttotal: 1m 12s\tremaining: 1m 18s\n",
      "480:\tlearn: 0.2400229\ttotal: 1m 12s\tremaining: 1m 18s\n",
      "481:\tlearn: 0.2399942\ttotal: 1m 12s\tremaining: 1m 17s\n",
      "482:\tlearn: 0.2399758\ttotal: 1m 12s\tremaining: 1m 17s\n",
      "483:\tlearn: 0.2399626\ttotal: 1m 12s\tremaining: 1m 17s\n",
      "484:\tlearn: 0.2399429\ttotal: 1m 12s\tremaining: 1m 17s\n",
      "485:\tlearn: 0.2399229\ttotal: 1m 13s\tremaining: 1m 17s\n",
      "486:\tlearn: 0.2399025\ttotal: 1m 13s\tremaining: 1m 17s\n",
      "487:\tlearn: 0.2398927\ttotal: 1m 13s\tremaining: 1m 17s\n",
      "488:\tlearn: 0.2398789\ttotal: 1m 13s\tremaining: 1m 16s\n",
      "489:\tlearn: 0.2398628\ttotal: 1m 13s\tremaining: 1m 16s\n",
      "490:\tlearn: 0.2398349\ttotal: 1m 13s\tremaining: 1m 16s\n",
      "491:\tlearn: 0.2398121\ttotal: 1m 14s\tremaining: 1m 16s\n",
      "492:\tlearn: 0.2397998\ttotal: 1m 14s\tremaining: 1m 16s\n",
      "493:\tlearn: 0.2397821\ttotal: 1m 14s\tremaining: 1m 16s\n",
      "494:\tlearn: 0.2397564\ttotal: 1m 14s\tremaining: 1m 16s\n",
      "495:\tlearn: 0.2397426\ttotal: 1m 14s\tremaining: 1m 15s\n",
      "496:\tlearn: 0.2397187\ttotal: 1m 14s\tremaining: 1m 15s\n",
      "497:\tlearn: 0.2396974\ttotal: 1m 15s\tremaining: 1m 15s\n",
      "498:\tlearn: 0.2396789\ttotal: 1m 15s\tremaining: 1m 15s\n",
      "499:\tlearn: 0.2396546\ttotal: 1m 15s\tremaining: 1m 15s\n",
      "500:\tlearn: 0.2396282\ttotal: 1m 15s\tremaining: 1m 15s\n",
      "501:\tlearn: 0.2396034\ttotal: 1m 15s\tremaining: 1m 15s\n",
      "502:\tlearn: 0.2395941\ttotal: 1m 15s\tremaining: 1m 14s\n",
      "503:\tlearn: 0.2395699\ttotal: 1m 15s\tremaining: 1m 14s\n",
      "504:\tlearn: 0.2395511\ttotal: 1m 16s\tremaining: 1m 14s\n",
      "505:\tlearn: 0.2395363\ttotal: 1m 16s\tremaining: 1m 14s\n",
      "506:\tlearn: 0.2395197\ttotal: 1m 16s\tremaining: 1m 14s\n",
      "507:\tlearn: 0.2395048\ttotal: 1m 16s\tremaining: 1m 14s\n",
      "508:\tlearn: 0.2394840\ttotal: 1m 16s\tremaining: 1m 14s\n",
      "509:\tlearn: 0.2394595\ttotal: 1m 16s\tremaining: 1m 13s\n",
      "510:\tlearn: 0.2394439\ttotal: 1m 17s\tremaining: 1m 13s\n",
      "511:\tlearn: 0.2394239\ttotal: 1m 17s\tremaining: 1m 13s\n",
      "512:\tlearn: 0.2393993\ttotal: 1m 17s\tremaining: 1m 13s\n",
      "513:\tlearn: 0.2393727\ttotal: 1m 17s\tremaining: 1m 13s\n",
      "514:\tlearn: 0.2393478\ttotal: 1m 17s\tremaining: 1m 13s\n",
      "515:\tlearn: 0.2393268\ttotal: 1m 17s\tremaining: 1m 12s\n",
      "516:\tlearn: 0.2393018\ttotal: 1m 17s\tremaining: 1m 12s\n",
      "517:\tlearn: 0.2392882\ttotal: 1m 18s\tremaining: 1m 12s\n",
      "518:\tlearn: 0.2392644\ttotal: 1m 18s\tremaining: 1m 12s\n",
      "519:\tlearn: 0.2392367\ttotal: 1m 18s\tremaining: 1m 12s\n",
      "520:\tlearn: 0.2392216\ttotal: 1m 18s\tremaining: 1m 12s\n",
      "521:\tlearn: 0.2391989\ttotal: 1m 18s\tremaining: 1m 12s\n",
      "522:\tlearn: 0.2391746\ttotal: 1m 18s\tremaining: 1m 11s\n",
      "523:\tlearn: 0.2391480\ttotal: 1m 19s\tremaining: 1m 11s\n",
      "524:\tlearn: 0.2391282\ttotal: 1m 19s\tremaining: 1m 11s\n",
      "525:\tlearn: 0.2391009\ttotal: 1m 19s\tremaining: 1m 11s\n",
      "526:\tlearn: 0.2390717\ttotal: 1m 19s\tremaining: 1m 11s\n",
      "527:\tlearn: 0.2390455\ttotal: 1m 19s\tremaining: 1m 11s\n",
      "528:\tlearn: 0.2390235\ttotal: 1m 19s\tremaining: 1m 11s\n",
      "529:\tlearn: 0.2390009\ttotal: 1m 19s\tremaining: 1m 10s\n",
      "530:\tlearn: 0.2389742\ttotal: 1m 20s\tremaining: 1m 10s\n",
      "531:\tlearn: 0.2389582\ttotal: 1m 20s\tremaining: 1m 10s\n",
      "532:\tlearn: 0.2389409\ttotal: 1m 20s\tremaining: 1m 10s\n",
      "533:\tlearn: 0.2389289\ttotal: 1m 20s\tremaining: 1m 10s\n",
      "534:\tlearn: 0.2389079\ttotal: 1m 20s\tremaining: 1m 10s\n",
      "535:\tlearn: 0.2388911\ttotal: 1m 20s\tremaining: 1m 9s\n",
      "536:\tlearn: 0.2388769\ttotal: 1m 20s\tremaining: 1m 9s\n",
      "537:\tlearn: 0.2388479\ttotal: 1m 21s\tremaining: 1m 9s\n",
      "538:\tlearn: 0.2388310\ttotal: 1m 21s\tremaining: 1m 9s\n",
      "539:\tlearn: 0.2388061\ttotal: 1m 21s\tremaining: 1m 9s\n",
      "540:\tlearn: 0.2387979\ttotal: 1m 21s\tremaining: 1m 9s\n",
      "541:\tlearn: 0.2387587\ttotal: 1m 21s\tremaining: 1m 9s\n",
      "542:\tlearn: 0.2387439\ttotal: 1m 21s\tremaining: 1m 8s\n",
      "543:\tlearn: 0.2387193\ttotal: 1m 22s\tremaining: 1m 8s\n",
      "544:\tlearn: 0.2387078\ttotal: 1m 22s\tremaining: 1m 8s\n",
      "545:\tlearn: 0.2386985\ttotal: 1m 22s\tremaining: 1m 8s\n",
      "546:\tlearn: 0.2386775\ttotal: 1m 22s\tremaining: 1m 8s\n",
      "547:\tlearn: 0.2386650\ttotal: 1m 22s\tremaining: 1m 8s\n",
      "548:\tlearn: 0.2386434\ttotal: 1m 22s\tremaining: 1m 8s\n",
      "549:\tlearn: 0.2386290\ttotal: 1m 22s\tremaining: 1m 7s\n",
      "550:\tlearn: 0.2386202\ttotal: 1m 23s\tremaining: 1m 7s\n",
      "551:\tlearn: 0.2386024\ttotal: 1m 23s\tremaining: 1m 7s\n",
      "552:\tlearn: 0.2385860\ttotal: 1m 23s\tremaining: 1m 7s\n",
      "553:\tlearn: 0.2385713\ttotal: 1m 23s\tremaining: 1m 7s\n",
      "554:\tlearn: 0.2385479\ttotal: 1m 23s\tremaining: 1m 7s\n",
      "555:\tlearn: 0.2385324\ttotal: 1m 23s\tremaining: 1m 6s\n",
      "556:\tlearn: 0.2385167\ttotal: 1m 24s\tremaining: 1m 6s\n",
      "557:\tlearn: 0.2384955\ttotal: 1m 24s\tremaining: 1m 6s\n",
      "558:\tlearn: 0.2384795\ttotal: 1m 24s\tremaining: 1m 6s\n",
      "559:\tlearn: 0.2384569\ttotal: 1m 24s\tremaining: 1m 6s\n",
      "560:\tlearn: 0.2384307\ttotal: 1m 24s\tremaining: 1m 6s\n",
      "561:\tlearn: 0.2384174\ttotal: 1m 24s\tremaining: 1m 6s\n",
      "562:\tlearn: 0.2384079\ttotal: 1m 24s\tremaining: 1m 5s\n",
      "563:\tlearn: 0.2383868\ttotal: 1m 25s\tremaining: 1m 5s\n",
      "564:\tlearn: 0.2383702\ttotal: 1m 25s\tremaining: 1m 5s\n",
      "565:\tlearn: 0.2383549\ttotal: 1m 25s\tremaining: 1m 5s\n",
      "566:\tlearn: 0.2383303\ttotal: 1m 25s\tremaining: 1m 5s\n",
      "567:\tlearn: 0.2383120\ttotal: 1m 25s\tremaining: 1m 5s\n",
      "568:\tlearn: 0.2382960\ttotal: 1m 25s\tremaining: 1m 5s\n",
      "569:\tlearn: 0.2382726\ttotal: 1m 25s\tremaining: 1m 4s\n",
      "570:\tlearn: 0.2382529\ttotal: 1m 26s\tremaining: 1m 4s\n",
      "571:\tlearn: 0.2382391\ttotal: 1m 26s\tremaining: 1m 4s\n",
      "572:\tlearn: 0.2382216\ttotal: 1m 26s\tremaining: 1m 4s\n",
      "573:\tlearn: 0.2382065\ttotal: 1m 26s\tremaining: 1m 4s\n",
      "574:\tlearn: 0.2381901\ttotal: 1m 26s\tremaining: 1m 4s\n",
      "575:\tlearn: 0.2381642\ttotal: 1m 26s\tremaining: 1m 3s\n",
      "576:\tlearn: 0.2381465\ttotal: 1m 26s\tremaining: 1m 3s\n",
      "577:\tlearn: 0.2381195\ttotal: 1m 27s\tremaining: 1m 3s\n",
      "578:\tlearn: 0.2381135\ttotal: 1m 27s\tremaining: 1m 3s\n",
      "579:\tlearn: 0.2380899\ttotal: 1m 27s\tremaining: 1m 3s\n",
      "580:\tlearn: 0.2380694\ttotal: 1m 27s\tremaining: 1m 3s\n",
      "581:\tlearn: 0.2380525\ttotal: 1m 27s\tremaining: 1m 3s\n",
      "582:\tlearn: 0.2380393\ttotal: 1m 28s\tremaining: 1m 2s\n",
      "583:\tlearn: 0.2380129\ttotal: 1m 28s\tremaining: 1m 2s\n",
      "584:\tlearn: 0.2379893\ttotal: 1m 28s\tremaining: 1m 2s\n",
      "585:\tlearn: 0.2379739\ttotal: 1m 28s\tremaining: 1m 2s\n",
      "586:\tlearn: 0.2379510\ttotal: 1m 28s\tremaining: 1m 2s\n",
      "587:\tlearn: 0.2379369\ttotal: 1m 28s\tremaining: 1m 2s\n",
      "588:\tlearn: 0.2379154\ttotal: 1m 28s\tremaining: 1m 2s\n",
      "589:\tlearn: 0.2378994\ttotal: 1m 29s\tremaining: 1m 1s\n",
      "590:\tlearn: 0.2378884\ttotal: 1m 29s\tremaining: 1m 1s\n",
      "591:\tlearn: 0.2378697\ttotal: 1m 29s\tremaining: 1m 1s\n",
      "592:\tlearn: 0.2378408\ttotal: 1m 29s\tremaining: 1m 1s\n",
      "593:\tlearn: 0.2378249\ttotal: 1m 29s\tremaining: 1m 1s\n",
      "594:\tlearn: 0.2378085\ttotal: 1m 29s\tremaining: 1m 1s\n",
      "595:\tlearn: 0.2377901\ttotal: 1m 30s\tremaining: 1m 1s\n",
      "596:\tlearn: 0.2377795\ttotal: 1m 30s\tremaining: 1m\n",
      "597:\tlearn: 0.2377569\ttotal: 1m 30s\tremaining: 1m\n",
      "598:\tlearn: 0.2377390\ttotal: 1m 30s\tremaining: 1m\n",
      "599:\tlearn: 0.2377159\ttotal: 1m 31s\tremaining: 1m\n",
      "600:\tlearn: 0.2377018\ttotal: 1m 31s\tremaining: 1m\n",
      "601:\tlearn: 0.2376843\ttotal: 1m 31s\tremaining: 1m\n",
      "602:\tlearn: 0.2376687\ttotal: 1m 31s\tremaining: 1m\n",
      "603:\tlearn: 0.2376459\ttotal: 1m 31s\tremaining: 1m\n",
      "604:\tlearn: 0.2376226\ttotal: 1m 32s\tremaining: 1m\n",
      "605:\tlearn: 0.2376107\ttotal: 1m 32s\tremaining: 60s\n",
      "606:\tlearn: 0.2375919\ttotal: 1m 32s\tremaining: 59.9s\n",
      "607:\tlearn: 0.2375681\ttotal: 1m 32s\tremaining: 59.8s\n",
      "608:\tlearn: 0.2375467\ttotal: 1m 32s\tremaining: 59.7s\n",
      "609:\tlearn: 0.2375089\ttotal: 1m 33s\tremaining: 59.6s\n",
      "610:\tlearn: 0.2374812\ttotal: 1m 33s\tremaining: 59.4s\n",
      "611:\tlearn: 0.2374671\ttotal: 1m 33s\tremaining: 59.3s\n",
      "612:\tlearn: 0.2374513\ttotal: 1m 33s\tremaining: 59.1s\n",
      "613:\tlearn: 0.2374310\ttotal: 1m 33s\tremaining: 59s\n",
      "614:\tlearn: 0.2374112\ttotal: 1m 33s\tremaining: 58.8s\n",
      "615:\tlearn: 0.2373802\ttotal: 1m 34s\tremaining: 58.7s\n",
      "616:\tlearn: 0.2373583\ttotal: 1m 34s\tremaining: 58.5s\n",
      "617:\tlearn: 0.2373390\ttotal: 1m 34s\tremaining: 58.3s\n",
      "618:\tlearn: 0.2373270\ttotal: 1m 34s\tremaining: 58.2s\n",
      "619:\tlearn: 0.2372980\ttotal: 1m 34s\tremaining: 58s\n",
      "620:\tlearn: 0.2372833\ttotal: 1m 34s\tremaining: 57.9s\n",
      "621:\tlearn: 0.2372687\ttotal: 1m 34s\tremaining: 57.7s\n",
      "622:\tlearn: 0.2372547\ttotal: 1m 35s\tremaining: 57.6s\n",
      "623:\tlearn: 0.2372432\ttotal: 1m 35s\tremaining: 57.4s\n",
      "624:\tlearn: 0.2372260\ttotal: 1m 35s\tremaining: 57.3s\n",
      "625:\tlearn: 0.2372016\ttotal: 1m 35s\tremaining: 57.1s\n",
      "626:\tlearn: 0.2371849\ttotal: 1m 35s\tremaining: 57s\n"
     ]
    },
    {
     "name": "stdout",
     "output_type": "stream",
     "text": [
      "627:\tlearn: 0.2371586\ttotal: 1m 35s\tremaining: 56.8s\n",
      "628:\tlearn: 0.2371470\ttotal: 1m 36s\tremaining: 56.6s\n",
      "629:\tlearn: 0.2371225\ttotal: 1m 36s\tremaining: 56.5s\n",
      "630:\tlearn: 0.2371011\ttotal: 1m 36s\tremaining: 56.3s\n",
      "631:\tlearn: 0.2370882\ttotal: 1m 36s\tremaining: 56.2s\n",
      "632:\tlearn: 0.2370653\ttotal: 1m 36s\tremaining: 56s\n",
      "633:\tlearn: 0.2370486\ttotal: 1m 36s\tremaining: 55.9s\n",
      "634:\tlearn: 0.2370405\ttotal: 1m 36s\tremaining: 55.7s\n",
      "635:\tlearn: 0.2370236\ttotal: 1m 37s\tremaining: 55.6s\n",
      "636:\tlearn: 0.2370043\ttotal: 1m 37s\tremaining: 55.4s\n",
      "637:\tlearn: 0.2369864\ttotal: 1m 37s\tremaining: 55.2s\n",
      "638:\tlearn: 0.2369653\ttotal: 1m 37s\tremaining: 55.1s\n",
      "639:\tlearn: 0.2369512\ttotal: 1m 37s\tremaining: 54.9s\n",
      "640:\tlearn: 0.2369293\ttotal: 1m 37s\tremaining: 54.8s\n",
      "641:\tlearn: 0.2369102\ttotal: 1m 37s\tremaining: 54.6s\n",
      "642:\tlearn: 0.2368977\ttotal: 1m 38s\tremaining: 54.5s\n",
      "643:\tlearn: 0.2368765\ttotal: 1m 38s\tremaining: 54.3s\n",
      "644:\tlearn: 0.2368545\ttotal: 1m 38s\tremaining: 54.2s\n",
      "645:\tlearn: 0.2368311\ttotal: 1m 38s\tremaining: 54s\n",
      "646:\tlearn: 0.2368054\ttotal: 1m 38s\tremaining: 53.9s\n",
      "647:\tlearn: 0.2367808\ttotal: 1m 38s\tremaining: 53.7s\n",
      "648:\tlearn: 0.2367630\ttotal: 1m 39s\tremaining: 53.5s\n",
      "649:\tlearn: 0.2367367\ttotal: 1m 39s\tremaining: 53.4s\n",
      "650:\tlearn: 0.2367063\ttotal: 1m 39s\tremaining: 53.2s\n",
      "651:\tlearn: 0.2366876\ttotal: 1m 39s\tremaining: 53.1s\n",
      "652:\tlearn: 0.2366718\ttotal: 1m 39s\tremaining: 52.9s\n",
      "653:\tlearn: 0.2366577\ttotal: 1m 39s\tremaining: 52.8s\n",
      "654:\tlearn: 0.2366326\ttotal: 1m 39s\tremaining: 52.7s\n",
      "655:\tlearn: 0.2366104\ttotal: 1m 40s\tremaining: 52.5s\n",
      "656:\tlearn: 0.2365787\ttotal: 1m 40s\tremaining: 52.4s\n",
      "657:\tlearn: 0.2365534\ttotal: 1m 40s\tremaining: 52.3s\n",
      "658:\tlearn: 0.2365313\ttotal: 1m 40s\tremaining: 52.1s\n",
      "659:\tlearn: 0.2365012\ttotal: 1m 40s\tremaining: 52s\n",
      "660:\tlearn: 0.2364797\ttotal: 1m 41s\tremaining: 51.8s\n",
      "661:\tlearn: 0.2364555\ttotal: 1m 41s\tremaining: 51.7s\n",
      "662:\tlearn: 0.2364288\ttotal: 1m 41s\tremaining: 51.5s\n",
      "663:\tlearn: 0.2364010\ttotal: 1m 41s\tremaining: 51.3s\n",
      "664:\tlearn: 0.2363750\ttotal: 1m 41s\tremaining: 51.2s\n",
      "665:\tlearn: 0.2363537\ttotal: 1m 41s\tremaining: 51s\n",
      "666:\tlearn: 0.2363243\ttotal: 1m 41s\tremaining: 50.9s\n",
      "667:\tlearn: 0.2363069\ttotal: 1m 42s\tremaining: 50.7s\n",
      "668:\tlearn: 0.2362927\ttotal: 1m 42s\tremaining: 50.6s\n",
      "669:\tlearn: 0.2362748\ttotal: 1m 42s\tremaining: 50.4s\n",
      "670:\tlearn: 0.2362601\ttotal: 1m 42s\tremaining: 50.2s\n",
      "671:\tlearn: 0.2362452\ttotal: 1m 42s\tremaining: 50.1s\n",
      "672:\tlearn: 0.2362272\ttotal: 1m 42s\tremaining: 49.9s\n",
      "673:\tlearn: 0.2362023\ttotal: 1m 42s\tremaining: 49.8s\n",
      "674:\tlearn: 0.2361871\ttotal: 1m 43s\tremaining: 49.6s\n",
      "675:\tlearn: 0.2361703\ttotal: 1m 43s\tremaining: 49.5s\n",
      "676:\tlearn: 0.2361540\ttotal: 1m 43s\tremaining: 49.3s\n",
      "677:\tlearn: 0.2361324\ttotal: 1m 43s\tremaining: 49.1s\n",
      "678:\tlearn: 0.2361180\ttotal: 1m 43s\tremaining: 49s\n",
      "679:\tlearn: 0.2361074\ttotal: 1m 43s\tremaining: 48.8s\n",
      "680:\tlearn: 0.2360841\ttotal: 1m 43s\tremaining: 48.7s\n",
      "681:\tlearn: 0.2360574\ttotal: 1m 44s\tremaining: 48.5s\n",
      "682:\tlearn: 0.2360388\ttotal: 1m 44s\tremaining: 48.4s\n",
      "683:\tlearn: 0.2360235\ttotal: 1m 44s\tremaining: 48.3s\n",
      "684:\tlearn: 0.2360053\ttotal: 1m 44s\tremaining: 48.2s\n",
      "685:\tlearn: 0.2359874\ttotal: 1m 44s\tremaining: 48s\n",
      "686:\tlearn: 0.2359708\ttotal: 1m 45s\tremaining: 47.9s\n",
      "687:\tlearn: 0.2359528\ttotal: 1m 45s\tremaining: 47.8s\n",
      "688:\tlearn: 0.2359377\ttotal: 1m 45s\tremaining: 47.6s\n",
      "689:\tlearn: 0.2359089\ttotal: 1m 45s\tremaining: 47.5s\n",
      "690:\tlearn: 0.2358873\ttotal: 1m 45s\tremaining: 47.3s\n",
      "691:\tlearn: 0.2358705\ttotal: 1m 45s\tremaining: 47.1s\n",
      "692:\tlearn: 0.2358557\ttotal: 1m 46s\tremaining: 47s\n",
      "693:\tlearn: 0.2358291\ttotal: 1m 46s\tremaining: 46.8s\n",
      "694:\tlearn: 0.2358092\ttotal: 1m 46s\tremaining: 46.7s\n",
      "695:\tlearn: 0.2357908\ttotal: 1m 46s\tremaining: 46.5s\n",
      "696:\tlearn: 0.2357758\ttotal: 1m 46s\tremaining: 46.3s\n",
      "697:\tlearn: 0.2357576\ttotal: 1m 46s\tremaining: 46.2s\n",
      "698:\tlearn: 0.2357500\ttotal: 1m 46s\tremaining: 46s\n",
      "699:\tlearn: 0.2357293\ttotal: 1m 47s\tremaining: 45.9s\n",
      "700:\tlearn: 0.2357115\ttotal: 1m 47s\tremaining: 45.7s\n",
      "701:\tlearn: 0.2356948\ttotal: 1m 47s\tremaining: 45.5s\n",
      "702:\tlearn: 0.2356747\ttotal: 1m 47s\tremaining: 45.4s\n",
      "703:\tlearn: 0.2356591\ttotal: 1m 47s\tremaining: 45.2s\n",
      "704:\tlearn: 0.2356426\ttotal: 1m 47s\tremaining: 45.1s\n",
      "705:\tlearn: 0.2356288\ttotal: 1m 47s\tremaining: 44.9s\n",
      "706:\tlearn: 0.2356039\ttotal: 1m 48s\tremaining: 44.8s\n",
      "707:\tlearn: 0.2355744\ttotal: 1m 48s\tremaining: 44.7s\n",
      "708:\tlearn: 0.2355503\ttotal: 1m 48s\tremaining: 44.5s\n",
      "709:\tlearn: 0.2355420\ttotal: 1m 48s\tremaining: 44.3s\n",
      "710:\tlearn: 0.2355297\ttotal: 1m 48s\tremaining: 44.2s\n",
      "711:\tlearn: 0.2355159\ttotal: 1m 48s\tremaining: 44s\n",
      "712:\tlearn: 0.2354988\ttotal: 1m 48s\tremaining: 43.9s\n",
      "713:\tlearn: 0.2354783\ttotal: 1m 49s\tremaining: 43.7s\n",
      "714:\tlearn: 0.2354607\ttotal: 1m 49s\tremaining: 43.5s\n",
      "715:\tlearn: 0.2354497\ttotal: 1m 49s\tremaining: 43.4s\n",
      "716:\tlearn: 0.2354324\ttotal: 1m 49s\tremaining: 43.2s\n",
      "717:\tlearn: 0.2354032\ttotal: 1m 49s\tremaining: 43.1s\n",
      "718:\tlearn: 0.2353817\ttotal: 1m 49s\tremaining: 43s\n",
      "719:\tlearn: 0.2353639\ttotal: 1m 50s\tremaining: 42.8s\n",
      "720:\tlearn: 0.2353515\ttotal: 1m 50s\tremaining: 42.7s\n",
      "721:\tlearn: 0.2353356\ttotal: 1m 50s\tremaining: 42.6s\n",
      "722:\tlearn: 0.2353312\ttotal: 1m 50s\tremaining: 42.4s\n",
      "723:\tlearn: 0.2353117\ttotal: 1m 50s\tremaining: 42.3s\n",
      "724:\tlearn: 0.2352940\ttotal: 1m 51s\tremaining: 42.1s\n",
      "725:\tlearn: 0.2352709\ttotal: 1m 51s\tremaining: 42s\n",
      "726:\tlearn: 0.2352584\ttotal: 1m 51s\tremaining: 41.9s\n",
      "727:\tlearn: 0.2352389\ttotal: 1m 51s\tremaining: 41.7s\n",
      "728:\tlearn: 0.2352278\ttotal: 1m 51s\tremaining: 41.6s\n",
      "729:\tlearn: 0.2352102\ttotal: 1m 51s\tremaining: 41.4s\n",
      "730:\tlearn: 0.2351998\ttotal: 1m 52s\tremaining: 41.3s\n",
      "731:\tlearn: 0.2351780\ttotal: 1m 52s\tremaining: 41.1s\n",
      "732:\tlearn: 0.2351629\ttotal: 1m 52s\tremaining: 40.9s\n",
      "733:\tlearn: 0.2351494\ttotal: 1m 52s\tremaining: 40.8s\n",
      "734:\tlearn: 0.2351385\ttotal: 1m 52s\tremaining: 40.6s\n",
      "735:\tlearn: 0.2351219\ttotal: 1m 52s\tremaining: 40.5s\n",
      "736:\tlearn: 0.2351127\ttotal: 1m 52s\tremaining: 40.3s\n",
      "737:\tlearn: 0.2350929\ttotal: 1m 53s\tremaining: 40.2s\n",
      "738:\tlearn: 0.2350716\ttotal: 1m 53s\tremaining: 40s\n",
      "739:\tlearn: 0.2350517\ttotal: 1m 53s\tremaining: 39.9s\n",
      "740:\tlearn: 0.2350356\ttotal: 1m 53s\tremaining: 39.7s\n",
      "741:\tlearn: 0.2350177\ttotal: 1m 53s\tremaining: 39.6s\n",
      "742:\tlearn: 0.2350008\ttotal: 1m 54s\tremaining: 39.4s\n",
      "743:\tlearn: 0.2349853\ttotal: 1m 54s\tremaining: 39.3s\n",
      "744:\tlearn: 0.2349626\ttotal: 1m 54s\tremaining: 39.1s\n",
      "745:\tlearn: 0.2349403\ttotal: 1m 54s\tremaining: 39s\n",
      "746:\tlearn: 0.2349032\ttotal: 1m 54s\tremaining: 38.8s\n",
      "747:\tlearn: 0.2348890\ttotal: 1m 54s\tremaining: 38.7s\n",
      "748:\tlearn: 0.2348630\ttotal: 1m 54s\tremaining: 38.5s\n",
      "749:\tlearn: 0.2348498\ttotal: 1m 55s\tremaining: 38.4s\n",
      "750:\tlearn: 0.2348315\ttotal: 1m 55s\tremaining: 38.2s\n",
      "751:\tlearn: 0.2348101\ttotal: 1m 55s\tremaining: 38.1s\n",
      "752:\tlearn: 0.2347877\ttotal: 1m 55s\tremaining: 37.9s\n",
      "753:\tlearn: 0.2347641\ttotal: 1m 55s\tremaining: 37.8s\n",
      "754:\tlearn: 0.2347439\ttotal: 1m 55s\tremaining: 37.6s\n",
      "755:\tlearn: 0.2347230\ttotal: 1m 56s\tremaining: 37.5s\n",
      "756:\tlearn: 0.2347000\ttotal: 1m 56s\tremaining: 37.3s\n",
      "757:\tlearn: 0.2346902\ttotal: 1m 56s\tremaining: 37.2s\n",
      "758:\tlearn: 0.2346772\ttotal: 1m 56s\tremaining: 37s\n",
      "759:\tlearn: 0.2346562\ttotal: 1m 56s\tremaining: 36.8s\n",
      "760:\tlearn: 0.2346384\ttotal: 1m 56s\tremaining: 36.7s\n",
      "761:\tlearn: 0.2346312\ttotal: 1m 56s\tremaining: 36.5s\n",
      "762:\tlearn: 0.2346199\ttotal: 1m 57s\tremaining: 36.4s\n",
      "763:\tlearn: 0.2346064\ttotal: 1m 57s\tremaining: 36.2s\n",
      "764:\tlearn: 0.2345834\ttotal: 1m 57s\tremaining: 36.1s\n",
      "765:\tlearn: 0.2345658\ttotal: 1m 57s\tremaining: 35.9s\n",
      "766:\tlearn: 0.2345401\ttotal: 1m 57s\tremaining: 35.8s\n",
      "767:\tlearn: 0.2345285\ttotal: 1m 57s\tremaining: 35.6s\n",
      "768:\tlearn: 0.2345083\ttotal: 1m 58s\tremaining: 35.5s\n",
      "769:\tlearn: 0.2344899\ttotal: 1m 58s\tremaining: 35.3s\n",
      "770:\tlearn: 0.2344746\ttotal: 1m 58s\tremaining: 35.1s\n",
      "771:\tlearn: 0.2344603\ttotal: 1m 58s\tremaining: 35s\n",
      "772:\tlearn: 0.2344475\ttotal: 1m 58s\tremaining: 34.8s\n",
      "773:\tlearn: 0.2344419\ttotal: 1m 58s\tremaining: 34.7s\n",
      "774:\tlearn: 0.2344227\ttotal: 1m 59s\tremaining: 34.6s\n",
      "775:\tlearn: 0.2344086\ttotal: 1m 59s\tremaining: 34.4s\n",
      "776:\tlearn: 0.2343891\ttotal: 1m 59s\tremaining: 34.2s\n",
      "777:\tlearn: 0.2343801\ttotal: 1m 59s\tremaining: 34.1s\n",
      "778:\tlearn: 0.2343614\ttotal: 1m 59s\tremaining: 33.9s\n",
      "779:\tlearn: 0.2343432\ttotal: 1m 59s\tremaining: 33.8s\n",
      "780:\tlearn: 0.2343299\ttotal: 1m 59s\tremaining: 33.6s\n",
      "781:\tlearn: 0.2343188\ttotal: 2m\tremaining: 33.5s\n",
      "782:\tlearn: 0.2342977\ttotal: 2m\tremaining: 33.3s\n"
     ]
    },
    {
     "name": "stdout",
     "output_type": "stream",
     "text": [
      "783:\tlearn: 0.2342791\ttotal: 2m\tremaining: 33.1s\n",
      "784:\tlearn: 0.2342584\ttotal: 2m\tremaining: 33s\n",
      "785:\tlearn: 0.2342478\ttotal: 2m\tremaining: 32.8s\n",
      "786:\tlearn: 0.2342240\ttotal: 2m\tremaining: 32.7s\n",
      "787:\tlearn: 0.2341936\ttotal: 2m\tremaining: 32.5s\n",
      "788:\tlearn: 0.2341759\ttotal: 2m 1s\tremaining: 32.4s\n",
      "789:\tlearn: 0.2341597\ttotal: 2m 1s\tremaining: 32.2s\n",
      "790:\tlearn: 0.2341409\ttotal: 2m 1s\tremaining: 32.1s\n",
      "791:\tlearn: 0.2341286\ttotal: 2m 1s\tremaining: 31.9s\n",
      "792:\tlearn: 0.2341090\ttotal: 2m 1s\tremaining: 31.7s\n",
      "793:\tlearn: 0.2340886\ttotal: 2m 1s\tremaining: 31.6s\n",
      "794:\tlearn: 0.2340754\ttotal: 2m 1s\tremaining: 31.4s\n",
      "795:\tlearn: 0.2340553\ttotal: 2m 2s\tremaining: 31.3s\n",
      "796:\tlearn: 0.2340275\ttotal: 2m 2s\tremaining: 31.1s\n",
      "797:\tlearn: 0.2340007\ttotal: 2m 2s\tremaining: 31s\n",
      "798:\tlearn: 0.2339863\ttotal: 2m 2s\tremaining: 30.8s\n",
      "799:\tlearn: 0.2339589\ttotal: 2m 2s\tremaining: 30.6s\n",
      "800:\tlearn: 0.2339413\ttotal: 2m 2s\tremaining: 30.5s\n",
      "801:\tlearn: 0.2339220\ttotal: 2m 2s\tremaining: 30.3s\n",
      "802:\tlearn: 0.2339135\ttotal: 2m 3s\tremaining: 30.2s\n",
      "803:\tlearn: 0.2339041\ttotal: 2m 3s\tremaining: 30s\n",
      "804:\tlearn: 0.2338786\ttotal: 2m 3s\tremaining: 29.9s\n",
      "805:\tlearn: 0.2338670\ttotal: 2m 3s\tremaining: 29.7s\n",
      "806:\tlearn: 0.2338529\ttotal: 2m 3s\tremaining: 29.5s\n",
      "807:\tlearn: 0.2338338\ttotal: 2m 3s\tremaining: 29.4s\n",
      "808:\tlearn: 0.2338165\ttotal: 2m 3s\tremaining: 29.2s\n",
      "809:\tlearn: 0.2338020\ttotal: 2m 4s\tremaining: 29.1s\n",
      "810:\tlearn: 0.2337927\ttotal: 2m 4s\tremaining: 28.9s\n",
      "811:\tlearn: 0.2337748\ttotal: 2m 4s\tremaining: 28.8s\n",
      "812:\tlearn: 0.2337558\ttotal: 2m 4s\tremaining: 28.6s\n",
      "813:\tlearn: 0.2337336\ttotal: 2m 4s\tremaining: 28.5s\n",
      "814:\tlearn: 0.2337209\ttotal: 2m 4s\tremaining: 28.3s\n",
      "815:\tlearn: 0.2336947\ttotal: 2m 4s\tremaining: 28.2s\n",
      "816:\tlearn: 0.2336803\ttotal: 2m 5s\tremaining: 28s\n",
      "817:\tlearn: 0.2336660\ttotal: 2m 5s\tremaining: 27.8s\n",
      "818:\tlearn: 0.2336557\ttotal: 2m 5s\tremaining: 27.7s\n",
      "819:\tlearn: 0.2336459\ttotal: 2m 5s\tremaining: 27.5s\n",
      "820:\tlearn: 0.2336254\ttotal: 2m 5s\tremaining: 27.4s\n",
      "821:\tlearn: 0.2336028\ttotal: 2m 5s\tremaining: 27.2s\n",
      "822:\tlearn: 0.2335879\ttotal: 2m 5s\tremaining: 27.1s\n",
      "823:\tlearn: 0.2335648\ttotal: 2m 6s\tremaining: 26.9s\n",
      "824:\tlearn: 0.2335409\ttotal: 2m 6s\tremaining: 26.8s\n",
      "825:\tlearn: 0.2335184\ttotal: 2m 6s\tremaining: 26.6s\n",
      "826:\tlearn: 0.2334982\ttotal: 2m 6s\tremaining: 26.4s\n",
      "827:\tlearn: 0.2334832\ttotal: 2m 6s\tremaining: 26.3s\n",
      "828:\tlearn: 0.2334672\ttotal: 2m 6s\tremaining: 26.1s\n",
      "829:\tlearn: 0.2334459\ttotal: 2m 6s\tremaining: 26s\n",
      "830:\tlearn: 0.2334327\ttotal: 2m 6s\tremaining: 25.8s\n",
      "831:\tlearn: 0.2334145\ttotal: 2m 7s\tremaining: 25.7s\n",
      "832:\tlearn: 0.2333976\ttotal: 2m 7s\tremaining: 25.5s\n",
      "833:\tlearn: 0.2333780\ttotal: 2m 7s\tremaining: 25.4s\n",
      "834:\tlearn: 0.2333577\ttotal: 2m 7s\tremaining: 25.2s\n",
      "835:\tlearn: 0.2333393\ttotal: 2m 7s\tremaining: 25.1s\n",
      "836:\tlearn: 0.2333251\ttotal: 2m 7s\tremaining: 24.9s\n",
      "837:\tlearn: 0.2333026\ttotal: 2m 8s\tremaining: 24.7s\n",
      "838:\tlearn: 0.2332882\ttotal: 2m 8s\tremaining: 24.6s\n",
      "839:\tlearn: 0.2332740\ttotal: 2m 8s\tremaining: 24.4s\n",
      "840:\tlearn: 0.2332549\ttotal: 2m 8s\tremaining: 24.3s\n",
      "841:\tlearn: 0.2332401\ttotal: 2m 8s\tremaining: 24.1s\n",
      "842:\tlearn: 0.2332161\ttotal: 2m 8s\tremaining: 24s\n",
      "843:\tlearn: 0.2331940\ttotal: 2m 8s\tremaining: 23.8s\n",
      "844:\tlearn: 0.2331788\ttotal: 2m 8s\tremaining: 23.7s\n",
      "845:\tlearn: 0.2331708\ttotal: 2m 9s\tremaining: 23.5s\n",
      "846:\tlearn: 0.2331524\ttotal: 2m 9s\tremaining: 23.3s\n",
      "847:\tlearn: 0.2331276\ttotal: 2m 9s\tremaining: 23.2s\n",
      "848:\tlearn: 0.2331074\ttotal: 2m 9s\tremaining: 23s\n",
      "849:\tlearn: 0.2330952\ttotal: 2m 9s\tremaining: 22.9s\n",
      "850:\tlearn: 0.2330800\ttotal: 2m 9s\tremaining: 22.7s\n",
      "851:\tlearn: 0.2330624\ttotal: 2m 9s\tremaining: 22.6s\n",
      "852:\tlearn: 0.2330383\ttotal: 2m 10s\tremaining: 22.4s\n",
      "853:\tlearn: 0.2330176\ttotal: 2m 10s\tremaining: 22.3s\n",
      "854:\tlearn: 0.2330028\ttotal: 2m 10s\tremaining: 22.1s\n",
      "855:\tlearn: 0.2329845\ttotal: 2m 10s\tremaining: 22s\n",
      "856:\tlearn: 0.2329684\ttotal: 2m 10s\tremaining: 21.8s\n",
      "857:\tlearn: 0.2329553\ttotal: 2m 10s\tremaining: 21.7s\n",
      "858:\tlearn: 0.2329371\ttotal: 2m 11s\tremaining: 21.5s\n",
      "859:\tlearn: 0.2329285\ttotal: 2m 11s\tremaining: 21.4s\n",
      "860:\tlearn: 0.2329152\ttotal: 2m 11s\tremaining: 21.2s\n",
      "861:\tlearn: 0.2328997\ttotal: 2m 11s\tremaining: 21s\n",
      "862:\tlearn: 0.2328761\ttotal: 2m 11s\tremaining: 20.9s\n",
      "863:\tlearn: 0.2328631\ttotal: 2m 11s\tremaining: 20.7s\n",
      "864:\tlearn: 0.2328461\ttotal: 2m 11s\tremaining: 20.6s\n",
      "865:\tlearn: 0.2328313\ttotal: 2m 12s\tremaining: 20.4s\n",
      "866:\tlearn: 0.2328050\ttotal: 2m 12s\tremaining: 20.3s\n",
      "867:\tlearn: 0.2327890\ttotal: 2m 12s\tremaining: 20.1s\n",
      "868:\tlearn: 0.2327677\ttotal: 2m 12s\tremaining: 20s\n",
      "869:\tlearn: 0.2327568\ttotal: 2m 12s\tremaining: 19.8s\n",
      "870:\tlearn: 0.2327386\ttotal: 2m 12s\tremaining: 19.7s\n",
      "871:\tlearn: 0.2327275\ttotal: 2m 12s\tremaining: 19.5s\n",
      "872:\tlearn: 0.2327114\ttotal: 2m 13s\tremaining: 19.4s\n",
      "873:\tlearn: 0.2326983\ttotal: 2m 13s\tremaining: 19.2s\n",
      "874:\tlearn: 0.2326812\ttotal: 2m 13s\tremaining: 19.1s\n",
      "875:\tlearn: 0.2326622\ttotal: 2m 13s\tremaining: 18.9s\n",
      "876:\tlearn: 0.2326521\ttotal: 2m 13s\tremaining: 18.7s\n",
      "877:\tlearn: 0.2326266\ttotal: 2m 13s\tremaining: 18.6s\n",
      "878:\tlearn: 0.2326032\ttotal: 2m 13s\tremaining: 18.4s\n",
      "879:\tlearn: 0.2325862\ttotal: 2m 14s\tremaining: 18.3s\n",
      "880:\tlearn: 0.2325604\ttotal: 2m 14s\tremaining: 18.1s\n",
      "881:\tlearn: 0.2325441\ttotal: 2m 14s\tremaining: 18s\n",
      "882:\tlearn: 0.2325223\ttotal: 2m 14s\tremaining: 17.8s\n",
      "883:\tlearn: 0.2324965\ttotal: 2m 14s\tremaining: 17.7s\n",
      "884:\tlearn: 0.2324757\ttotal: 2m 14s\tremaining: 17.5s\n",
      "885:\tlearn: 0.2324630\ttotal: 2m 15s\tremaining: 17.4s\n",
      "886:\tlearn: 0.2324506\ttotal: 2m 15s\tremaining: 17.2s\n",
      "887:\tlearn: 0.2324274\ttotal: 2m 15s\tremaining: 17.1s\n",
      "888:\tlearn: 0.2324084\ttotal: 2m 15s\tremaining: 16.9s\n",
      "889:\tlearn: 0.2323972\ttotal: 2m 15s\tremaining: 16.8s\n",
      "890:\tlearn: 0.2323689\ttotal: 2m 15s\tremaining: 16.6s\n",
      "891:\tlearn: 0.2323522\ttotal: 2m 16s\tremaining: 16.5s\n",
      "892:\tlearn: 0.2323418\ttotal: 2m 16s\tremaining: 16.3s\n",
      "893:\tlearn: 0.2323257\ttotal: 2m 16s\tremaining: 16.2s\n",
      "894:\tlearn: 0.2323136\ttotal: 2m 16s\tremaining: 16s\n",
      "895:\tlearn: 0.2322907\ttotal: 2m 16s\tremaining: 15.9s\n",
      "896:\tlearn: 0.2322761\ttotal: 2m 16s\tremaining: 15.7s\n",
      "897:\tlearn: 0.2322574\ttotal: 2m 16s\tremaining: 15.6s\n",
      "898:\tlearn: 0.2322333\ttotal: 2m 17s\tremaining: 15.4s\n",
      "899:\tlearn: 0.2322236\ttotal: 2m 17s\tremaining: 15.2s\n",
      "900:\tlearn: 0.2322152\ttotal: 2m 17s\tremaining: 15.1s\n",
      "901:\tlearn: 0.2322034\ttotal: 2m 17s\tremaining: 14.9s\n",
      "902:\tlearn: 0.2321859\ttotal: 2m 17s\tremaining: 14.8s\n",
      "903:\tlearn: 0.2321728\ttotal: 2m 17s\tremaining: 14.6s\n",
      "904:\tlearn: 0.2321579\ttotal: 2m 17s\tremaining: 14.5s\n",
      "905:\tlearn: 0.2321371\ttotal: 2m 18s\tremaining: 14.3s\n",
      "906:\tlearn: 0.2321270\ttotal: 2m 18s\tremaining: 14.2s\n",
      "907:\tlearn: 0.2321068\ttotal: 2m 18s\tremaining: 14s\n",
      "908:\tlearn: 0.2320929\ttotal: 2m 18s\tremaining: 13.9s\n",
      "909:\tlearn: 0.2320831\ttotal: 2m 18s\tremaining: 13.7s\n",
      "910:\tlearn: 0.2320628\ttotal: 2m 18s\tremaining: 13.6s\n",
      "911:\tlearn: 0.2320453\ttotal: 2m 19s\tremaining: 13.4s\n",
      "912:\tlearn: 0.2320277\ttotal: 2m 19s\tremaining: 13.3s\n",
      "913:\tlearn: 0.2320136\ttotal: 2m 19s\tremaining: 13.1s\n",
      "914:\tlearn: 0.2319847\ttotal: 2m 19s\tremaining: 13s\n",
      "915:\tlearn: 0.2319735\ttotal: 2m 19s\tremaining: 12.8s\n",
      "916:\tlearn: 0.2319587\ttotal: 2m 20s\tremaining: 12.7s\n",
      "917:\tlearn: 0.2319371\ttotal: 2m 20s\tremaining: 12.5s\n",
      "918:\tlearn: 0.2319156\ttotal: 2m 20s\tremaining: 12.4s\n",
      "919:\tlearn: 0.2318922\ttotal: 2m 20s\tremaining: 12.2s\n",
      "920:\tlearn: 0.2318696\ttotal: 2m 20s\tremaining: 12.1s\n",
      "921:\tlearn: 0.2318629\ttotal: 2m 20s\tremaining: 11.9s\n",
      "922:\tlearn: 0.2318437\ttotal: 2m 21s\tremaining: 11.8s\n",
      "923:\tlearn: 0.2318212\ttotal: 2m 21s\tremaining: 11.6s\n",
      "924:\tlearn: 0.2318064\ttotal: 2m 21s\tremaining: 11.5s\n",
      "925:\tlearn: 0.2317819\ttotal: 2m 21s\tremaining: 11.3s\n",
      "926:\tlearn: 0.2317672\ttotal: 2m 21s\tremaining: 11.2s\n",
      "927:\tlearn: 0.2317466\ttotal: 2m 21s\tremaining: 11s\n",
      "928:\tlearn: 0.2317275\ttotal: 2m 21s\tremaining: 10.8s\n",
      "929:\tlearn: 0.2317038\ttotal: 2m 22s\tremaining: 10.7s\n",
      "930:\tlearn: 0.2316792\ttotal: 2m 22s\tremaining: 10.5s\n",
      "931:\tlearn: 0.2316737\ttotal: 2m 22s\tremaining: 10.4s\n",
      "932:\tlearn: 0.2316478\ttotal: 2m 22s\tremaining: 10.2s\n",
      "933:\tlearn: 0.2316341\ttotal: 2m 22s\tremaining: 10.1s\n",
      "934:\tlearn: 0.2316137\ttotal: 2m 22s\tremaining: 9.93s\n",
      "935:\tlearn: 0.2315980\ttotal: 2m 22s\tremaining: 9.77s\n",
      "936:\tlearn: 0.2315699\ttotal: 2m 23s\tremaining: 9.62s\n",
      "937:\tlearn: 0.2315597\ttotal: 2m 23s\tremaining: 9.46s\n",
      "938:\tlearn: 0.2315433\ttotal: 2m 23s\tremaining: 9.31s\n",
      "939:\tlearn: 0.2315346\ttotal: 2m 23s\tremaining: 9.15s\n",
      "940:\tlearn: 0.2315245\ttotal: 2m 23s\tremaining: 9s\n"
     ]
    },
    {
     "name": "stdout",
     "output_type": "stream",
     "text": [
      "941:\tlearn: 0.2315050\ttotal: 2m 23s\tremaining: 8.85s\n",
      "942:\tlearn: 0.2314969\ttotal: 2m 23s\tremaining: 8.7s\n",
      "943:\tlearn: 0.2314770\ttotal: 2m 24s\tremaining: 8.55s\n",
      "944:\tlearn: 0.2314611\ttotal: 2m 24s\tremaining: 8.39s\n",
      "945:\tlearn: 0.2314526\ttotal: 2m 24s\tremaining: 8.24s\n",
      "946:\tlearn: 0.2314401\ttotal: 2m 24s\tremaining: 8.09s\n",
      "947:\tlearn: 0.2314283\ttotal: 2m 24s\tremaining: 7.94s\n",
      "948:\tlearn: 0.2314135\ttotal: 2m 24s\tremaining: 7.78s\n",
      "949:\tlearn: 0.2313878\ttotal: 2m 24s\tremaining: 7.63s\n",
      "950:\tlearn: 0.2313664\ttotal: 2m 25s\tremaining: 7.47s\n",
      "951:\tlearn: 0.2313524\ttotal: 2m 25s\tremaining: 7.32s\n",
      "952:\tlearn: 0.2313314\ttotal: 2m 25s\tremaining: 7.17s\n",
      "953:\tlearn: 0.2312983\ttotal: 2m 25s\tremaining: 7.02s\n",
      "954:\tlearn: 0.2312829\ttotal: 2m 25s\tremaining: 6.86s\n",
      "955:\tlearn: 0.2312661\ttotal: 2m 25s\tremaining: 6.71s\n",
      "956:\tlearn: 0.2312492\ttotal: 2m 25s\tremaining: 6.56s\n",
      "957:\tlearn: 0.2312321\ttotal: 2m 26s\tremaining: 6.4s\n",
      "958:\tlearn: 0.2312194\ttotal: 2m 26s\tremaining: 6.25s\n",
      "959:\tlearn: 0.2312030\ttotal: 2m 26s\tremaining: 6.1s\n",
      "960:\tlearn: 0.2311842\ttotal: 2m 26s\tremaining: 5.95s\n",
      "961:\tlearn: 0.2311612\ttotal: 2m 26s\tremaining: 5.79s\n",
      "962:\tlearn: 0.2311416\ttotal: 2m 26s\tremaining: 5.64s\n",
      "963:\tlearn: 0.2311240\ttotal: 2m 26s\tremaining: 5.49s\n",
      "964:\tlearn: 0.2311049\ttotal: 2m 27s\tremaining: 5.33s\n",
      "965:\tlearn: 0.2310809\ttotal: 2m 27s\tremaining: 5.18s\n",
      "966:\tlearn: 0.2310686\ttotal: 2m 27s\tremaining: 5.03s\n",
      "967:\tlearn: 0.2310501\ttotal: 2m 27s\tremaining: 4.87s\n",
      "968:\tlearn: 0.2310362\ttotal: 2m 27s\tremaining: 4.72s\n",
      "969:\tlearn: 0.2310241\ttotal: 2m 27s\tremaining: 4.57s\n",
      "970:\tlearn: 0.2309998\ttotal: 2m 27s\tremaining: 4.42s\n",
      "971:\tlearn: 0.2309850\ttotal: 2m 27s\tremaining: 4.26s\n",
      "972:\tlearn: 0.2309730\ttotal: 2m 28s\tremaining: 4.11s\n",
      "973:\tlearn: 0.2309499\ttotal: 2m 28s\tremaining: 3.96s\n",
      "974:\tlearn: 0.2309367\ttotal: 2m 28s\tremaining: 3.8s\n",
      "975:\tlearn: 0.2309148\ttotal: 2m 28s\tremaining: 3.65s\n",
      "976:\tlearn: 0.2309029\ttotal: 2m 28s\tremaining: 3.5s\n",
      "977:\tlearn: 0.2308829\ttotal: 2m 28s\tremaining: 3.35s\n",
      "978:\tlearn: 0.2308647\ttotal: 2m 28s\tremaining: 3.19s\n",
      "979:\tlearn: 0.2308388\ttotal: 2m 29s\tremaining: 3.04s\n",
      "980:\tlearn: 0.2308160\ttotal: 2m 29s\tremaining: 2.89s\n",
      "981:\tlearn: 0.2308035\ttotal: 2m 29s\tremaining: 2.74s\n",
      "982:\tlearn: 0.2307826\ttotal: 2m 29s\tremaining: 2.58s\n",
      "983:\tlearn: 0.2307619\ttotal: 2m 29s\tremaining: 2.43s\n",
      "984:\tlearn: 0.2307467\ttotal: 2m 29s\tremaining: 2.28s\n",
      "985:\tlearn: 0.2307191\ttotal: 2m 29s\tremaining: 2.13s\n",
      "986:\tlearn: 0.2307075\ttotal: 2m 29s\tremaining: 1.98s\n",
      "987:\tlearn: 0.2306819\ttotal: 2m 30s\tremaining: 1.82s\n",
      "988:\tlearn: 0.2306726\ttotal: 2m 30s\tremaining: 1.67s\n",
      "989:\tlearn: 0.2306562\ttotal: 2m 30s\tremaining: 1.52s\n",
      "990:\tlearn: 0.2306321\ttotal: 2m 30s\tremaining: 1.37s\n",
      "991:\tlearn: 0.2306235\ttotal: 2m 30s\tremaining: 1.21s\n",
      "992:\tlearn: 0.2306047\ttotal: 2m 30s\tremaining: 1.06s\n",
      "993:\tlearn: 0.2305859\ttotal: 2m 30s\tremaining: 911ms\n",
      "994:\tlearn: 0.2305595\ttotal: 2m 31s\tremaining: 759ms\n",
      "995:\tlearn: 0.2305396\ttotal: 2m 31s\tremaining: 607ms\n",
      "996:\tlearn: 0.2305233\ttotal: 2m 31s\tremaining: 455ms\n",
      "997:\tlearn: 0.2305002\ttotal: 2m 31s\tremaining: 304ms\n",
      "998:\tlearn: 0.2304765\ttotal: 2m 31s\tremaining: 152ms\n",
      "999:\tlearn: 0.2304580\ttotal: 2m 31s\tremaining: 0us\n"
     ]
    }
   ],
   "source": [
    "clf = CatBoostClassifier()\n",
    "start = time. time()\n",
    "\n",
    "clf.fit(X_train_f, y_train)\n",
    "\n",
    "end = time. time()"
   ]
  },
  {
   "cell_type": "code",
   "execution_count": 15,
   "metadata": {
    "scrolled": false
   },
   "outputs": [
    {
     "name": "stdout",
     "output_type": "stream",
     "text": [
      "Catboost time:  155.16268873214722\n",
      "Catboost pr-auc:  0.23113673220555883\n"
     ]
    }
   ],
   "source": [
    "print('Catboost time: ', end - start)\n",
    "precision, recall, _ = precision_recall_curve(y_test, clf.predict_proba(X_test_f)[:, 1])\n",
    "print('Catboost pr-auc: ', auc(recall, precision))"
   ]
  },
  {
   "cell_type": "code",
   "execution_count": 23,
   "metadata": {},
   "outputs": [],
   "source": [
    "clf1 = LGBMClassifier()\n",
    "start = time. time()\n",
    "\n",
    "clf1.fit(X_train_f, y_train)\n",
    "\n",
    "end = time. time()"
   ]
  },
  {
   "cell_type": "code",
   "execution_count": 24,
   "metadata": {},
   "outputs": [
    {
     "name": "stdout",
     "output_type": "stream",
     "text": [
      "LightGBM time:  4.727361679077148\n",
      "LightGBM pr-auc:  0.2357275101576425\n"
     ]
    }
   ],
   "source": [
    "print('LightGBM time: ', end - start)\n",
    "precision, recall, _ = precision_recall_curve(y_test, clf1.predict_proba(X_test_f)[:, 1])\n",
    "print('LightGBM pr-auc: ', auc(recall, precision))"
   ]
  },
  {
   "cell_type": "markdown",
   "metadata": {},
   "source": [
    "Можно заметить разницу в качестве двух моделей. Реализация LightGBM оказалась лучше Catboost, возможно, потому что Catboost лучше работает с категориальными признаками, а у нас представлены только вещественные."
   ]
  },
  {
   "cell_type": "markdown",
   "metadata": {},
   "source": [
    "__Задание 3. (2 балла)__\n",
    "\n",
    "Подберите с CV=3 оптимальные параметры алгоритмов, изменяя:\n",
    "\n",
    "* глубину деревьев;\n",
    "* количество деревьев;\n",
    "* темп обучения;\n",
    "* оптимизируемый функционал.\n",
    "\n",
    "Проанализируйте соотношения глубины и количества деревьев в зависимости от алгоритма."
   ]
  },
  {
   "cell_type": "markdown",
   "metadata": {},
   "source": [
    "*Подбор параметров для LGBMClassifier*\n",
    "* Глубина деревев"
   ]
  },
  {
   "cell_type": "code",
   "execution_count": 18,
   "metadata": {
    "scrolled": true
   },
   "outputs": [
    {
     "name": "stdout",
     "output_type": "stream",
     "text": [
      "depth:  1 time:  2.549185037612915\n",
      "depth:  1 time:  2.437483310699463\n",
      "depth:  1 time:  3.0398752689361572\n",
      "depth:  1 pr_auc mean:  0.20088165712945952\n",
      "depth:  2 time:  3.110685348510742\n",
      "depth:  2 time:  2.8234550952911377\n",
      "depth:  2 time:  3.5355489253997803\n",
      "depth:  2 pr_auc mean:  0.21830429172504154\n",
      "depth:  3 time:  4.026240110397339\n",
      "depth:  3 time:  3.6133453845977783\n",
      "depth:  3 time:  3.745990753173828\n",
      "depth:  3 pr_auc mean:  0.22621599813319163\n",
      "depth:  5 time:  4.752299070358276\n",
      "depth:  5 time:  5.1133339405059814\n",
      "depth:  5 time:  4.607685804367065\n",
      "depth:  5 pr_auc mean:  0.2324630807851701\n",
      "depth:  7 time:  7.796171426773071\n",
      "depth:  7 time:  5.182196855545044\n",
      "depth:  7 time:  4.788740873336792\n",
      "depth:  7 pr_auc mean:  0.232092547469648\n",
      "depth:  9 time:  5.478359937667847\n",
      "depth:  9 time:  5.712733268737793\n",
      "depth:  9 time:  4.863004684448242\n",
      "depth:  9 pr_auc mean:  0.23065178881259055\n"
     ]
    }
   ],
   "source": [
    "kf = KFold(n_splits=3, shuffle = True, random_state = 0)\n",
    "pr_auc = []\n",
    "depth = [1,2,3,5,7,9]\n",
    "for i in depth:\n",
    "    clf1 = LGBMClassifier(max_depth = i)\n",
    "    auc1 = 0\n",
    "    for train1, test1 in kf.split(train_sc):\n",
    "        X_train, X_test = train_sc.iloc[train1], train_sc.iloc[test1]\n",
    "        y_train, y_test = Y[train1], Y[test1]\n",
    "        X_train_f = X_train.select_dtypes(exclude=['object'])\n",
    "        X_test_f = X_test.select_dtypes(exclude=['object'])        \n",
    "        start = time. time()\n",
    "        \n",
    "        clf1.fit(X_train_f, y_train)\n",
    "        \n",
    "        end = time. time()\n",
    "        precision, recall, _ = precision_recall_curve(y_test, clf1.predict_proba(X_test_f)[:, 1])\n",
    "        print(\"depth: \", i, 'time: ', end - start)\n",
    "        auc1 += auc(recall, precision)\n",
    "    print(\"depth: \", i,'pr_auc mean: ', auc1/3)\n",
    "    pr_auc.append(auc1/3)"
   ]
  },
  {
   "cell_type": "code",
   "execution_count": 20,
   "metadata": {},
   "outputs": [
    {
     "name": "stdout",
     "output_type": "stream",
     "text": [
      "max_depth = 5 , pr-auc max = 0.2324630807851701\n"
     ]
    }
   ],
   "source": [
    "print('max_depth =', depth[pr_auc.index(max(pr_auc))], ', pr-auc max =', max(pr_auc))"
   ]
  },
  {
   "cell_type": "code",
   "execution_count": 21,
   "metadata": {
    "scrolled": true
   },
   "outputs": [
    {
     "data": {
      "image/png": "[encoded data removed]",
      "text/plain": [
       "<Figure size 936x648 with 1 Axes>"
      ]
     },
     "metadata": {
      "needs_background": "light"
     },
     "output_type": "display_data"
    }
   ],
   "source": [
    "plt.figure(figsize=(13, 9))\n",
    "plt.plot(depth, pr_auc)\n",
    "plt.xlabel('max_depth')\n",
    "plt.ylabel('Метрика pr-auc')\n",
    "plt.title('LGBMClassifier') \n",
    "plt.show()"
   ]
  },
  {
   "cell_type": "markdown",
   "metadata": {},
   "source": [
    "* Количество деревьев"
   ]
  },
  {
   "cell_type": "code",
   "execution_count": 25,
   "metadata": {
    "scrolled": true
   },
   "outputs": [
    {
     "name": "stdout",
     "output_type": "stream",
     "text": [
      "n_estimators:  1 time:  1.1509230136871338\n",
      "n_estimators:  1 time:  1.2985286712646484\n",
      "n_estimators:  1 time:  1.3803083896636963\n",
      "n_estimators:  1 pr_auc mean:  0.1937242997491118\n",
      "n_estimators:  5 time:  1.338421106338501\n",
      "n_estimators:  5 time:  1.436161756515503\n",
      "n_estimators:  5 time:  1.37931227684021\n",
      "n_estimators:  5 pr_auc mean:  0.20316862263265234\n",
      "n_estimators:  10 time:  1.6924762725830078\n",
      "n_estimators:  10 time:  1.7074344158172607\n",
      "n_estimators:  10 time:  1.5289151668548584\n",
      "n_estimators:  10 pr_auc mean:  0.21073420184668154\n",
      "n_estimators:  100 time:  5.154222726821899\n",
      "n_estimators:  100 time:  4.74032998085022\n",
      "n_estimators:  100 time:  4.552830457687378\n",
      "n_estimators:  100 pr_auc mean:  0.23042199887630488\n",
      "n_estimators:  200 time:  7.153879404067993\n",
      "n_estimators:  200 time:  8.100354194641113\n",
      "n_estimators:  200 time:  9.6154146194458\n",
      "n_estimators:  200 pr_auc mean:  0.22962996906783953\n",
      "n_estimators:  300 time:  9.908619165420532\n",
      "n_estimators:  300 time:  11.389561891555786\n",
      "n_estimators:  300 time:  12.206377744674683\n",
      "n_estimators:  300 pr_auc mean:  0.22752768404117718\n",
      "n_estimators:  400 time:  12.951894998550415\n",
      "n_estimators:  400 time:  13.505902767181396\n",
      "n_estimators:  400 time:  13.964678287506104\n",
      "n_estimators:  400 pr_auc mean:  0.22649722343162285\n",
      "n_estimators:  500 time:  19.318371772766113\n",
      "n_estimators:  500 time:  18.296101331710815\n",
      "n_estimators:  500 time:  15.275174856185913\n",
      "n_estimators:  500 pr_auc mean:  0.22488915235307172\n",
      "n_estimators:  600 time:  18.17342972755432\n",
      "n_estimators:  600 time:  18.14350962638855\n",
      "n_estimators:  600 time:  19.497891187667847\n",
      "n_estimators:  600 pr_auc mean:  0.22351256885826232\n",
      "n_estimators:  700 time:  21.617225885391235\n",
      "n_estimators:  700 time:  20.405465364456177\n",
      "n_estimators:  700 time:  21.499542474746704\n",
      "n_estimators:  700 pr_auc mean:  0.22217002236259087\n"
     ]
    }
   ],
   "source": [
    "pr_auc1 = []\n",
    "iterations = [1, 5, 10, 100, 200, 300, 400, 500, 600, 700]\n",
    "for i in iterations:\n",
    "    clf1 = LGBMClassifier(n_estimators = i)\n",
    "    auc1 = 0\n",
    "    for train1, test1 in kf.split(train_sc):\n",
    "        X_train, X_test = train_sc.iloc[train1], train_sc.iloc[test1]\n",
    "        y_train, y_test = Y[train1], Y[test1]\n",
    "        X_train_f = X_train.select_dtypes(exclude=['object'])\n",
    "        X_test_f = X_test.select_dtypes(exclude=['object'])        \n",
    "        start = time. time()\n",
    "        \n",
    "        clf1.fit(X_train_f, y_train)\n",
    "        \n",
    "        end = time. time()\n",
    "        precision, recall, _ = precision_recall_curve(y_test, clf1.predict_proba(X_test_f)[:, 1])\n",
    "        print(\"n_estimators: \", i, 'time: ', end - start)\n",
    "        auc1 += auc(recall, precision)\n",
    "    print(\"n_estimators: \", i,'pr_auc mean: ', auc1/3)\n",
    "    pr_auc1.append(auc1/3)"
   ]
  },
  {
   "cell_type": "code",
   "execution_count": 26,
   "metadata": {},
   "outputs": [
    {
     "name": "stdout",
     "output_type": "stream",
     "text": [
      "n_estimators = 100 , pr-auc max = 0.23042199887630488\n"
     ]
    }
   ],
   "source": [
    "print('n_estimators =', iterations[pr_auc1.index(max(pr_auc1))], ', pr-auc max =', max(pr_auc1))"
   ]
  },
  {
   "cell_type": "code",
   "execution_count": 27,
   "metadata": {
    "scrolled": true
   },
   "outputs": [
    {
     "data": {
      "image/png": "[encoded data removed]",
      "text/plain": [
       "<Figure size 936x648 with 1 Axes>"
      ]
     },
     "metadata": {
      "needs_background": "light"
     },
     "output_type": "display_data"
    }
   ],
   "source": [
    "plt.figure(figsize=(13, 9))\n",
    "plt.plot(iterations, pr_auc1)\n",
    "plt.xlabel('n_estimators')\n",
    "plt.ylabel('Метрика pr-auc')\n",
    "plt.title('LGBMClassifier') \n",
    "plt.show()"
   ]
  },
  {
   "cell_type": "markdown",
   "metadata": {},
   "source": [
    "* Скорость обучения"
   ]
  },
  {
   "cell_type": "code",
   "execution_count": 32,
   "metadata": {
    "scrolled": true
   },
   "outputs": [
    {
     "name": "stdout",
     "output_type": "stream",
     "text": [
      "learning_rate:  0.1 time:  5.39373254776001\n",
      "learning_rate:  0.1 time:  5.309807538986206\n",
      "learning_rate:  0.1 time:  5.115328550338745\n",
      "learning_rate:  0.1 pr_auc mean:  0.23042199887630488\n",
      "learning_rate:  0.4 time:  3.9743802547454834\n",
      "learning_rate:  0.4 time:  3.8915975093841553\n",
      "learning_rate:  0.4 time:  4.058155298233032\n",
      "learning_rate:  0.4 pr_auc mean:  0.18318929950050364\n",
      "learning_rate:  0.7000000000000001 time:  3.3929331302642822\n",
      "learning_rate:  0.7000000000000001 time:  4.413206338882446\n",
      "learning_rate:  0.7000000000000001 time:  3.906558036804199\n",
      "learning_rate:  0.7000000000000001 pr_auc mean:  0.17694598338745257\n",
      "learning_rate:  1.0000000000000002 time:  3.973381519317627\n",
      "learning_rate:  1.0000000000000002 time:  3.7549660205841064\n",
      "learning_rate:  1.0000000000000002 time:  3.880629777908325\n",
      "learning_rate:  1.0000000000000002 pr_auc mean:  0.1776061802683103\n"
     ]
    }
   ],
   "source": [
    "pr_auc2 = []\n",
    "for i in np.arange(0.1,1.1,0.3):\n",
    "    clf1 = LGBMClassifier(learning_rate = i)\n",
    "    auc1 = 0\n",
    "    for train1, test1 in kf.split(train_sc):\n",
    "        X_train, X_test = train_sc.iloc[train1], train_sc.iloc[test1]\n",
    "        y_train, y_test = Y[train1], Y[test1]\n",
    "        X_train_f = X_train.select_dtypes(exclude=['object'])\n",
    "        X_test_f = X_test.select_dtypes(exclude=['object'])        \n",
    "        start = time. time()\n",
    "        \n",
    "        clf1.fit(X_train_f, y_train)\n",
    "        \n",
    "        end = time. time()\n",
    "        precision, recall, _ = precision_recall_curve(y_test, clf1.predict_proba(X_test_f)[:, 1])\n",
    "        print(\"learning_rate: \", i, 'time: ', end - start)\n",
    "        auc1 += auc(recall, precision)\n",
    "    print(\"learning_rate: \", i,'pr_auc mean: ', auc1/3)\n",
    "    pr_auc2.append(auc1/3)"
   ]
  },
  {
   "cell_type": "code",
   "execution_count": 33,
   "metadata": {},
   "outputs": [
    {
     "name": "stdout",
     "output_type": "stream",
     "text": [
      "learning_rate = 0.1 , pr-auc max = 0.23042199887630488\n"
     ]
    }
   ],
   "source": [
    "print('learning_rate =', (pr_auc2.index(max(pr_auc2)))*0.3+0.1, ', pr-auc max =', max(pr_auc2))"
   ]
  },
  {
   "cell_type": "code",
   "execution_count": 34,
   "metadata": {
    "scrolled": true
   },
   "outputs": [
    {
     "data": {
      "image/png": "[encoded data removed]",
      "text/plain": [
       "<Figure size 936x648 with 1 Axes>"
      ]
     },
     "metadata": {
      "needs_background": "light"
     },
     "output_type": "display_data"
    }
   ],
   "source": [
    "plt.figure(figsize=(13, 9))\n",
    "plt.plot(np.arange(0.1,1.1,0.3), pr_auc2)\n",
    "plt.xlabel('learning_rate')\n",
    "plt.ylabel('Метрика pr-auc')\n",
    "plt.title('LGBMClassifier') \n",
    "plt.show()"
   ]
  },
  {
   "cell_type": "markdown",
   "metadata": {},
   "source": [
    "* Оптимизируемый функционал (указываем конкретный функционал для обучения)"
   ]
  },
  {
   "cell_type": "code",
   "execution_count": 35,
   "metadata": {},
   "outputs": [
    {
     "name": "stdout",
     "output_type": "stream",
     "text": [
      "objective binary:  time:  5.751628160476685\n",
      "objective binary:  time:  5.701767683029175\n",
      "objective binary:  time:  4.78421688079834\n",
      "pr_auc mean:  0.23042199887630488\n"
     ]
    }
   ],
   "source": [
    "clf1 = LGBMClassifier(objective = 'binary')\n",
    "auc1 = 0\n",
    "for train1, test1 in kf.split(train_sc):\n",
    "    X_train, X_test = train_sc.iloc[train1], train_sc.iloc[test1]\n",
    "    y_train, y_test = Y[train1], Y[test1]\n",
    "    X_train_f = X_train.select_dtypes(exclude=['object'])\n",
    "    X_test_f = X_test.select_dtypes(exclude=['object'])        \n",
    "    start = time. time()\n",
    "        \n",
    "    clf1.fit(X_train_f, y_train)\n",
    "        \n",
    "    end = time. time()\n",
    "    precision, recall, _ = precision_recall_curve(y_test, clf1.predict_proba(X_test_f)[:, 1])\n",
    "    print(\"objective binary: \", 'time: ', end - start)\n",
    "    auc1 += auc(recall, precision)\n",
    "print('pr_auc mean: ', auc1/3)"
   ]
  },
  {
   "cell_type": "code",
   "execution_count": 36,
   "metadata": {},
   "outputs": [
    {
     "name": "stdout",
     "output_type": "stream",
     "text": [
      "auto objective:  time:  5.214065313339233\n",
      "auto objective:  time:  5.569117546081543\n",
      "auto objective:  time:  4.8959128856658936\n",
      "pr_auc mean:  0.23042199887630488\n"
     ]
    }
   ],
   "source": [
    "clf1 = LGBMClassifier()\n",
    "auc1 = 0\n",
    "for train1, test1 in kf.split(train_sc):\n",
    "    X_train, X_test = train_sc.iloc[train1], train_sc.iloc[test1]\n",
    "    y_train, y_test = Y[train1], Y[test1]\n",
    "    X_train_f = X_train.select_dtypes(exclude=['object'])\n",
    "    X_test_f = X_test.select_dtypes(exclude=['object'])        \n",
    "    start = time. time()\n",
    "        \n",
    "    clf1.fit(X_train_f, y_train)\n",
    "        \n",
    "    end = time. time()\n",
    "    precision, recall, _ = precision_recall_curve(y_test, clf1.predict_proba(X_test_f)[:, 1])\n",
    "    print(\"auto objective: \", 'time: ', end - start)\n",
    "    auc1 += auc(recall, precision)\n",
    "print('pr_auc mean: ', auc1/3)"
   ]
  },
  {
   "cell_type": "markdown",
   "metadata": {},
   "source": [
    "*Подбор параметров для CatBoost*\n",
    "* Глубина деревьев"
   ]
  },
  {
   "cell_type": "code",
   "execution_count": 38,
   "metadata": {
    "scrolled": true
   },
   "outputs": [
    {
     "name": "stdout",
     "output_type": "stream",
     "text": [
      "depth:  1 time:  91.88531732559204\n",
      "depth:  1 time:  92.6843032836914\n",
      "depth:  1 time:  92.66195726394653\n",
      "depth:  1 pr_auc mean:  0.2227749986564961\n",
      "depth:  2 time:  98.57111716270447\n",
      "depth:  2 time:  95.49837493896484\n",
      "depth:  2 time:  95.26616215705872\n",
      "depth:  2 pr_auc mean:  0.23217503420560673\n",
      "depth:  3 time:  116.67937278747559\n",
      "depth:  3 time:  113.16376757621765\n",
      "depth:  3 time:  106.35095596313477\n",
      "depth:  3 pr_auc mean:  0.23460969164312942\n",
      "depth:  5 time:  136.00009608268738\n",
      "depth:  5 time:  123.91498827934265\n",
      "depth:  5 time:  141.253653049469\n",
      "depth:  5 pr_auc mean:  0.23497483288426077\n",
      "depth:  7 time:  154.3721957206726\n",
      "depth:  7 time:  157.7945258617401\n",
      "depth:  7 time:  154.02427196502686\n",
      "depth:  7 pr_auc mean:  0.23188303504690402\n",
      "depth:  9 time:  216.9553074836731\n",
      "depth:  9 time:  241.10593581199646\n",
      "depth:  9 time:  229.88752007484436\n",
      "depth:  9 pr_auc mean:  0.2215928923053966\n"
     ]
    }
   ],
   "source": [
    "pr_auc3 = []\n",
    "depth = [1,2,3,5,7,9]\n",
    "for i in depth:\n",
    "    clf1 = CatBoostClassifier(depth = i, logging_level='Silent')\n",
    "    auc1 = 0\n",
    "    for train1, test1 in kf.split(train_sc):\n",
    "        X_train, X_test = train_sc.iloc[train1], train_sc.iloc[test1]\n",
    "        y_train, y_test = Y[train1], Y[test1]\n",
    "        X_train_f = X_train.select_dtypes(exclude=['object'])\n",
    "        X_test_f = X_test.select_dtypes(exclude=['object'])        \n",
    "        start = time. time()\n",
    "        \n",
    "        clf1.fit(X_train_f, y_train)\n",
    "        \n",
    "        end = time. time()\n",
    "        precision, recall, _ = precision_recall_curve(y_test, clf1.predict_proba(X_test_f)[:, 1])\n",
    "        print(\"depth: \", i, 'time: ', end - start)\n",
    "        auc1 += auc(recall, precision)\n",
    "    print(\"depth: \", i,'pr_auc mean: ', auc1/3)\n",
    "    pr_auc3.append(auc1/3)"
   ]
  },
  {
   "cell_type": "code",
   "execution_count": 39,
   "metadata": {},
   "outputs": [
    {
     "name": "stdout",
     "output_type": "stream",
     "text": [
      "max depth = 5 , pr-auc max = 0.23497483288426077\n"
     ]
    }
   ],
   "source": [
    "print('max depth =', depth[pr_auc3.index(max(pr_auc3))], ', pr-auc max =', max(pr_auc3))"
   ]
  },
  {
   "cell_type": "code",
   "execution_count": 40,
   "metadata": {
    "scrolled": true
   },
   "outputs": [
    {
     "data": {
      "image/png": "[encoded data removed]",
      "text/plain": [
       "<Figure size 936x648 with 1 Axes>"
      ]
     },
     "metadata": {
      "needs_background": "light"
     },
     "output_type": "display_data"
    }
   ],
   "source": [
    "plt.figure(figsize=(13, 9))\n",
    "plt.plot(depth, pr_auc3)\n",
    "plt.xlabel('depth')\n",
    "plt.ylabel('Метрика pr-auc')\n",
    "plt.title('CatBoostClassifer') \n",
    "plt.show()"
   ]
  },
  {
   "cell_type": "markdown",
   "metadata": {},
   "source": [
    "* Количество деревьев"
   ]
  },
  {
   "cell_type": "code",
   "execution_count": 41,
   "metadata": {
    "scrolled": true
   },
   "outputs": [
    {
     "name": "stdout",
     "output_type": "stream",
     "text": [
      "iterations:  1 time:  3.674849510192871\n",
      "iterations:  1 time:  2.9172494411468506\n",
      "iterations:  1 time:  2.971163749694824\n",
      "iterations:  1 pr_auc mean:  0.1437479378444209\n",
      "iterations:  5 time:  3.5645487308502197\n",
      "iterations:  5 time:  3.4287030696868896\n",
      "iterations:  5 time:  3.454317808151245\n",
      "iterations:  5 pr_auc mean:  0.2033556740524435\n",
      "iterations:  10 time:  4.846759080886841\n",
      "iterations:  10 time:  5.32477068901062\n",
      "iterations:  10 time:  6.267295837402344\n",
      "iterations:  10 pr_auc mean:  0.216741102920238\n",
      "iterations:  100 time:  20.97996735572815\n",
      "iterations:  100 time:  17.844225883483887\n",
      "iterations:  100 time:  18.359185218811035\n",
      "iterations:  100 pr_auc mean:  0.22291686107149902\n",
      "iterations:  200 time:  29.083800077438354\n",
      "iterations:  200 time:  34.96455693244934\n",
      "iterations:  200 time:  34.247227907180786\n",
      "iterations:  200 pr_auc mean:  0.2259333985777703\n",
      "iterations:  300 time:  45.3816020488739\n",
      "iterations:  300 time:  48.12490272521973\n",
      "iterations:  300 time:  44.276522636413574\n",
      "iterations:  300 pr_auc mean:  0.22832367297512854\n",
      "iterations:  400 time:  60.49360704421997\n",
      "iterations:  400 time:  62.05976176261902\n",
      "iterations:  400 time:  63.25140690803528\n",
      "iterations:  400 pr_auc mean:  0.23082878510370075\n",
      "iterations:  500 time:  70.71802043914795\n",
      "iterations:  500 time:  73.17904901504517\n",
      "iterations:  500 time:  79.83585262298584\n",
      "iterations:  500 pr_auc mean:  0.23150930023935223\n",
      "iterations:  600 time:  90.60275793075562\n",
      "iterations:  600 time:  85.64418125152588\n",
      "iterations:  600 time:  92.24081754684448\n",
      "iterations:  600 pr_auc mean:  0.2319699135682487\n",
      "iterations:  700 time:  90.96527862548828\n",
      "iterations:  700 time:  94.38413190841675\n",
      "iterations:  700 time:  100.32130360603333\n",
      "iterations:  700 pr_auc mean:  0.23204182521474567\n"
     ]
    }
   ],
   "source": [
    "pr_auc4 = []\n",
    "iterations = [1, 5, 10, 100, 200, 300, 400, 500, 600, 700]\n",
    "for i in iterations:\n",
    "    clf1 = CatBoostClassifier(iterations = i, logging_level='Silent')\n",
    "    auc1 = 0\n",
    "    for train1, test1 in kf.split(train_sc):\n",
    "        X_train, X_test = train_sc.iloc[train1], train_sc.iloc[test1]\n",
    "        y_train, y_test = Y[train1], Y[test1]\n",
    "        X_train_f = X_train.select_dtypes(exclude=['object'])\n",
    "        X_test_f = X_test.select_dtypes(exclude=['object'])        \n",
    "        start = time. time()\n",
    "        \n",
    "        clf1.fit(X_train_f, y_train)\n",
    "        \n",
    "        end = time. time()\n",
    "        precision, recall, _ = precision_recall_curve(y_test, clf1.predict_proba(X_test_f)[:, 1])\n",
    "        print(\"iterations: \", i, 'time: ', end - start)\n",
    "        auc1 += auc(recall, precision)\n",
    "    print(\"iterations: \", i,'pr_auc mean: ', auc1/3)\n",
    "    pr_auc4.append(auc1/3)"
   ]
  },
  {
   "cell_type": "code",
   "execution_count": 42,
   "metadata": {},
   "outputs": [
    {
     "name": "stdout",
     "output_type": "stream",
     "text": [
      "iterations = 700 , pr-auc max = 0.23204182521474567\n"
     ]
    }
   ],
   "source": [
    "print('iterations =', iterations[pr_auc4.index(max(pr_auc4))], ', pr-auc max =', max(pr_auc4))"
   ]
  },
  {
   "cell_type": "code",
   "execution_count": 43,
   "metadata": {
    "scrolled": true
   },
   "outputs": [
    {
     "data": {
      "image/png": "[encoded data removed]",
      "text/plain": [
       "<Figure size 936x648 with 1 Axes>"
      ]
     },
     "metadata": {
      "needs_background": "light"
     },
     "output_type": "display_data"
    }
   ],
   "source": [
    "plt.figure(figsize=(13, 9))\n",
    "plt.plot(iterations, pr_auc4)\n",
    "plt.xlabel('iterations')\n",
    "plt.ylabel('Метрика pr-auc')\n",
    "plt.title('CatBoostClassifer') \n",
    "plt.show()"
   ]
  },
  {
   "cell_type": "markdown",
   "metadata": {},
   "source": [
    "* Темп обучения"
   ]
  },
  {
   "cell_type": "code",
   "execution_count": 46,
   "metadata": {},
   "outputs": [
    {
     "name": "stdout",
     "output_type": "stream",
     "text": [
      "learning_rate:  0.1 time:  142.77208709716797\n",
      "learning_rate:  0.1 time:  131.4117147922516\n",
      "learning_rate:  0.1 time:  132.54869675636292\n",
      "learning_rate:  0.1 pr_auc mean:  0.23117773484763462\n",
      "learning_rate:  0.4 time:  132.77742886543274\n",
      "learning_rate:  0.4 time:  132.61981058120728\n",
      "learning_rate:  0.4 time:  133.2266082763672\n",
      "learning_rate:  0.4 pr_auc mean:  0.19734071948208212\n",
      "learning_rate:  0.7000000000000001 time:  133.95605516433716\n",
      "learning_rate:  0.7000000000000001 time:  134.741375207901\n",
      "learning_rate:  0.7000000000000001 time:  132.90602898597717\n",
      "learning_rate:  0.7000000000000001 pr_auc mean:  0.17141740615600487\n",
      "learning_rate:  1.0000000000000002 time:  142.76162242889404\n",
      "learning_rate:  1.0000000000000002 time:  137.66204071044922\n",
      "learning_rate:  1.0000000000000002 time:  135.00362539291382\n",
      "learning_rate:  1.0000000000000002 pr_auc mean:  0.15267634994727278\n"
     ]
    }
   ],
   "source": [
    "pr_auc5 = []\n",
    "for i in np.arange(0.1,1.1,0.3):\n",
    "    clf1 = CatBoostClassifier(learning_rate = i, logging_level='Silent')\n",
    "    auc1 = 0\n",
    "    for train1, test1 in kf.split(train_sc):\n",
    "        X_train, X_test = train_sc.iloc[train1], train_sc.iloc[test1]\n",
    "        y_train, y_test = Y[train1], Y[test1]\n",
    "        X_train_f = X_train.select_dtypes(exclude=['object'])\n",
    "        X_test_f = X_test.select_dtypes(exclude=['object'])        \n",
    "        start = time. time()\n",
    "        \n",
    "        clf1.fit(X_train_f, y_train)\n",
    "        \n",
    "        end = time. time()\n",
    "        precision, recall, _ = precision_recall_curve(y_test, clf1.predict_proba(X_test_f)[:, 1])\n",
    "        print(\"learning_rate: \", i, 'time: ', end - start)\n",
    "        auc1 += auc(recall, precision)\n",
    "    print(\"learning_rate: \", i,'pr_auc mean: ', auc1/3)\n",
    "    pr_auc5.append(auc1/3)"
   ]
  },
  {
   "cell_type": "code",
   "execution_count": 47,
   "metadata": {},
   "outputs": [
    {
     "name": "stdout",
     "output_type": "stream",
     "text": [
      "learning_rate = 0.1 , pr-auc max = 0.23117773484763462\n"
     ]
    }
   ],
   "source": [
    "print('learning_rate =', (pr_auc5.index(max(pr_auc5)))*0.3 + 0.1, ', pr-auc max =', max(pr_auc5))"
   ]
  },
  {
   "cell_type": "code",
   "execution_count": 48,
   "metadata": {
    "scrolled": true
   },
   "outputs": [
    {
     "data": {
      "image/png": "[encoded data removed]",
      "text/plain": [
       "<Figure size 936x648 with 1 Axes>"
      ]
     },
     "metadata": {
      "needs_background": "light"
     },
     "output_type": "display_data"
    }
   ],
   "source": [
    "plt.figure(figsize=(13, 9))\n",
    "plt.plot(np.arange(0.1,1.1,0.3), pr_auc5)\n",
    "plt.xlabel('learning_rate')\n",
    "plt.ylabel('Метрика pr-auc')\n",
    "plt.title('CatBoostClassifer') \n",
    "plt.show()"
   ]
  },
  {
   "cell_type": "markdown",
   "metadata": {},
   "source": [
    "* Оптимизируемый функционал"
   ]
  },
  {
   "cell_type": "code",
   "execution_count": 49,
   "metadata": {},
   "outputs": [
    {
     "name": "stdout",
     "output_type": "stream",
     "text": [
      "loss_function CrossEntropy time:  139.69121766090393\n",
      "loss_function CrossEntropy time:  124.77061939239502\n",
      "loss_function CrossEntropy time:  124.6954402923584\n",
      "pr_auc mean:  0.23303318257341102\n"
     ]
    }
   ],
   "source": [
    "clf1 = CatBoostClassifier(loss_function = 'CrossEntropy', logging_level='Silent')\n",
    "auc1 = 0\n",
    "for train1, test1 in kf.split(train_sc):\n",
    "    X_train, X_test = train_sc.iloc[train1], train_sc.iloc[test1]\n",
    "    y_train, y_test = Y[train1], Y[test1]\n",
    "    X_train_f = X_train.select_dtypes(exclude=['object'])\n",
    "    X_test_f = X_test.select_dtypes(exclude=['object'])        \n",
    "    start = time. time()\n",
    "\n",
    "    clf1.fit(X_train_f, y_train)\n",
    "\n",
    "    end = time. time()\n",
    "    precision, recall, _ = precision_recall_curve(y_test, clf1.predict_proba(X_test_f)[:, 1])\n",
    "    print(\"loss_function CrossEntropy\", 'time: ', end - start)\n",
    "    auc1 += auc(recall, precision)\n",
    "print('pr_auc mean: ', auc1/3)"
   ]
  },
  {
   "cell_type": "code",
   "execution_count": 50,
   "metadata": {},
   "outputs": [
    {
     "name": "stdout",
     "output_type": "stream",
     "text": [
      "loss_function Logloss time:  124.25177812576294\n",
      "loss_function Logloss time:  124.4301986694336\n",
      "loss_function Logloss time:  123.9781847000122\n",
      "pr_auc mean:  0.23303318257341102\n"
     ]
    }
   ],
   "source": [
    "clf1 = CatBoostClassifier(loss_function = 'Logloss', logging_level='Silent')\n",
    "auc1 = 0\n",
    "for train1, test1 in kf.split(train_sc):\n",
    "    X_train, X_test = train_sc.iloc[train1], train_sc.iloc[test1]\n",
    "    y_train, y_test = Y[train1], Y[test1]\n",
    "    X_train_f = X_train.select_dtypes(exclude=['object'])\n",
    "    X_test_f = X_test.select_dtypes(exclude=['object'])        \n",
    "    start = time. time()\n",
    "\n",
    "    clf1.fit(X_train_f, y_train)\n",
    "\n",
    "    end = time. time()\n",
    "    precision, recall, _ = precision_recall_curve(y_test, clf1.predict_proba(X_test_f)[:, 1])\n",
    "    print(\"loss_function Logloss\", 'time: ', end - start)\n",
    "    auc1 += auc(recall, precision)\n",
    "print('pr_auc mean: ', auc1/3)"
   ]
  },
  {
   "cell_type": "markdown",
   "metadata": {},
   "source": [
    "*Анализ соотношения глубины и количества деревьев в зависимости от алгоритма*\n",
    "\n",
    "Качество при росте глубины для LGBMClassifier сначала возрастает, потом начинает убывать. Растет до 5, максимум при глубине 5, потом медленно убывает.\n",
    "\n",
    "Качество при росте глубины для CatBoostClassifier ведет себя также, но убывает быстрее. Растет до 5, максимум при глубине 5, потом сразу же убывает.\n",
    "\n",
    "Качество при росте количества деревьев для LGBMClassifier резко возрастет до 100 итераций, потом медленно убывает.\n",
    "\n",
    "Качество при росте количества деревьев для CatBoostClassifier резко возрастает до 10, потом медленно возрастает дальше. Чем больше итераций, тем лучше качетво.\n",
    "\n",
    "Для LGBMClassifier качество при увеличении скорости обучения резко падает, затем стабилизируется.\n",
    "\n",
    "Качество CatBoostClassifier при росте скорости ообучения убывает линейно."
   ]
  },
  {
   "cell_type": "markdown",
   "metadata": {},
   "source": [
    "__Задание 4. (3.5 балла)__\n",
    "\n",
    "Добавьте категориальные признаки к вещественным следующими способами:\n",
    "\n",
    "* как OHE признаки;\n",
    "* как счетчики со сглаживанием.\n",
    "\n",
    "При подсчете счетчиков запрещается использование циклов. \n",
    "\n",
    "На получившихся датасетах подберите параметры у каждого из алгоритмов. Как меняется время, необходимое для обучения модели в зависимости от способа кодирования? Сравните полученные результаты с встроенными методами обработки категориальных признаков. "
   ]
  },
  {
   "cell_type": "code",
   "execution_count": 72,
   "metadata": {},
   "outputs": [],
   "source": [
    "one_hot = pd.get_dummies(X_train.select_dtypes(include=['object']))\n",
    "X_train_oh = X_train.select_dtypes(exclude=['object']).join(one_hot)"
   ]
  },
  {
   "cell_type": "code",
   "execution_count": 73,
   "metadata": {},
   "outputs": [],
   "source": [
    "one_hot = pd.get_dummies(X_test.select_dtypes(include=['object']))\n",
    "X_test_oh = X_test.select_dtypes(exclude=['object']).join(one_hot)"
   ]
  },
  {
   "cell_type": "code",
   "execution_count": 14,
   "metadata": {},
   "outputs": [],
   "source": [
    "cat1 = CatBoostClassifier(iterations = 600, depth = 3, learning_rate = 0.1, logging_level='Silent')\n",
    "start = time. time()\n",
    "\n",
    "cat1.fit(X_train_oh, y_train)\n",
    "\n",
    "end = time. time()"
   ]
  },
  {
   "cell_type": "code",
   "execution_count": 15,
   "metadata": {},
   "outputs": [
    {
     "name": "stdout",
     "output_type": "stream",
     "text": [
      "Catboost time:  89.99266695976257\n",
      "Catboost pr-auc:  0.23805788705562583\n"
     ]
    }
   ],
   "source": [
    "print('Catboost time: ', end - start)\n",
    "precision, recall, _ = precision_recall_curve(y_test, cat1.predict_proba(X_test_oh)[:, 1])\n",
    "print('Catboost pr-auc: ', auc(recall, precision))"
   ]
  },
  {
   "cell_type": "code",
   "execution_count": 55,
   "metadata": {
    "scrolled": true
   },
   "outputs": [
    {
     "name": "stdout",
     "output_type": "stream",
     "text": [
      "Catboost time  1 8.980292558670044\n",
      "Catboost pr-auc:  0.11244199949677637\n",
      "Catboost time  5 8.544602632522583\n",
      "Catboost pr-auc:  0.20988137284224956\n",
      "Catboost time  10 9.45065188407898\n",
      "Catboost pr-auc:  0.22960547192696606\n",
      "Catboost time  100 22.96605157852173\n",
      "Catboost pr-auc:  0.23133777241399456\n",
      "Catboost time  200 38.4997820854187\n",
      "Catboost pr-auc:  0.23549658401224097\n",
      "Catboost time  300 50.79506778717041\n",
      "Catboost pr-auc:  0.237724035915973\n",
      "Catboost time  400 67.23851346969604\n",
      "Catboost pr-auc:  0.23984152493231775\n",
      "Catboost time  500 72.59986209869385\n",
      "Catboost pr-auc:  0.2420285049508693\n",
      "Catboost time  600 86.01524138450623\n",
      "Catboost pr-auc:  0.2424715247572366\n",
      "Catboost time  700 97.33136200904846\n",
      "Catboost pr-auc:  0.24161792446898267\n"
     ]
    },
    {
     "data": {
      "image/png": "[encoded data removed]",
      "text/plain": [
       "<Figure size 936x648 with 1 Axes>"
      ]
     },
     "metadata": {
      "needs_background": "light"
     },
     "output_type": "display_data"
    }
   ],
   "source": [
    "iterations = [1, 5, 10, 100, 200, 300, 400, 500, 600, 700]\n",
    "history = []\n",
    "for i in iterations:\n",
    "    clf = CatBoostClassifier(iterations = i, logging_level='Silent')\n",
    "    start = time. time()\n",
    "    clf.fit(X_train_oh, y_train)\n",
    "    end = time. time()\n",
    "    print('Catboost time ', i, end - start)\n",
    "    precision, recall, _ = precision_recall_curve(y_test, clf.predict_proba(X_test_oh)[:, 1])\n",
    "    pr_auc = auc(recall, precision)\n",
    "    print('Catboost pr-auc: ', pr_auc)\n",
    "    history.append(pr_auc)\n",
    "\n",
    "plt.figure(figsize=(13, 9))\n",
    "plt.plot(iterations, history, marker='.')\n",
    "plt.xlabel('Количество итераций')\n",
    "plt.ylabel('Метрика pr-auc')\n",
    "plt.title('CatBoostClassifer')\n",
    "plt.show()"
   ]
  },
  {
   "cell_type": "code",
   "execution_count": 56,
   "metadata": {
    "scrolled": true
   },
   "outputs": [
    {
     "name": "stdout",
     "output_type": "stream",
     "text": [
      "Catboost time  1 87.03520917892456\n",
      "Catboost pr-auc:  0.23212730001477566\n",
      "Catboost time  2 95.34105396270752\n",
      "Catboost pr-auc:  0.24132699376869107\n",
      "Catboost time  3 105.11398077011108\n",
      "Catboost pr-auc:  0.2436305385442916\n",
      "Catboost time  5 124.29198503494263\n",
      "Catboost pr-auc:  0.2431120539258083\n",
      "Catboost time  7 150.2028546333313\n",
      "Catboost pr-auc:  0.24241959735827015\n",
      "Catboost time  9 213.3177261352539\n",
      "Catboost pr-auc:  0.23114128333440456\n"
     ]
    },
    {
     "data": {
      "image/png": "[encoded data removed]",
      "text/plain": [
       "<Figure size 936x648 with 1 Axes>"
      ]
     },
     "metadata": {
      "needs_background": "light"
     },
     "output_type": "display_data"
    }
   ],
   "source": [
    "depth = [1,2,3,5,7,9]\n",
    "history = []\n",
    "for i in depth:\n",
    "    clf = CatBoostClassifier(depth = i, logging_level='Silent')\n",
    "    start = time. time()\n",
    "    clf.fit(X_train_oh, y_train)\n",
    "    end = time. time()\n",
    "    print('Catboost time ', i, end - start)\n",
    "    precision, recall, _ = precision_recall_curve(y_test, clf.predict_proba(X_test_oh)[:, 1])\n",
    "    pr_auc = auc(recall, precision)\n",
    "    print('Catboost pr-auc: ', pr_auc)\n",
    "    history.append(pr_auc)\n",
    "    \n",
    "plt.figure(figsize=(13, 9))\n",
    "plt.plot(depth, history, marker='.')\n",
    "plt.xlabel('Глубина')\n",
    "plt.ylabel('Метрика pr-auc')\n",
    "plt.title('CatBoostClassifer')\n",
    "plt.show()"
   ]
  },
  {
   "cell_type": "code",
   "execution_count": 14,
   "metadata": {
    "scrolled": true
   },
   "outputs": [
    {
     "name": "stdout",
     "output_type": "stream",
     "text": [
      "Catboost time  0.1 155.2595613002777\n",
      "Catboost pr-auc:  0.23762337089538035\n",
      "Catboost time  0.4 143.29426169395447\n",
      "Catboost pr-auc:  0.20096331320418392\n",
      "Catboost time  0.7000000000000001 142.13948893547058\n",
      "Catboost pr-auc:  0.17649065025773653\n",
      "Catboost time  1.0000000000000002 142.37312746047974\n",
      "Catboost pr-auc:  0.1593076536848086\n"
     ]
    },
    {
     "data": {
      "image/png": "[encoded data removed]",
      "text/plain": [
       "<Figure size 936x648 with 1 Axes>"
      ]
     },
     "metadata": {
      "needs_background": "light"
     },
     "output_type": "display_data"
    }
   ],
   "source": [
    "history = []\n",
    "for i in np.arange(0.1,1.1,0.3):\n",
    "    clf = CatBoostClassifier(learning_rate = i, logging_level='Silent')\n",
    "    start = time. time()\n",
    "    clf.fit(X_train_oh, y_train)\n",
    "    end = time. time()\n",
    "    print('Catboost time ', i, end - start)\n",
    "    precision, recall, _ = precision_recall_curve(y_test, clf.predict_proba(X_test_oh)[:, 1])\n",
    "    pr_auc = auc(recall, precision)\n",
    "    print('Catboost pr-auc: ', pr_auc)\n",
    "    history.append(pr_auc)\n",
    "    \n",
    "plt.figure(figsize=(13, 9))\n",
    "plt.plot(np.arange(0.1,1.1,0.3), history, marker='.')\n",
    "plt.xlabel('Скорость обучения')\n",
    "plt.ylabel('Метрика pr-auc')\n",
    "plt.title('CatBoostClassifer')\n",
    "plt.show()"
   ]
  },
  {
   "cell_type": "code",
   "execution_count": 16,
   "metadata": {},
   "outputs": [
    {
     "name": "stdout",
     "output_type": "stream",
     "text": [
      "LGBMClassifier time:  9.62179183959961\n",
      "LGBMClassifier pr-auc:  0.23678678939748904\n"
     ]
    }
   ],
   "source": [
    "lgbm1 = LGBMClassifier(n_estimators = 100, max_depth = 7, learning_rate = 0.1)\n",
    "start = time. time()\n",
    "\n",
    "lgbm1.fit(X_train_oh, y_train)\n",
    "\n",
    "end = time. time()\n",
    "\n",
    "print('LGBMClassifier time: ', end - start)\n",
    "precision, recall, _ = precision_recall_curve(y_test, lgbm1.predict_proba(X_test_oh)[:, 1])\n",
    "print('LGBMClassifier pr-auc: ', auc(recall, precision))"
   ]
  },
  {
   "cell_type": "code",
   "execution_count": 58,
   "metadata": {
    "scrolled": true
   },
   "outputs": [
    {
     "name": "stdout",
     "output_type": "stream",
     "text": [
      "LGBMClassifier time  1 2.3776450157165527\n",
      "LGBMClassifier pr-auc:  0.1955093659203844\n",
      "LGBMClassifier time  5 2.569133996963501\n",
      "LGBMClassifier pr-auc:  0.2090870047720363\n",
      "LGBMClassifier time  10 2.921191692352295\n",
      "LGBMClassifier pr-auc:  0.2193250572950636\n",
      "LGBMClassifier time  100 7.14988899230957\n",
      "LGBMClassifier pr-auc:  0.24002455181738566\n",
      "LGBMClassifier time  200 10.230656862258911\n",
      "LGBMClassifier pr-auc:  0.2389479905426907\n",
      "LGBMClassifier time  300 13.19872498512268\n",
      "LGBMClassifier pr-auc:  0.23782641537387306\n",
      "LGBMClassifier time  400 16.237603902816772\n",
      "LGBMClassifier pr-auc:  0.2354490813102405\n",
      "LGBMClassifier time  500 19.462982892990112\n",
      "LGBMClassifier pr-auc:  0.23394075703296166\n",
      "LGBMClassifier time  600 22.49488139152527\n",
      "LGBMClassifier pr-auc:  0.2327002272900823\n",
      "LGBMClassifier time  700 25.67637848854065\n",
      "LGBMClassifier pr-auc:  0.23134496483368966\n"
     ]
    },
    {
     "data": {
      "image/png": "[encoded data removed]",
      "text/plain": [
       "<Figure size 936x648 with 1 Axes>"
      ]
     },
     "metadata": {
      "needs_background": "light"
     },
     "output_type": "display_data"
    }
   ],
   "source": [
    "iterations = [1, 5, 10, 100, 200, 300, 400, 500, 600, 700]\n",
    "history = []\n",
    "for i in iterations:\n",
    "    clf = LGBMClassifier(n_estimators = i)\n",
    "    start = time. time()\n",
    "    clf.fit(X_train_oh, y_train)\n",
    "    end = time. time()\n",
    "    print('LGBMClassifier time ', i, end - start)\n",
    "    precision, recall, _ = precision_recall_curve(y_test, clf.predict_proba(X_test_oh)[:, 1])\n",
    "    pr_auc = auc(recall, precision)\n",
    "    print('LGBMClassifier pr-auc: ', pr_auc)\n",
    "    history.append(pr_auc)\n",
    "    \n",
    "plt.figure(figsize=(13, 9))\n",
    "plt.plot(iterations, history, marker='.')\n",
    "plt.xlabel('Количество итераций')\n",
    "plt.ylabel('Метрика pr-auc')\n",
    "plt.title('LGBMClassifier')\n",
    "plt.show()"
   ]
  },
  {
   "cell_type": "code",
   "execution_count": 59,
   "metadata": {
    "scrolled": true
   },
   "outputs": [
    {
     "name": "stdout",
     "output_type": "stream",
     "text": [
      "LGBMClassifier time  1 3.8536999225616455\n",
      "LGBMClassifier pr-auc:  0.2044239703291793\n",
      "LGBMClassifier time  2 4.4401328563690186\n",
      "LGBMClassifier pr-auc:  0.2254392750397658\n",
      "LGBMClassifier time  3 4.916856288909912\n",
      "LGBMClassifier pr-auc:  0.2374940167488436\n",
      "LGBMClassifier time  5 6.25627875328064\n",
      "LGBMClassifier pr-auc:  0.24211688993706287\n",
      "LGBMClassifier time  7 7.057135581970215\n",
      "LGBMClassifier pr-auc:  0.24222739081728012\n",
      "LGBMClassifier time  9 7.098027944564819\n",
      "LGBMClassifier pr-auc:  0.24026233064575195\n"
     ]
    },
    {
     "data": {
      "image/png": "[encoded data removed]",
      "text/plain": [
       "<Figure size 936x648 with 1 Axes>"
      ]
     },
     "metadata": {
      "needs_background": "light"
     },
     "output_type": "display_data"
    }
   ],
   "source": [
    "depth = [1,2,3,5,7,9]\n",
    "history = []\n",
    "for i in depth:\n",
    "    clf = LGBMClassifier(max_depth = i)\n",
    "    start = time. time()\n",
    "    clf.fit(X_train_oh, y_train)\n",
    "    end = time. time()\n",
    "    print('LGBMClassifier time ', i, end - start)\n",
    "    precision, recall, _ = precision_recall_curve(y_test, clf.predict_proba(X_test_oh)[:, 1])\n",
    "    pr_auc = auc(recall, precision)\n",
    "    print('LGBMClassifier pr-auc: ', pr_auc)\n",
    "    history.append(pr_auc)\n",
    "    \n",
    "plt.figure(figsize=(13, 9))\n",
    "plt.plot(depth, history, marker='.')\n",
    "plt.xlabel('Глубина')\n",
    "plt.ylabel('Метрика pr-auc')\n",
    "plt.title('LGBMClassifier')\n",
    "plt.show()"
   ]
  },
  {
   "cell_type": "code",
   "execution_count": 15,
   "metadata": {
    "scrolled": true
   },
   "outputs": [
    {
     "name": "stdout",
     "output_type": "stream",
     "text": [
      "LGBMClassifier time  0.1 10.372452020645142\n",
      "LGBMClassifier pr-auc:  0.2365820933226902\n",
      "LGBMClassifier time  0.4 6.555478572845459\n",
      "LGBMClassifier pr-auc:  0.18905752161655962\n",
      "LGBMClassifier time  0.7000000000000001 5.70774507522583\n",
      "LGBMClassifier pr-auc:  0.174626730964965\n",
      "LGBMClassifier time  1.0000000000000002 5.442453622817993\n",
      "LGBMClassifier pr-auc:  0.1809609544547483\n"
     ]
    },
    {
     "data": {
      "image/png": "[encoded data removed]",
      "text/plain": [
       "<Figure size 936x648 with 1 Axes>"
      ]
     },
     "metadata": {
      "needs_background": "light"
     },
     "output_type": "display_data"
    }
   ],
   "source": [
    "history = []\n",
    "for i in np.arange(0.1,1.1,0.3):\n",
    "    clf = LGBMClassifier(learning_rate = i)\n",
    "    start = time. time()\n",
    "    clf.fit(X_train_oh, y_train)\n",
    "    end = time. time()\n",
    "    print('LGBMClassifier time ', i, end - start)\n",
    "    precision, recall, _ = precision_recall_curve(y_test, clf.predict_proba(X_test_oh)[:, 1])\n",
    "    pr_auc = auc(recall, precision)\n",
    "    print('LGBMClassifier pr-auc: ', pr_auc)\n",
    "    history.append(pr_auc)\n",
    "    \n",
    "plt.figure(figsize=(13, 9))\n",
    "plt.plot(np.arange(0.1,1.1,0.3), history, marker='.')\n",
    "plt.xlabel('Скорость обучения')\n",
    "plt.ylabel('Метрика pr-auc')\n",
    "plt.title('LGBMClassifier')\n",
    "plt.show()"
   ]
  },
  {
   "cell_type": "code",
   "execution_count": 17,
   "metadata": {},
   "outputs": [
    {
     "name": "stderr",
     "output_type": "stream",
     "text": [
      "C:\\Users\\Pro18\\Anaconda3\\lib\\site-packages\\ipykernel_launcher.py:6: SettingWithCopyWarning: \n",
      "A value is trying to be set on a copy of a slice from a DataFrame.\n",
      "Try using .loc[row_indexer,col_indexer] = value instead\n",
      "\n",
      "See the caveats in the documentation: http://pandas.pydata.org/pandas-docs/stable/indexing.html#indexing-view-versus-copy\n",
      "  \n"
     ]
    }
   ],
   "source": [
    "X_train_count = X_train\n",
    "for col in list(X_train.loc[:, train.dtypes == 'object']):\n",
    "    u = pd.DataFrame(X_train[col].unique())\n",
    "    v = u.apply(lambda x: 0 if Y[X_train[X_train[col] == x[0]].index].mean() < 0.1 else 1, axis=1)\n",
    "    d = dict(zip(u[0], list(v)))\n",
    "    X_train_count[col] = X_train[col].apply(lambda y: d.get(y))"
   ]
  },
  {
   "cell_type": "code",
   "execution_count": 18,
   "metadata": {
    "scrolled": true
   },
   "outputs": [
    {
     "name": "stderr",
     "output_type": "stream",
     "text": [
      "C:\\Users\\Pro18\\Anaconda3\\lib\\site-packages\\ipykernel_launcher.py:6: SettingWithCopyWarning: \n",
      "A value is trying to be set on a copy of a slice from a DataFrame.\n",
      "Try using .loc[row_indexer,col_indexer] = value instead\n",
      "\n",
      "See the caveats in the documentation: http://pandas.pydata.org/pandas-docs/stable/indexing.html#indexing-view-versus-copy\n",
      "  \n"
     ]
    }
   ],
   "source": [
    "X_test_count = X_test\n",
    "for col in list(X_test.loc[:, train.dtypes == 'object']):\n",
    "    u = pd.DataFrame(X_test[col].unique())\n",
    "    v = u.apply(lambda x: 0 if Y[X_test[X_test[col] == x[0]].index].mean() < 0.1 else 1, axis=1)\n",
    "    d = dict(zip(u[0], list(v)))\n",
    "    X_test_count[col] = X_test[col].apply(lambda y: d.get(y))"
   ]
  },
  {
   "cell_type": "code",
   "execution_count": 19,
   "metadata": {},
   "outputs": [
    {
     "name": "stdout",
     "output_type": "stream",
     "text": [
      "Catboost time:  81.37812042236328\n",
      "Catboost pr-auc:  0.2322029819453011\n"
     ]
    }
   ],
   "source": [
    "cat2 = CatBoostClassifier(iterations = 500, depth = 5, learning_rate = 0.1, logging_level='Silent')\n",
    "start = time. time()\n",
    "\n",
    "cat2.fit(X_train_count, y_train)\n",
    "\n",
    "end = time. time()\n",
    "\n",
    "print('Catboost time: ', end - start)\n",
    "precision, recall, _ = precision_recall_curve(y_test, cat2.predict_proba(X_test_count)[:, 1])\n",
    "print('Catboost pr-auc: ', auc(recall, precision))"
   ]
  },
  {
   "cell_type": "code",
   "execution_count": 72,
   "metadata": {
    "scrolled": true
   },
   "outputs": [
    {
     "name": "stdout",
     "output_type": "stream",
     "text": [
      "Catboost time  1 4.1613805294036865\n",
      "Catboost pr-auc:  0.14826029635119553\n",
      "Catboost time  5 5.033844470977783\n",
      "Catboost pr-auc:  0.21019316659944082\n",
      "Catboost time  10 5.773133277893066\n",
      "Catboost pr-auc:  0.2233241988594207\n",
      "Catboost time  100 18.82650637626648\n",
      "Catboost pr-auc:  0.2308980890762169\n",
      "Catboost time  200 36.01408338546753\n",
      "Catboost pr-auc:  0.2331980082386961\n",
      "Catboost time  300 45.43155765533447\n",
      "Catboost pr-auc:  0.2379262744712586\n",
      "Catboost time  400 63.32756567001343\n",
      "Catboost pr-auc:  0.23803664340506983\n",
      "Catboost time  500 70.78042078018188\n",
      "Catboost pr-auc:  0.24102880168750068\n",
      "Catboost time  600 77.07537984848022\n",
      "Catboost pr-auc:  0.24052945682690716\n",
      "Catboost time  700 93.38395619392395\n",
      "Catboost pr-auc:  0.24001058242443146\n"
     ]
    },
    {
     "data": {
      "image/png": "[encoded data removed]",
      "text/plain": [
       "<Figure size 936x648 with 1 Axes>"
      ]
     },
     "metadata": {
      "needs_background": "light"
     },
     "output_type": "display_data"
    }
   ],
   "source": [
    "iterations = [1, 5, 10, 100, 200, 300, 400, 500, 600, 700]\n",
    "history = []\n",
    "for i in iterations:\n",
    "    clf = CatBoostClassifier(iterations = i, logging_level='Silent')\n",
    "    start = time. time()\n",
    "    clf.fit(X_train_count, y_train)\n",
    "    end = time. time()\n",
    "    print('Catboost time ', i, end - start)\n",
    "    precision, recall, _ = precision_recall_curve(y_test, clf.predict_proba(X_test_count)[:, 1])\n",
    "    pr_auc = auc(recall, precision)\n",
    "    print('Catboost pr-auc: ', pr_auc)\n",
    "    history.append(pr_auc)\n",
    "    \n",
    "plt.figure(figsize=(13, 9))\n",
    "plt.plot(iterations, history, marker='.')\n",
    "plt.xlabel('Количество итераций')\n",
    "plt.ylabel('Метрика pr-auc')\n",
    "plt.title('CatBoostClassifer')\n",
    "plt.show()"
   ]
  },
  {
   "cell_type": "code",
   "execution_count": 64,
   "metadata": {
    "scrolled": true
   },
   "outputs": [
    {
     "name": "stdout",
     "output_type": "stream",
     "text": [
      "Catboost time  1 80.64364838600159\n",
      "Catboost pr-auc:  0.23092176259663416\n",
      "Catboost time  2 89.74372839927673\n",
      "Catboost pr-auc:  0.24181692757481082\n",
      "Catboost time  3 98.94025087356567\n",
      "Catboost pr-auc:  0.24335016197267084\n",
      "Catboost time  5 115.34702944755554\n",
      "Catboost pr-auc:  0.24409451347165773\n",
      "Catboost time  7 141.11555814743042\n",
      "Catboost pr-auc:  0.23903989139978038\n",
      "Catboost time  9 202.757399559021\n",
      "Catboost pr-auc:  0.22900802672762566\n"
     ]
    },
    {
     "data": {
      "image/png": "[encoded data removed]",
      "text/plain": [
       "<Figure size 936x648 with 1 Axes>"
      ]
     },
     "metadata": {
      "needs_background": "light"
     },
     "output_type": "display_data"
    }
   ],
   "source": [
    "depth = [1,2,3,5,7,9]\n",
    "history = []\n",
    "for i in depth:\n",
    "    clf = CatBoostClassifier(depth = i, logging_level='Silent')\n",
    "    start = time. time()\n",
    "    clf.fit(X_train_count, y_train)\n",
    "    end = time. time()\n",
    "    print('Catboost time ', i, end - start)\n",
    "    precision, recall, _ = precision_recall_curve(y_test, clf.predict_proba(X_test_count)[:, 1])\n",
    "    pr_auc = auc(recall, precision)\n",
    "    print('Catboost pr-auc: ', pr_auc)\n",
    "    history.append(pr_auc)\n",
    "    \n",
    "plt.figure(figsize=(13, 9))\n",
    "plt.plot(depth, history, marker='.')\n",
    "plt.xlabel('Глубина')\n",
    "plt.ylabel('Метрика pr-auc')\n",
    "plt.title('CatBoostClassifer')\n",
    "plt.show()"
   ]
  },
  {
   "cell_type": "code",
   "execution_count": 18,
   "metadata": {
    "scrolled": true
   },
   "outputs": [
    {
     "name": "stdout",
     "output_type": "stream",
     "text": [
      "Catboost time  0.1 133.47609424591064\n",
      "Catboost pr-auc:  0.23029235053238006\n",
      "Catboost time  0.4 134.5953049659729\n",
      "Catboost pr-auc:  0.1956238243089278\n",
      "Catboost time  0.7000000000000001 133.1436731815338\n",
      "Catboost pr-auc:  0.17143822264925512\n",
      "Catboost time  1.0000000000000002 133.87492179870605\n",
      "Catboost pr-auc:  0.1516994147930991\n"
     ]
    },
    {
     "data": {
      "image/png": "[encoded data removed]",
      "text/plain": [
       "<Figure size 936x648 with 1 Axes>"
      ]
     },
     "metadata": {
      "needs_background": "light"
     },
     "output_type": "display_data"
    }
   ],
   "source": [
    "history = []\n",
    "for i in np.arange(0.1,1.1,0.3):\n",
    "    clf = CatBoostClassifier(learning_rate = i, logging_level='Silent')\n",
    "    start = time. time()\n",
    "    clf.fit(X_train_count, y_train)\n",
    "    end = time. time()\n",
    "    print('Catboost time ', i, end - start)\n",
    "    precision, recall, _ = precision_recall_curve(y_test, clf.predict_proba(X_test_count)[:, 1])\n",
    "    pr_auc = auc(recall, precision)\n",
    "    print('Catboost pr-auc: ', pr_auc)\n",
    "    history.append(pr_auc)\n",
    "    \n",
    "plt.figure(figsize=(13, 9))\n",
    "plt.plot(np.arange(0.1,1.1,0.3), history, marker='.')\n",
    "plt.xlabel('Скорость обучения')\n",
    "plt.ylabel('Метрика pr-auc')\n",
    "plt.title('CatBoostClassifer')\n",
    "plt.show()"
   ]
  },
  {
   "cell_type": "code",
   "execution_count": 20,
   "metadata": {},
   "outputs": [
    {
     "name": "stdout",
     "output_type": "stream",
     "text": [
      "LGBMClassifier time:  4.904891729354858\n",
      "LGBMClassifier pr-auc:  0.23007555578395772\n"
     ]
    }
   ],
   "source": [
    "lgbm2 = LGBMClassifier(iterations = 100, max_depth = 5, learning_rate = 0.1)\n",
    "start = time. time()\n",
    "\n",
    "lgbm2.fit(X_train_count, y_train)\n",
    "\n",
    "end = time. time()\n",
    "\n",
    "print('LGBMClassifier time: ', end - start)\n",
    "precision, recall, _ = precision_recall_curve(y_test, lgbm2.predict_proba(X_test_count)[:, 1])\n",
    "print('LGBMClassifier pr-auc: ', auc(recall, precision))"
   ]
  },
  {
   "cell_type": "code",
   "execution_count": 66,
   "metadata": {
    "scrolled": true
   },
   "outputs": [
    {
     "name": "stdout",
     "output_type": "stream",
     "text": [
      "LGBMClassifier time  1 1.3354318141937256\n",
      "LGBMClassifier pr-auc:  0.1940244938148203\n",
      "LGBMClassifier time  5 1.529909610748291\n",
      "LGBMClassifier pr-auc:  0.2057776251980355\n",
      "LGBMClassifier time  10 1.8231277465820312\n",
      "LGBMClassifier pr-auc:  0.2168800576343084\n",
      "LGBMClassifier time  100 5.100370407104492\n",
      "LGBMClassifier pr-auc:  0.2374437743513321\n",
      "LGBMClassifier time  200 7.54582667350769\n",
      "LGBMClassifier pr-auc:  0.23671723338019926\n",
      "LGBMClassifier time  300 9.78385043144226\n",
      "LGBMClassifier pr-auc:  0.23524487437245245\n",
      "LGBMClassifier time  400 12.14055347442627\n",
      "LGBMClassifier pr-auc:  0.23441160341927836\n",
      "LGBMClassifier time  500 15.033819675445557\n",
      "LGBMClassifier pr-auc:  0.2325720322143084\n",
      "LGBMClassifier time  600 17.07037878036499\n",
      "LGBMClassifier pr-auc:  0.23132028226774834\n",
      "LGBMClassifier time  700 19.364247798919678\n",
      "LGBMClassifier pr-auc:  0.23035239330914087\n"
     ]
    },
    {
     "data": {
      "image/png": "[encoded data removed]",
      "text/plain": [
       "<Figure size 936x648 with 1 Axes>"
      ]
     },
     "metadata": {
      "needs_background": "light"
     },
     "output_type": "display_data"
    }
   ],
   "source": [
    "iterations = [1, 5, 10, 100, 200, 300, 400, 500, 600, 700]\n",
    "history = []\n",
    "for i in iterations:\n",
    "    clf = LGBMClassifier(n_estimators = i)\n",
    "    start = time. time()\n",
    "    clf.fit(X_train_count, y_train)\n",
    "    end = time. time()\n",
    "    print('LGBMClassifier time ', i, end - start)\n",
    "    precision, recall, _ = precision_recall_curve(y_test, clf.predict_proba(X_test_count)[:, 1])\n",
    "    pr_auc = auc(recall, precision)\n",
    "    print('LGBMClassifier pr-auc: ', pr_auc)\n",
    "    history.append(pr_auc)\n",
    "    \n",
    "plt.figure(figsize=(13, 9))\n",
    "plt.plot(iterations, history, marker='.')\n",
    "plt.xlabel('Количество итераций')\n",
    "plt.ylabel('Метрика pr-auc')\n",
    "plt.title('LGBMClassifier')\n",
    "plt.show()"
   ]
  },
  {
   "cell_type": "code",
   "execution_count": 67,
   "metadata": {
    "scrolled": true
   },
   "outputs": [
    {
     "name": "stdout",
     "output_type": "stream",
     "text": [
      "LGBMClassifier time  1 2.58309268951416\n",
      "LGBMClassifier pr-auc:  0.20367660608020366\n",
      "LGBMClassifier time  2 3.0029730796813965\n",
      "LGBMClassifier pr-auc:  0.2262863097072011\n",
      "LGBMClassifier time  3 3.585416316986084\n",
      "LGBMClassifier pr-auc:  0.23673567879735966\n",
      "LGBMClassifier time  5 4.618654727935791\n",
      "LGBMClassifier pr-auc:  0.24028598188645497\n",
      "LGBMClassifier time  7 5.300833225250244\n",
      "LGBMClassifier pr-auc:  0.2389505237203768\n",
      "LGBMClassifier time  9 5.0445170402526855\n",
      "LGBMClassifier pr-auc:  0.23654629739437358\n"
     ]
    },
    {
     "data": {
      "image/png": "[encoded data removed]",
      "text/plain": [
       "<Figure size 936x648 with 1 Axes>"
      ]
     },
     "metadata": {
      "needs_background": "light"
     },
     "output_type": "display_data"
    }
   ],
   "source": [
    "depth = [1,2,3,5,7,9]\n",
    "history = []\n",
    "for i in depth:\n",
    "    clf = LGBMClassifier(max_depth = i)\n",
    "    start = time. time()\n",
    "    clf.fit(X_train_count, y_train)\n",
    "    end = time. time()\n",
    "    print('LGBMClassifier time ', i, end - start)\n",
    "    precision, recall, _ = precision_recall_curve(y_test, clf.predict_proba(X_test_count)[:, 1])\n",
    "    pr_auc = auc(recall, precision)\n",
    "    print('LGBMClassifier pr-auc: ', pr_auc)\n",
    "    history.append(pr_auc)\n",
    "    \n",
    "plt.figure(figsize=(13, 9))\n",
    "plt.plot(depth, history, marker='.')\n",
    "plt.xlabel('Глубина')\n",
    "plt.ylabel('Метрика pr-auc')\n",
    "plt.title('LGBMClassifier')\n",
    "plt.show()"
   ]
  },
  {
   "cell_type": "code",
   "execution_count": 19,
   "metadata": {
    "scrolled": true
   },
   "outputs": [
    {
     "name": "stdout",
     "output_type": "stream",
     "text": [
      "LGBMClassifier time  0.1 5.653685808181763\n",
      "LGBMClassifier pr-auc:  0.22914623022517225\n",
      "LGBMClassifier time  0.4 4.308482646942139\n",
      "LGBMClassifier pr-auc:  0.18677177272448436\n",
      "LGBMClassifier time  0.7000000000000001 4.044191598892212\n",
      "LGBMClassifier pr-auc:  0.1734917618559938\n",
      "LGBMClassifier time  1.0000000000000002 3.802835464477539\n",
      "LGBMClassifier pr-auc:  0.17613548878047786\n"
     ]
    },
    {
     "data": {
      "image/png": "[encoded data removed]",
      "text/plain": [
       "<Figure size 936x648 with 1 Axes>"
      ]
     },
     "metadata": {
      "needs_background": "light"
     },
     "output_type": "display_data"
    }
   ],
   "source": [
    "history = []\n",
    "for i in np.arange(0.1,1.1,0.3):\n",
    "    clf = LGBMClassifier(learning_rate = i)\n",
    "    start = time. time()\n",
    "    clf.fit(X_train_count, y_train)\n",
    "    end = time. time()\n",
    "    print('LGBMClassifier time ', i, end - start)\n",
    "    precision, recall, _ = precision_recall_curve(y_test, clf.predict_proba(X_test_count)[:, 1])\n",
    "    pr_auc = auc(recall, precision)\n",
    "    print('LGBMClassifier pr-auc: ', pr_auc)\n",
    "    history.append(pr_auc)\n",
    "    \n",
    "plt.figure(figsize=(13, 9))\n",
    "plt.plot(np.arange(0.1,1.1,0.3), history, marker='.')\n",
    "plt.xlabel('Скорость обучения')\n",
    "plt.ylabel('Метрика pr-auc')\n",
    "plt.title('LGBMClassifier')\n",
    "plt.show()"
   ]
  },
  {
   "cell_type": "markdown",
   "metadata": {},
   "source": [
    "При использовании счетчиков со сглаживанием время обучения заметно ниже. Это обусловлено тем, что при OHE заметно увеличивется количество признаков."
   ]
  },
  {
   "cell_type": "markdown",
   "metadata": {},
   "source": [
    "*Встроенные методы обработки*"
   ]
  },
  {
   "cell_type": "code",
   "execution_count": 86,
   "metadata": {},
   "outputs": [
    {
     "name": "stdout",
     "output_type": "stream",
     "text": [
      "Catboost time:  396.62772130966187\n",
      "Catboost pr-auc:  0.22778210213482905\n"
     ]
    }
   ],
   "source": [
    "cat_auto = CatBoostClassifier(iterations = 500, depth = 5, learning_rate = 0.1, logging_level='Silent')\n",
    "\n",
    "start = time. time()\n",
    "\n",
    "cat_auto.fit(X_train, y_train, cat_features= np.where(X_train.dtypes != np.float)[0])\n",
    "end = time. time()\n",
    "\n",
    "print('Catboost time: ', end - start)\n",
    "precision, recall, _ = precision_recall_curve(y_test, cat_auto.predict_proba(X_test)[:, 1])\n",
    "print('Catboost pr-auc: ', auc(recall, precision))"
   ]
  },
  {
   "cell_type": "code",
   "execution_count": 77,
   "metadata": {},
   "outputs": [
    {
     "name": "stderr",
     "output_type": "stream",
     "text": [
      "C:\\Users\\Pro18\\Anaconda3\\lib\\site-packages\\ipykernel_launcher.py:4: SettingWithCopyWarning: \n",
      "A value is trying to be set on a copy of a slice from a DataFrame.\n",
      "Try using .loc[row_indexer,col_indexer] = value instead\n",
      "\n",
      "See the caveats in the documentation: http://pandas.pydata.org/pandas-docs/stable/indexing.html#indexing-view-versus-copy\n",
      "  after removing the cwd from sys.path.\n",
      "C:\\Users\\Pro18\\Anaconda3\\lib\\site-packages\\ipykernel_launcher.py:5: SettingWithCopyWarning: \n",
      "A value is trying to be set on a copy of a slice from a DataFrame.\n",
      "Try using .loc[row_indexer,col_indexer] = value instead\n",
      "\n",
      "See the caveats in the documentation: http://pandas.pydata.org/pandas-docs/stable/indexing.html#indexing-view-versus-copy\n",
      "  \"\"\"\n"
     ]
    }
   ],
   "source": [
    "LGBM_train = X_train\n",
    "LGBM_test = X_test\n",
    "for col in list(LGBM_train.select_dtypes(include=['object'])):\n",
    "    LGBM_train[col] = LGBM_train[col].astype('category')\n",
    "    LGBM_test[col] = LGBM_test[col].astype('category')"
   ]
  },
  {
   "cell_type": "code",
   "execution_count": 84,
   "metadata": {},
   "outputs": [
    {
     "name": "stdout",
     "output_type": "stream",
     "text": [
      "LGBMClassifier time:  5.870309829711914\n",
      "LGBMClassifier pr-auc:  0.23379581842572655\n"
     ]
    }
   ],
   "source": [
    "lgbm_auto = LGBMClassifier(iterations = 100, max_depth = 5, learning_rate = 0.1)\n",
    "start = time. time()\n",
    "\n",
    "lgbm_auto.fit(LGBM_train, y_train)\n",
    "\n",
    "end = time. time()\n",
    "\n",
    "print('LGBMClassifier time: ', end - start)\n",
    "precision, recall, _ = precision_recall_curve(y_test, lgbm_auto.predict_proba(LGBM_test)[:, 1])\n",
    "print('LGBMClassifier pr-auc: ', auc(recall, precision))"
   ]
  },
  {
   "cell_type": "markdown",
   "metadata": {},
   "source": [
    "Качество у встроенных LGBMClassifier выше, чем у Catboost.\n",
    "В сравнении с реализованными OHE и счетчиками со сглаживанием встроенный Catboost проигрывает в качестве. У LGBMClassifier качество примерно то же."
   ]
  },
  {
   "cell_type": "markdown",
   "metadata": {},
   "source": [
    "__Задание 5. (1 балл)__\n",
    "\n",
    "Реализуйте блендинг (получение ответов нескольких моделей и взятие их с весами (их нужно подбирать на обучающей выборке)) подобранных в предыдущем задании моделей и сравните качество."
   ]
  },
  {
   "cell_type": "code",
   "execution_count": 45,
   "metadata": {},
   "outputs": [],
   "source": [
    "X_train_blend_oh, X_test_blend_oh, y_train_blend_oh, y_test_blend_oh = train_test_split(X_train_oh, y_train, random_state=0, test_size=0.5)"
   ]
  },
  {
   "cell_type": "code",
   "execution_count": 46,
   "metadata": {},
   "outputs": [
    {
     "name": "stdout",
     "output_type": "stream",
     "text": [
      "Catboost time:  45.56241965293884\n",
      "Catboost pr-auc:  0.24239322336358368\n"
     ]
    }
   ],
   "source": [
    "cat1 = CatBoostClassifier(iterations = 600, depth = 3, learning_rate = 0.1, logging_level='Silent')\n",
    "start = time. time()\n",
    "\n",
    "cat1.fit(X_train_blend_oh, y_train_blend_oh)\n",
    "\n",
    "end = time. time()\n",
    "\n",
    "print('Catboost time: ', end - start)\n",
    "precision, recall, _ = precision_recall_curve(y_test_blend_oh, cat1.predict_proba(X_test_blend_oh)[:, 1])\n",
    "print('Catboost pr-auc: ', auc(recall, precision))"
   ]
  },
  {
   "cell_type": "code",
   "execution_count": 47,
   "metadata": {},
   "outputs": [
    {
     "name": "stdout",
     "output_type": "stream",
     "text": [
      "LGBMClassifier time:  4.170849800109863\n",
      "LGBMClassifier pr-auc:  0.23686897817760189\n"
     ]
    }
   ],
   "source": [
    "lgbm1 = LGBMClassifier(n_estimators = 100, max_depth = 7, learning_rate = 0.1)\n",
    "start = time. time()\n",
    "\n",
    "lgbm1.fit(X_train_blend_oh, y_train_blend_oh)\n",
    "\n",
    "end = time. time()\n",
    "\n",
    "print('LGBMClassifier time: ', end - start)\n",
    "precision, recall, _ = precision_recall_curve(y_test_blend_oh, lgbm1.predict_proba(X_test_blend_oh)[:, 1])\n",
    "print('LGBMClassifier pr-auc: ', auc(recall, precision))"
   ]
  },
  {
   "cell_type": "code",
   "execution_count": 48,
   "metadata": {},
   "outputs": [],
   "source": [
    "X_train_blend_c, X_test_blend_c, y_train_blend_c, y_test_blend_c = train_test_split(X_train_count, y_train, random_state=0, test_size=0.5)"
   ]
  },
  {
   "cell_type": "code",
   "execution_count": 49,
   "metadata": {},
   "outputs": [
    {
     "name": "stdout",
     "output_type": "stream",
     "text": [
      "Catboost time:  44.98482131958008\n",
      "Catboost pr-auc:  0.23920152548694704\n"
     ]
    }
   ],
   "source": [
    "cat2 = CatBoostClassifier(iterations = 500, depth = 5, learning_rate = 0.1, logging_level='Silent')\n",
    "start = time. time()\n",
    "\n",
    "cat2.fit(X_train_blend_c, y_train_blend_c)\n",
    "\n",
    "end = time. time()\n",
    "\n",
    "print('Catboost time: ', end - start)\n",
    "precision, recall, _ = precision_recall_curve(y_test_blend_c, cat2.predict_proba(X_test_blend_c)[:, 1])\n",
    "print('Catboost pr-auc: ', auc(recall, precision))"
   ]
  },
  {
   "cell_type": "code",
   "execution_count": 50,
   "metadata": {},
   "outputs": [
    {
     "name": "stdout",
     "output_type": "stream",
     "text": [
      "LGBMClassifier time:  3.613332748413086\n",
      "LGBMClassifier pr-auc:  0.23478260834715617\n"
     ]
    }
   ],
   "source": [
    "lgbm2 = LGBMClassifier(iterations = 100, max_depth = 5, learning_rate = 0.1)\n",
    "start = time. time()\n",
    "\n",
    "lgbm2.fit(X_train_blend_c, y_train_blend_c)\n",
    "\n",
    "end = time. time()\n",
    "\n",
    "print('LGBMClassifier time: ', end - start)\n",
    "precision, recall, _ = precision_recall_curve(y_test_blend_c, lgbm2.predict_proba(X_test_blend_c)[:, 1])\n",
    "print('LGBMClassifier pr-auc: ', auc(recall, precision))"
   ]
  },
  {
   "cell_type": "code",
   "execution_count": 51,
   "metadata": {},
   "outputs": [],
   "source": [
    "df_train = pd.DataFrame()\n",
    "df_train['catboost ohe'] = cat1.predict_proba(X_test_blend_oh)[:, 1]\n",
    "df_train['lightgbm ohe'] = lgbm1.predict_proba(X_test_blend_oh)[:, 1]\n",
    "df_train['catboost counters'] = cat2.predict_proba(X_test_blend_c)[:, 1]\n",
    "df_train['lightgbm counters'] = lgbm2.predict_proba(X_test_blend_c)[:, 1]"
   ]
  },
  {
   "cell_type": "code",
   "execution_count": 52,
   "metadata": {},
   "outputs": [],
   "source": [
    "df_test = pd.DataFrame()\n",
    "df_test['catboost ohe'] = cat1.predict_proba(X_test_oh)[:, 1]\n",
    "df_test['lightgbm ohe'] = lgbm1.predict_proba(X_test_oh)[:, 1]\n",
    "df_test['catboost counters'] = cat2.predict_proba(X_test_count)[:, 1]\n",
    "df_test['lightgbm counters'] = lgbm2.predict_proba(X_test_count)[:, 1]"
   ]
  },
  {
   "cell_type": "code",
   "execution_count": 55,
   "metadata": {},
   "outputs": [
    {
     "data": {
      "text/plain": [
       "array([0.48276585, 0.26749432, 0.31322565, 0.00107666])"
      ]
     },
     "execution_count": 55,
     "metadata": {},
     "output_type": "execute_result"
    }
   ],
   "source": [
    "from sklearn.linear_model import LinearRegression\n",
    "lr = LinearRegression()\n",
    "lr.fit(df_train,y_test_blend_oh)\n",
    "lr.coef_"
   ]
  },
  {
   "cell_type": "code",
   "execution_count": 54,
   "metadata": {},
   "outputs": [
    {
     "name": "stdout",
     "output_type": "stream",
     "text": [
      "Blending models pr-auc:  0.23438526072869395\n"
     ]
    }
   ],
   "source": [
    "precision, recall, _ = precision_recall_curve(y_test, lr.predict(df_test))\n",
    "print('Blending models pr-auc: ', auc(recall, precision))"
   ]
  },
  {
   "cell_type": "code",
   "execution_count": 62,
   "metadata": {},
   "outputs": [
    {
     "data": {
      "text/plain": [
       "array([0.2209972 , 0.037033  , 0.09123943, ..., 0.05387437, 0.03316007,\n",
       "       0.06776965])"
      ]
     },
     "execution_count": 62,
     "metadata": {},
     "output_type": "execute_result"
    }
   ],
   "source": [
    "blending = np.sum(lr.coef_ * df_test.values, axis = 1)\n",
    "blending"
   ]
  },
  {
   "cell_type": "markdown",
   "metadata": {},
   "source": [
    "Качество получилось немного хуже. Это можно объяснить тем, что модели дают правильные ответы в разных местах."
   ]
  },
  {
   "cell_type": "markdown",
   "metadata": {},
   "source": [
    "__Задание 6. (1.5 балла)__\n",
    "\n",
    "В задании 3 вы подобрали гиперпараметры для LightGBM и CatBoost на вещественных признаках. Визуализируйте важности признаков, посчитанные этими алгоритмами, в виде горизонтального bar-plot (отсортируйте признаки по убыванию важности, подпишите названия признаков по оси y).\n",
    "\n",
    "Для каждого из двух алгоритмов удалите неважные признаки (обычно по bar-plot хорошо видно порог на важность, с которого начинается хвост неважных признаков) и обучите ту же модель на получившихся данных. Сильно ли упало качество при удалении признаков, которые модель считает неважными?"
   ]
  },
  {
   "cell_type": "code",
   "execution_count": 36,
   "metadata": {},
   "outputs": [
    {
     "name": "stdout",
     "output_type": "stream",
     "text": [
      "LGBMClassifier time:  6.05182409286499\n"
     ]
    },
    {
     "data": {
      "text/plain": [
       "0.22927049661972454"
      ]
     },
     "execution_count": 36,
     "metadata": {},
     "output_type": "execute_result"
    }
   ],
   "source": [
    "lgbm_clf = LGBMClassifier(max_depth = 5, \n",
    "                          n_estimators = 100, \n",
    "                          learning_rate = 0.1)\n",
    "start = time. time()\n",
    "lgbm_clf.fit(X_train_f, y_train)\n",
    "end = time. time()\n",
    "print('LGBMClassifier time: ', end - start)\n",
    "precision, recall, _ = precision_recall_curve(y_test, lgbm_clf.predict_proba(X_test_f)[:, 1])\n",
    "auc(recall, precision)"
   ]
  },
  {
   "cell_type": "code",
   "execution_count": 37,
   "metadata": {
    "scrolled": true
   },
   "outputs": [
    {
     "name": "stdout",
     "output_type": "stream",
     "text": [
      "CatBoostClassifier time:  101.03720903396606\n"
     ]
    },
    {
     "data": {
      "text/plain": [
       "0.23221399643112842"
      ]
     },
     "execution_count": 37,
     "metadata": {},
     "output_type": "execute_result"
    }
   ],
   "source": [
    "cat_clf = CatBoostClassifier(depth = 5, \n",
    "                          iterations = 700, \n",
    "                          learning_rate = 0.1, \n",
    "                          logging_level='Silent')\n",
    "start = time. time()\n",
    "cat_clf.fit(X_train_f, y_train)\n",
    "end = time. time()\n",
    "print('CatBoostClassifier time: ', end - start)\n",
    "precision, recall, _ = precision_recall_curve(y_test, cat_clf.predict_proba(X_test_f)[:, 1])\n",
    "auc(recall, precision)"
   ]
  },
  {
   "cell_type": "code",
   "execution_count": 38,
   "metadata": {
    "scrolled": true
   },
   "outputs": [
    {
     "data": {
      "text/plain": [
       "Text(0.5, 0, 'lgbm importance')"
      ]
     },
     "execution_count": 38,
     "metadata": {},
     "output_type": "execute_result"
    },
    {
     "data": {
      "image/png": "[encoded data removed]",
      "text/plain": [
       "<Figure size 1152x576 with 1 Axes>"
      ]
     },
     "metadata": {
      "needs_background": "light"
     },
     "output_type": "display_data"
    }
   ],
   "source": [
    "fig = plt.figure(figsize=(16,8))\n",
    "importances_sort = np.argsort(lgbm_clf.feature_importances_)\n",
    "ind1 = list(X_train_f)\n",
    "ind1 = [ind1[i] for i in importances_sort]\n",
    "plt.barh(ind1, lgbm_clf.feature_importances_[importances_sort])\n",
    "plt.xlabel('lgbm importance', fontsize=20)"
   ]
  },
  {
   "cell_type": "code",
   "execution_count": 39,
   "metadata": {
    "scrolled": true
   },
   "outputs": [
    {
     "data": {
      "text/plain": [
       "Text(0.5, 0, 'cat importance')"
      ]
     },
     "execution_count": 39,
     "metadata": {},
     "output_type": "execute_result"
    },
    {
     "data": {
      "image/png": "[encoded data removed]",
      "text/plain": [
       "<Figure size 1152x576 with 1 Axes>"
      ]
     },
     "metadata": {
      "needs_background": "light"
     },
     "output_type": "display_data"
    }
   ],
   "source": [
    "fig = plt.figure(figsize=(16,8))\n",
    "importances_sort = np.argsort(cat_clf.feature_importances_)\n",
    "ind2 = list(X_train_f)\n",
    "ind2 = [ind2[i] for i in importances_sort]\n",
    "plt.barh(ind2, cat_clf.feature_importances_[importances_sort])\n",
    "plt.xlabel('cat importance', fontsize=20)"
   ]
  },
  {
   "cell_type": "code",
   "execution_count": 46,
   "metadata": {},
   "outputs": [],
   "source": [
    "lgbm_feat = ind1[-12:]\n",
    "X_train_lgbm = X_train_f[lgbm_feat]\n",
    "X_test_lgbm = X_test_f[lgbm_feat]"
   ]
  },
  {
   "cell_type": "code",
   "execution_count": 47,
   "metadata": {},
   "outputs": [],
   "source": [
    "cat_feat = ind2[-15:]\n",
    "X_train_cat = X_train_f[cat_feat]\n",
    "X_test_cat = X_test_f[cat_feat]"
   ]
  },
  {
   "cell_type": "code",
   "execution_count": 49,
   "metadata": {},
   "outputs": [
    {
     "name": "stdout",
     "output_type": "stream",
     "text": [
      "LGBMClassifier time:  2.221052885055542\n"
     ]
    },
    {
     "data": {
      "text/plain": [
       "0.2275442150172889"
      ]
     },
     "execution_count": 49,
     "metadata": {},
     "output_type": "execute_result"
    }
   ],
   "source": [
    "start = time. time()\n",
    "lgbm_clf.fit(X_train_lgbm, y_train)\n",
    "end = time. time()\n",
    "print('LGBMClassifier time: ', end - start)\n",
    "precision1, recall1, _ = precision_recall_curve(y_test, lgbm_clf.predict_proba(X_test_lgbm)[:, 1])\n",
    "auc(recall1, precision1)"
   ]
  },
  {
   "cell_type": "code",
   "execution_count": 50,
   "metadata": {},
   "outputs": [
    {
     "name": "stdout",
     "output_type": "stream",
     "text": [
      "CatBoostClassifier time:  89.54234266281128\n"
     ]
    },
    {
     "data": {
      "text/plain": [
       "0.22881452067675556"
      ]
     },
     "execution_count": 50,
     "metadata": {},
     "output_type": "execute_result"
    }
   ],
   "source": [
    "start = time. time()\n",
    "cat_clf.fit(X_train_cat, y_train)\n",
    "end = time. time()\n",
    "print('CatBoostClassifier time: ', end - start)\n",
    "precision2, recall2, _ = precision_recall_curve(y_test, cat_clf.predict_proba(X_test_cat)[:, 1])\n",
    "auc(recall2, precision2)"
   ]
  },
  {
   "cell_type": "markdown",
   "metadata": {},
   "source": [
    "Качество упало для LGBMClassifier на 0.002, а в CatBoostClassifier на 0.003."
   ]
  },
  {
   "cell_type": "markdown",
   "metadata": {},
   "source": [
    "__Задание 7. (0.001 балла)__\n",
    "\n",
    "Приложите ссылку на любимое короткое видео на YouTube, чтобы поднять проверяющему настроение."
   ]
  },
  {
   "cell_type": "markdown",
   "metadata": {},
   "source": [
    "https://www.youtube.com/watch?v=VRraKdjnzhM"
   ]
  }
 ],
 "metadata": {
  "kernelspec": {
   "display_name": "Python 3",
   "language": "python",
   "name": "python3"
  },
  "language_info": {
   "codemirror_mode": {
    "name": "ipython",
    "version": 3
   },
   "file_extension": ".py",
   "mimetype": "text/x-python",
   "name": "python",
   "nbconvert_exporter": "python",
   "pygments_lexer": "ipython3",
   "version": "3.7.1"
  }
 },
 "nbformat": 4,
 "nbformat_minor": 2
}

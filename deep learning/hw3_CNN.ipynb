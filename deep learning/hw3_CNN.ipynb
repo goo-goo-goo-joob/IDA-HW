{
 "cells": [
  {
   "cell_type": "markdown",
   "metadata": {
    "colab_type": "text",
    "id": "gO2BchskQWoH"
   },
   "source": [
    "# Домашнее задание 3.\n",
    "\n",
    "`Keras` и сверточные нейронные сети."
   ]
  },
  {
   "cell_type": "code",
   "execution_count": 0,
   "metadata": {
    "colab": {
     "base_uri": "https://localhost:8080/",
     "height": 51
    },
    "colab_type": "code",
    "id": "WmIuIaLEATMn",
    "outputId": "b1a5adbc-b6be-4dd5-d28b-81ab2ecd5a00"
   },
   "outputs": [
    {
     "name": "stdout",
     "output_type": "stream",
     "text": [
      "1.15.0\n",
      "2.2.5\n"
     ]
    }
   ],
   "source": [
    "import tensorflow as tf\n",
    "import keras\n",
    "from keras import backend as K\n",
    "import numpy as np\n",
    "%matplotlib inline\n",
    "import matplotlib.pyplot as plt\n",
    "print(tf.__version__)\n",
    "print(keras.__version__)"
   ]
  },
  {
   "cell_type": "code",
   "execution_count": 0,
   "metadata": {
    "colab": {},
    "colab_type": "code",
    "id": "efsrp4vQfls5"
   },
   "outputs": [],
   "source": [
    "def reset_tf_session():\n",
    "    curr_session = tf.get_default_session()\n",
    "    if curr_session is not None:\n",
    "        curr_session.close()\n",
    "    K.clear_session()\n",
    "    config = tf.ConfigProto()\n",
    "    config.gpu_options.allow_growth = True\n",
    "    s = tf.InteractiveSession(config=config)\n",
    "    K.set_session(s)\n",
    "    return s"
   ]
  },
  {
   "cell_type": "markdown",
   "metadata": {
    "colab_type": "text",
    "id": "HE_SpMQMQm8Y"
   },
   "source": [
    "## Задание 1 — инициализация весов CNN (3 балла).\n",
    "\n",
    "В этом задании нужно будет исследовать, как выбор функции инициализации весов влияет на обучение CNN.\n"
   ]
  },
  {
   "cell_type": "markdown",
   "metadata": {
    "colab_type": "text",
    "id": "oIoAOXkJSwbs"
   },
   "source": [
    "Продолжим работать с датасетом CIFAR-10."
   ]
  },
  {
   "cell_type": "code",
   "execution_count": 0,
   "metadata": {
    "colab": {
     "base_uri": "https://localhost:8080/",
     "height": 85
    },
    "colab_type": "code",
    "id": "IsuA4kiHA4ff",
    "outputId": "114ceb5c-0bc0-4448-9eb7-24eac440d9cb"
   },
   "outputs": [
    {
     "name": "stdout",
     "output_type": "stream",
     "text": [
      "Downloading data from https://www.cs.toronto.edu/~kriz/cifar-10-python.tar.gz\n",
      "170500096/170498071 [==============================] - 4s 0us/step\n",
      "Train samples: (50000, 32, 32, 3) (50000, 1)\n",
      "Test samples: (10000, 32, 32, 3) (10000, 1)\n"
     ]
    }
   ],
   "source": [
    "from keras.datasets import cifar10\n",
    "(x_train, y_train), (x_test, y_test) = cifar10.load_data()\n",
    "\n",
    "NUM_CLASSES = 10\n",
    "cifar10_classes = [\"airplane\", \"automobile\", \"bird\", \"cat\", \"deer\", \n",
    "                   \"dog\", \"frog\", \"horse\", \"ship\", \"truck\"]\n",
    "\n",
    "print(\"Train samples:\", x_train.shape, y_train.shape)\n",
    "print(\"Test samples:\", x_test.shape, y_test.shape)\n",
    "\n",
    "# нормализуем входные данные\n",
    "x_train = x_train / 255 - 0.5\n",
    "x_test = x_test / 255 - 0.5\n",
    "\n",
    "y_train = keras.utils.to_categorical(y_train, 10)\n",
    "y_test = keras.utils.to_categorical(y_test, 10)"
   ]
  },
  {
   "cell_type": "code",
   "execution_count": 0,
   "metadata": {
    "colab": {},
    "colab_type": "code",
    "id": "xNl2e8LeftcC"
   },
   "outputs": [],
   "source": [
    "from keras.models import Sequential\n",
    "from keras.layers import Conv2D, MaxPooling2D, Flatten, Dense, Activation, Dropout\n",
    "from keras.layers.advanced_activations import LeakyReLU\n",
    "from keras.models import load_model"
   ]
  },
  {
   "cell_type": "markdown",
   "metadata": {
    "colab_type": "text",
    "id": "f2vQIUE3UeiE"
   },
   "source": [
    "Определим функцию `fit_model` с архитектурой архитектура CNN.\n",
    "\n",
    "Метод `model.fit` возвращает объект класса `keras.callbacks.History()` — это колбэк, который автоматически применяется ко всем моделям и логирует много чего полезного. В частности логируются значения функции потерь на каждой итерации."
   ]
  },
  {
   "cell_type": "markdown",
   "metadata": {
    "colab_type": "text",
    "id": "dDslR6vNZry8"
   },
   "source": [
    "**Задание 1.1** (0.5 балла) Добавьте в архитектуру модели инициализацию весов для тех слоев, где она необходима.\n"
   ]
  },
  {
   "cell_type": "code",
   "execution_count": 0,
   "metadata": {
    "colab": {},
    "colab_type": "code",
    "id": "2_Lu7SO3CMid"
   },
   "outputs": [],
   "source": [
    "def fit_model(initializer='glorot_normal'):\n",
    "    s = reset_tf_session()  \n",
    "    INIT_LR = 5e-3\n",
    "    BATCH_SIZE = 32\n",
    "    EPOCHS = 10\n",
    "   \n",
    "    def lr_scheduler(epoch):\n",
    "        return INIT_LR * 0.9 ** epoch  \n",
    "\n",
    "    ### YOUR CODE HERE \n",
    "    # kernel_initializer=initializer для тех слоев, которым нужна инициализация весов\n",
    "    model = Sequential()\n",
    "    model.add(Conv2D(filters=16, padding='same', kernel_size=(3,3), input_shape=(32,32,3), kernel_initializer=initializer )) ###\n",
    "    model.add(LeakyReLU(0.1))\n",
    "    model.add(Conv2D(filters=64, padding='same', kernel_size=(3,3), kernel_initializer=initializer)) ### \n",
    "    model.add(LeakyReLU(0.1))\n",
    "    model.add(MaxPooling2D(pool_size=(2,2), padding='same'))\n",
    "    model.add(Dropout(0.25))\n",
    "    model.add(Flatten())\n",
    "    model.add(Dense(40, kernel_initializer=initializer)) ###\n",
    "    model.add(LeakyReLU(0.1))\n",
    "    model.add(Dropout(0.5))    \n",
    "    model.add(Dense(10, kernel_initializer=initializer)) ###\n",
    "    model.add(Activation(\"softmax\"))\n",
    "\n",
    "\n",
    "    model.compile(\n",
    "        loss='categorical_crossentropy',\n",
    "        optimizer=keras.optimizers.adamax(lr=INIT_LR),\n",
    "        metrics=['accuracy']\n",
    "    )\n",
    "  \n",
    "    history = model.fit(\n",
    "        x_train, y_train,\n",
    "        batch_size=BATCH_SIZE,\n",
    "        epochs=EPOCHS,\n",
    "        callbacks=[keras.callbacks.LearningRateScheduler(lr_scheduler)],                   \n",
    "        shuffle=True,\n",
    "        verbose=0,\n",
    "        initial_epoch=0    \n",
    "    )\n",
    "\n",
    "    # Возвращаем объект класса keras.callbacks.History\n",
    "    return history"
   ]
  },
  {
   "cell_type": "markdown",
   "metadata": {
    "colab_type": "text",
    "id": "bYkZkghfT4uN"
   },
   "source": [
    "**Задание 1.2** (1.5 балла). Обучите модель с разными [функциями инициализации](https://keras.io/initializers/) весов:\n",
    "* `Zeros` — веса инициализируются нулями\n",
    "* `Constant=0.05` — веса инициализируются константой 0.05\n",
    "* `RandomUniform` — веса генерируются равномерно из отрезка [-0.05, 0.05]\n",
    "* `glorot_normal` — Xavier initializer из лекций\n",
    "* `lecun_uniform`\n",
    "\n",
    "Добавьте в список `losses` значения функции потерь для каждой функции инициализации, их можно достать из `History`\n",
    "\n"
   ]
  },
  {
   "cell_type": "code",
   "execution_count": 0,
   "metadata": {
    "colab": {},
    "colab_type": "code",
    "id": "dTieYmgUmQ8G"
   },
   "outputs": [],
   "source": [
    "losses = []\n",
    "\n",
    "### YOUR CODE HERE\n",
    "losses.append(fit_model(keras.initializers.Zeros()).history['loss'])\n",
    "losses.append(fit_model(keras.initializers.Constant(value=0.05)).history['loss'])\n",
    "losses.append(fit_model(keras.initializers.RandomUniform()).history['loss'])\n",
    "losses.append(fit_model(keras.initializers.glorot_normal()).history['loss'])\n",
    "losses.append(fit_model(keras.initializers.lecun_uniform()).history['loss'])"
   ]
  },
  {
   "cell_type": "code",
   "execution_count": 0,
   "metadata": {
    "colab": {
     "base_uri": "https://localhost:8080/",
     "height": 187
    },
    "colab_type": "code",
    "id": "5l4654YMCvMn",
    "outputId": "30561417-a582-4e03-8539-02b7f61d0d0e"
   },
   "outputs": [
    {
     "data": {
      "text/plain": [
       "[2.3028939559936523,\n",
       " 2.3029106462860107,\n",
       " 2.302852676239014,\n",
       " 2.3028103694152833,\n",
       " 2.302768941040039,\n",
       " 2.302832008895874,\n",
       " 2.3027446990203857,\n",
       " 2.302769942779541,\n",
       " 2.302757896575928,\n",
       " 2.302703212661743]"
      ]
     },
     "execution_count": 16,
     "metadata": {
      "tags": []
     },
     "output_type": "execute_result"
    }
   ],
   "source": [
    "losses[0]\n"
   ]
  },
  {
   "cell_type": "markdown",
   "metadata": {
    "colab_type": "text",
    "id": "wsk8bCEPcOav"
   },
   "source": [
    "**Задание 1.3** (1 балла). Постройте графики зависимости функций потерь от номера итерации, подпишите их. Прокомментируйте результат."
   ]
  },
  {
   "cell_type": "code",
   "execution_count": 0,
   "metadata": {
    "colab": {
     "base_uri": "https://localhost:8080/",
     "height": 513
    },
    "colab_type": "code",
    "id": "3yqBZIYEAPWZ",
    "outputId": "1c783d27-4d0f-4268-f5f6-ff47aedbdbd1"
   },
   "outputs": [
    {
     "data": {
      "image/png": "[encoded data removed]",
      "text/plain": [
       "<Figure size 720x576 with 1 Axes>"
      ]
     },
     "metadata": {
      "tags": []
     },
     "output_type": "display_data"
    }
   ],
   "source": [
    "### YOUR CODE HERE\n",
    "plt.figure(figsize=(10,8))\n",
    "plt.plot(losses[0], label='initalizer Zeroes')\n",
    "plt.plot(losses[1], label='initalizer Constant')\n",
    "plt.plot(losses[2], label='initalizer RandomUniform')\n",
    "plt.plot(losses[3], label='initalizer glorot_normal')\n",
    "plt.plot(losses[4], label='initalizer lecun_uniform')\n",
    "    \n",
    "plt.legend(loc='upper right')\n",
    "plt.xlabel('Количество итераций')\n",
    "plt.ylabel('Значение функции потерь')\n",
    "plt.title('Задание: графики зависимости функций потерь от номера итерации') \n",
    "plt.show()"
   ]
  },
  {
   "cell_type": "markdown",
   "metadata": {
    "colab_type": "text",
    "id": "B4Zj_hwTHgzi"
   },
   "source": [
    "Значение функции потерь с initalizer Zeroes убывает очень медленно, практически незаметно в сравнении с другими моделями. \n",
    "Значения остальных функций потрь моделей убывают с примерно одинаковой скоростью. \n",
    "У модели с initalizer Constant самая неудачная инициализация на первой итерации с самым большим значением функци потерь, но она убывает наиболее быстро.\n",
    "У моделей с initalizer RandomUniform, glorot_normal и lecun_uniform близкие начальные значения функции потерь, убывают они тоже примерно одинаково. Модель с самым маленьким значением loss - это модель с initializer lecun_uniform.\n",
    "\n",
    "Это можно объяснить тем, что алгоритм с initalizer Zeroes практически не обучается, так как значения градиента все время близки к нулю. Чем более продвинутые и математически сложные инициализации реализуются - тем лучше результат. RandomUniform лучше, чем Constant, поскольку в RandomUniform получается избежать симметричности весов, чтобы они не получали одинаковых приращений. А lecun_uniform является улучением над RandomUniform, связанным с количеством входных значений. glorot_normal использует нормальное распределение и количество входных и выходных значений, и также является одним из лучших инициалайзеров."
   ]
  },
  {
   "cell_type": "markdown",
   "metadata": {
    "colab_type": "text",
    "id": "nellCcusBAZ8"
   },
   "source": [
    "## Задание 2 — CNN для CIFAR-10 с сохранением весов модели (7 баллов)\n",
    "\n",
    "В этом задании мы модифицируем нейросеть с семинара, чтобы она достигала большего значения `accuracy` и научимся сохранять веса модели в файл во время обучения. Можно использовать только те же слои, которые использовались на семинаре: `Conv2D, MaxPooling2D,  LeakyReLU, Dropout, Flatten, Dense`."
   ]
  },
  {
   "cell_type": "markdown",
   "metadata": {
    "colab_type": "text",
    "id": "xuVF3c2qJwyx"
   },
   "source": [
    "**Задание 2.1** (4 балла). Подберите архитектуру модели так, чтобы значение `accuracy` на тестовой выборке было не менее 85."
   ]
  },
  {
   "cell_type": "code",
   "execution_count": 0,
   "metadata": {
    "colab": {},
    "colab_type": "code",
    "id": "syKDJPUdCtoI"
   },
   "outputs": [],
   "source": [
    "def make_model():    \n",
    "\n",
    "    ### YOUR CODE HERE\n",
    "\n",
    "    initializer = keras.initializers.glorot_normal()\n",
    "    model = Sequential()\n",
    "    model.add(Conv2D(filters=32, padding='same', kernel_size=(3,3), input_shape=(32,32,3), kernel_initializer=initializer )) ###\n",
    "    model.add(LeakyReLU(0.1))\n",
    "    model.add(Conv2D(filters=32, padding='same', kernel_size=(3,3), kernel_initializer=initializer)) ### \n",
    "    model.add(LeakyReLU(0.1))\n",
    "    model.add(MaxPooling2D(pool_size=(2,2), padding='same'))\n",
    "    model.add(Dropout(0.25))\n",
    "    \n",
    "    model.add(Conv2D(filters=64, padding='same', kernel_size=(3,3), kernel_initializer=initializer )) ###\n",
    "    model.add(LeakyReLU(0.1))\n",
    "    model.add(Conv2D(filters=64, padding='same', kernel_size=(3,3), kernel_initializer=initializer)) ### \n",
    "    model.add(LeakyReLU(0.1))\n",
    "    model.add(MaxPooling2D(pool_size=(2,2), padding='same'))\n",
    "    model.add(Dropout(0.25))\n",
    "    \n",
    "    model.add(Conv2D(filters=128, padding='same', kernel_size=(3,3), kernel_initializer=initializer)) ### \n",
    "    model.add(LeakyReLU(0.1))\n",
    "    model.add(Conv2D(filters=128, padding='same', kernel_size=(3,3), kernel_initializer=initializer)) ### \n",
    "    model.add(LeakyReLU(0.1))\n",
    "    model.add(MaxPooling2D(pool_size=(2,2), padding='same'))\n",
    "    model.add(Dropout(0.25))\n",
    "    \n",
    "    model.add(Flatten())\n",
    "    model.add(Dense(256, kernel_initializer=initializer)) ###\n",
    "    model.add(LeakyReLU(0.1))\n",
    "    model.add(Dropout(0.5))    \n",
    "    model.add(Dense(10, kernel_initializer=initializer)) ###\n",
    "    model.add(Activation(\"softmax\"))\n",
    "    \n",
    "    return model\n",
    "        "
   ]
  },
  {
   "cell_type": "code",
   "execution_count": 0,
   "metadata": {
    "colab": {
     "base_uri": "https://localhost:8080/",
     "height": 969
    },
    "colab_type": "code",
    "id": "MoZifjkgFdcg",
    "outputId": "003d2be8-f74a-4271-9c9a-7a5f1e7cf7e0"
   },
   "outputs": [
    {
     "name": "stdout",
     "output_type": "stream",
     "text": [
      "Model: \"sequential_1\"\n",
      "_________________________________________________________________\n",
      "Layer (type)                 Output Shape              Param #   \n",
      "=================================================================\n",
      "conv2d_1 (Conv2D)            (None, 32, 32, 32)        896       \n",
      "_________________________________________________________________\n",
      "leaky_re_lu_1 (LeakyReLU)    (None, 32, 32, 32)        0         \n",
      "_________________________________________________________________\n",
      "conv2d_2 (Conv2D)            (None, 32, 32, 32)        9248      \n",
      "_________________________________________________________________\n",
      "leaky_re_lu_2 (LeakyReLU)    (None, 32, 32, 32)        0         \n",
      "_________________________________________________________________\n",
      "max_pooling2d_1 (MaxPooling2 (None, 16, 16, 32)        0         \n",
      "_________________________________________________________________\n",
      "dropout_1 (Dropout)          (None, 16, 16, 32)        0         \n",
      "_________________________________________________________________\n",
      "conv2d_3 (Conv2D)            (None, 16, 16, 64)        18496     \n",
      "_________________________________________________________________\n",
      "leaky_re_lu_3 (LeakyReLU)    (None, 16, 16, 64)        0         \n",
      "_________________________________________________________________\n",
      "conv2d_4 (Conv2D)            (None, 16, 16, 64)        36928     \n",
      "_________________________________________________________________\n",
      "leaky_re_lu_4 (LeakyReLU)    (None, 16, 16, 64)        0         \n",
      "_________________________________________________________________\n",
      "max_pooling2d_2 (MaxPooling2 (None, 8, 8, 64)          0         \n",
      "_________________________________________________________________\n",
      "dropout_2 (Dropout)          (None, 8, 8, 64)          0         \n",
      "_________________________________________________________________\n",
      "conv2d_5 (Conv2D)            (None, 8, 8, 128)         73856     \n",
      "_________________________________________________________________\n",
      "leaky_re_lu_5 (LeakyReLU)    (None, 8, 8, 128)         0         \n",
      "_________________________________________________________________\n",
      "conv2d_6 (Conv2D)            (None, 8, 8, 128)         147584    \n",
      "_________________________________________________________________\n",
      "leaky_re_lu_6 (LeakyReLU)    (None, 8, 8, 128)         0         \n",
      "_________________________________________________________________\n",
      "max_pooling2d_3 (MaxPooling2 (None, 4, 4, 128)         0         \n",
      "_________________________________________________________________\n",
      "dropout_3 (Dropout)          (None, 4, 4, 128)         0         \n",
      "_________________________________________________________________\n",
      "flatten_1 (Flatten)          (None, 2048)              0         \n",
      "_________________________________________________________________\n",
      "dense_1 (Dense)              (None, 256)               524544    \n",
      "_________________________________________________________________\n",
      "leaky_re_lu_7 (LeakyReLU)    (None, 256)               0         \n",
      "_________________________________________________________________\n",
      "dropout_4 (Dropout)          (None, 256)               0         \n",
      "_________________________________________________________________\n",
      "dense_2 (Dense)              (None, 10)                2570      \n",
      "_________________________________________________________________\n",
      "activation_1 (Activation)    (None, 10)                0         \n",
      "=================================================================\n",
      "Total params: 814,122\n",
      "Trainable params: 814,122\n",
      "Non-trainable params: 0\n",
      "_________________________________________________________________\n"
     ]
    }
   ],
   "source": [
    "s = reset_tf_session()\n",
    "model = make_model()\n",
    "model.summary()"
   ]
  },
  {
   "cell_type": "markdown",
   "metadata": {
    "colab_type": "text",
    "id": "JJLpZQhJGBqL"
   },
   "source": [
    "**Задание 2.2** (2 балла). Реализуйте колбэк, который сохраняет модель в `.hdf5` файл и печатает имя файла, в который была сохранена модель. Используйте функцию `model_save`. Строка с именем файла имеет вид `<name>_{0:02d}.hdf5`, отформатируйте ее так, чтобы в имени строки фигурировал номер эпохи."
   ]
  },
  {
   "cell_type": "code",
   "execution_count": 0,
   "metadata": {
    "colab": {},
    "colab_type": "code",
    "id": "xYjUeuDXGBII"
   },
   "outputs": [],
   "source": [
    "from keras.models import save_model, load_model\n",
    "\n",
    "class ModelSaveCallback(keras.callbacks.Callback):\n",
    "\n",
    "    def __init__(self, file_name):\n",
    "        super(ModelSaveCallback, self).__init__()\n",
    "        self.file_name = file_name\n",
    "\n",
    "    def on_epoch_end(self, epoch, logs=None):\n",
    "        ### YOUR CODE HERE\n",
    "        save_model(self.model, self.file_name.format(epoch+1))\n",
    "        print(self.file_name.format(epoch+1))\n"
   ]
  },
  {
   "cell_type": "markdown",
   "metadata": {
    "colab_type": "text",
    "id": "Svrwkh8ALpHa"
   },
   "source": [
    "**Задание 2.3** (1 балл). Реализуйте функцию, которая с помощью `load_model` будет загружать модель из файла."
   ]
  },
  {
   "cell_type": "code",
   "execution_count": 0,
   "metadata": {
    "colab": {},
    "colab_type": "code",
    "id": "fVD0P5V7M00C"
   },
   "outputs": [],
   "source": [
    "def load_from_file(model_filename, last_epoch):\n",
    "  ### YOUR CODE HERE\n",
    "  return load_model(model_filename.format(last_epoch))\n"
   ]
  },
  {
   "cell_type": "code",
   "execution_count": 0,
   "metadata": {
    "colab": {
     "base_uri": "https://localhost:8080/",
     "height": 1000
    },
    "colab_type": "code",
    "id": "zOLb6flQFjCw",
    "outputId": "3279d0b6-fab0-4c09-b142-978080dce979"
   },
   "outputs": [
    {
     "name": "stdout",
     "output_type": "stream",
     "text": [
      "Train on 50000 samples, validate on 10000 samples\n",
      "Epoch 1/20\n",
      "50000/50000 [==============================] - 40s 792us/step - loss: 1.4630 - acc: 0.4657 - val_loss: 0.9996 - val_acc: 0.6435\n",
      "weights_01.hdf5\n",
      "Epoch 2/20\n",
      "50000/50000 [==============================] - 37s 733us/step - loss: 0.9764 - acc: 0.6592 - val_loss: 0.8882 - val_acc: 0.6891\n",
      "weights_02.hdf5\n",
      "Epoch 3/20\n",
      "50000/50000 [==============================] - 37s 731us/step - loss: 0.8226 - acc: 0.7138 - val_loss: 0.6983 - val_acc: 0.7603\n",
      "weights_03.hdf5\n",
      "Epoch 4/20\n",
      "50000/50000 [==============================] - 37s 732us/step - loss: 0.7241 - acc: 0.7516 - val_loss: 0.6422 - val_acc: 0.7822\n",
      "weights_04.hdf5\n",
      "Epoch 5/20\n",
      "50000/50000 [==============================] - 36s 728us/step - loss: 0.6560 - acc: 0.7743 - val_loss: 0.6220 - val_acc: 0.7947\n",
      "weights_05.hdf5\n",
      "Epoch 6/20\n",
      "50000/50000 [==============================] - 37s 733us/step - loss: 0.5950 - acc: 0.7949 - val_loss: 0.5595 - val_acc: 0.8090\n",
      "weights_06.hdf5\n",
      "Epoch 7/20\n",
      "50000/50000 [==============================] - 37s 736us/step - loss: 0.5439 - acc: 0.8117 - val_loss: 0.5631 - val_acc: 0.8177\n",
      "weights_07.hdf5\n",
      "Epoch 8/20\n",
      "50000/50000 [==============================] - 37s 733us/step - loss: 0.5050 - acc: 0.8239 - val_loss: 0.5816 - val_acc: 0.8142\n",
      "weights_08.hdf5\n",
      "Epoch 9/20\n",
      "50000/50000 [==============================] - 37s 733us/step - loss: 0.4690 - acc: 0.8380 - val_loss: 0.5105 - val_acc: 0.8313\n",
      "weights_09.hdf5\n",
      "Epoch 10/20\n",
      "50000/50000 [==============================] - 37s 733us/step - loss: 0.4314 - acc: 0.8504 - val_loss: 0.5209 - val_acc: 0.8309\n",
      "weights_10.hdf5\n",
      "Epoch 11/20\n",
      "50000/50000 [==============================] - 37s 731us/step - loss: 0.4092 - acc: 0.8569 - val_loss: 0.5231 - val_acc: 0.8334\n",
      "weights_11.hdf5\n",
      "Epoch 12/20\n",
      "50000/50000 [==============================] - 37s 737us/step - loss: 0.3834 - acc: 0.8667 - val_loss: 0.5527 - val_acc: 0.8366\n",
      "weights_12.hdf5\n",
      "Epoch 13/20\n",
      "50000/50000 [==============================] - 37s 733us/step - loss: 0.3617 - acc: 0.8743 - val_loss: 0.5056 - val_acc: 0.8437\n",
      "weights_13.hdf5\n",
      "Epoch 14/20\n",
      "50000/50000 [==============================] - 37s 734us/step - loss: 0.3417 - acc: 0.8818 - val_loss: 0.4998 - val_acc: 0.8486\n",
      "weights_14.hdf5\n",
      "Epoch 15/20\n",
      "50000/50000 [==============================] - 37s 734us/step - loss: 0.3217 - acc: 0.8866 - val_loss: 0.4977 - val_acc: 0.8467\n",
      "weights_15.hdf5\n",
      "Epoch 16/20\n",
      "50000/50000 [==============================] - 37s 735us/step - loss: 0.3090 - acc: 0.8913 - val_loss: 0.5184 - val_acc: 0.8466\n",
      "weights_16.hdf5\n",
      "Epoch 17/20\n",
      "50000/50000 [==============================] - 37s 732us/step - loss: 0.2943 - acc: 0.8953 - val_loss: 0.5387 - val_acc: 0.8495\n",
      "weights_17.hdf5\n",
      "Epoch 18/20\n",
      "50000/50000 [==============================] - 37s 733us/step - loss: 0.2792 - acc: 0.9016 - val_loss: 0.5053 - val_acc: 0.8516\n",
      "weights_18.hdf5\n",
      "Epoch 19/20\n",
      "50000/50000 [==============================] - 37s 733us/step - loss: 0.2694 - acc: 0.9046 - val_loss: 0.4990 - val_acc: 0.8566\n",
      "weights_19.hdf5\n",
      "Epoch 20/20\n",
      "50000/50000 [==============================] - 37s 734us/step - loss: 0.2574 - acc: 0.9078 - val_loss: 0.5055 - val_acc: 0.8568\n",
      "weights_20.hdf5\n"
     ]
    }
   ],
   "source": [
    "INIT_LR = 5e-3\n",
    "BATCH_SIZE = 32\n",
    "EPOCHS = 20\n",
    "\n",
    "model_filename = 'weights_{0:02d}.hdf5'\n",
    "\n",
    "s = reset_tf_session()\n",
    "\n",
    "model = make_model()\n",
    "\n",
    "model.compile(\n",
    "    loss='categorical_crossentropy',\n",
    "    optimizer=keras.optimizers.adamax(lr=INIT_LR),\n",
    "    metrics=['accuracy']\n",
    ")\n",
    "\n",
    "def lr_scheduler(epoch):\n",
    "    return INIT_LR * 0.9 ** epoch \n",
    "\n",
    "# в случае, если обучение было прервано, можно загрузить модель из файла, \n",
    "# соответствующего последней эпохе, за которую есть сохраненные веса\n",
    "# model = load_from_file(model_filename, 4)\n",
    "  \n",
    "history = model.fit(\n",
    "    x_train, y_train,\n",
    "    batch_size=BATCH_SIZE,\n",
    "    epochs=EPOCHS,\n",
    "    callbacks=[keras.callbacks.LearningRateScheduler(lr_scheduler), \n",
    "               # не забудьте передать сюда ModelSaveCallback\n",
    "               ModelSaveCallback(model_filename)\n",
    "              ],\n",
    "    validation_data=(x_test, y_test),\n",
    "    shuffle=True,\n",
    "    verbose=1,\n",
    "    initial_epoch=0    \n",
    ")\n",
    "  "
   ]
  }
 ],
 "metadata": {
  "accelerator": "GPU",
  "colab": {
   "collapsed_sections": [],
   "name": "hw3 Samodelkina.ipynb",
   "provenance": [],
   "toc_visible": true
  },
  "kernelspec": {
   "display_name": "Python 3",
   "language": "python",
   "name": "python3"
  },
  "language_info": {
   "codemirror_mode": {
    "name": "ipython",
    "version": 3
   },
   "file_extension": ".py",
   "mimetype": "text/x-python",
   "name": "python",
   "nbconvert_exporter": "python",
   "pygments_lexer": "ipython3",
   "version": "3.7.1"
  }
 },
 "nbformat": 4,
 "nbformat_minor": 1
}
